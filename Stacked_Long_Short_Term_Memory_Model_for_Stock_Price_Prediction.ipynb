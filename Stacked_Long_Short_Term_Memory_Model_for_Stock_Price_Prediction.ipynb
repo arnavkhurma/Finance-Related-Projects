{
  "nbformat": 4,
  "nbformat_minor": 0,
  "metadata": {
    "colab": {
      "provenance": [],
      "authorship_tag": "ABX9TyN2iIQnENP+Mxisysse32I6"
    },
    "kernelspec": {
      "name": "python3",
      "display_name": "Python 3"
    },
    "language_info": {
      "name": "python"
    }
  },
  "cells": [
    {
      "cell_type": "markdown",
      "source": [
        "# **Stacked LTSM Model for Stock Price Prediction**\n"
      ],
      "metadata": {
        "id": "F_DuGZFJoc2K"
      }
    },
    {
      "cell_type": "code",
      "execution_count": 72,
      "metadata": {
        "colab": {
          "base_uri": "https://localhost:8080/"
        },
        "id": "qs7FssWpoUE1",
        "outputId": "247b62f1-c091-449d-b1fd-aa04ac05483e"
      },
      "outputs": [
        {
          "name": "stdout",
          "output_type": "stream",
          "text": [
            "Enter Stock Ticker: AAPL\n"
          ]
        },
        {
          "output_type": "stream",
          "name": "stderr",
          "text": [
            "<ipython-input-72-e7b0af6bfe10>:16: FutureWarning: In a future version of pandas all arguments of concat except for the argument 'objs' will be keyword-only.\n",
            "  dataFrame = reader.get_data_tiingo(stock, api_key= '97edc0f44b60fb2b588a96724400828e8daeed79')\n"
          ]
        }
      ],
      "source": [
        "# importing the necessary libraries\n",
        "import pandas as pd\n",
        "import numpy as np\n",
        "import pandas_datareader as reader\n",
        "import matplotlib.pyplot as plt\n",
        "import math as calculate\n",
        "from sklearn.metrics import mean_squared_error\n",
        "from sklearn.preprocessing import MinMaxScaler\n",
        "from tensorflow.keras.models import Sequential\n",
        "from tensorflow.keras.layers import LSTM\n",
        "from tensorflow.keras.layers import Dense\n",
        "import tensorflow\n",
        "\n",
        "# Using the Tiingo API to access daily financial data\n",
        "stock = input(\"Enter Stock Ticker: \")\n",
        "dataFrame = reader.get_data_tiingo(stock, api_key= '97edc0f44b60fb2b588a96724400828e8daeed79')\n",
        "\n",
        "# Exporting data to CSV File.\n",
        "dataFrame.to_csv('data.csv')"
      ]
    },
    {
      "cell_type": "code",
      "source": [
        "# Selecting only the close data for this prediction:\n",
        "dataFrame = pd.read_csv('data.csv')\n",
        "dataFrame = dataFrame.loc[dataFrame[\"date\"] >= '2020-09-12']\n",
        "dataFrame.index = np.arange(0, len(dataFrame))\n",
        "dataFrame.tail(5)"
      ],
      "metadata": {
        "colab": {
          "base_uri": "https://localhost:8080/",
          "height": 250
        },
        "id": "pMlnESRYxl4f",
        "outputId": "22547c08-959b-4c64-865b-160a70daab67"
      },
      "execution_count": 73,
      "outputs": [
        {
          "output_type": "execute_result",
          "data": {
            "text/plain": [
              "    symbol                       date   close     high      low     open  \\\n",
              "685   AAPL  2023-06-05 00:00:00+00:00  179.58  184.951  178.035  182.630   \n",
              "686   AAPL  2023-06-06 00:00:00+00:00  179.21  180.120  177.430  179.965   \n",
              "687   AAPL  2023-06-07 00:00:00+00:00  177.82  181.210  177.320  178.440   \n",
              "688   AAPL  2023-06-08 00:00:00+00:00  180.57  180.840  177.460  177.895   \n",
              "689   AAPL  2023-06-09 00:00:00+00:00  180.96  182.230  180.630  181.500   \n",
              "\n",
              "        volume  adjClose  adjHigh   adjLow  adjOpen  adjVolume  divCash  \\\n",
              "685  121946497    179.58  184.951  178.035  182.630  121946497      0.0   \n",
              "686   64848374    179.21  180.120  177.430  179.965   64848374      0.0   \n",
              "687   61944615    177.82  181.210  177.320  178.440   61944615      0.0   \n",
              "688   50214881    180.57  180.840  177.460  177.895   50214881      0.0   \n",
              "689   48899973    180.96  182.230  180.630  181.500   48899973      0.0   \n",
              "\n",
              "     splitFactor  \n",
              "685          1.0  \n",
              "686          1.0  \n",
              "687          1.0  \n",
              "688          1.0  \n",
              "689          1.0  "
            ],
            "text/html": [
              "\n",
              "  <div id=\"df-88e9889f-33b0-46ba-9058-858cbc4e9468\">\n",
              "    <div class=\"colab-df-container\">\n",
              "      <div>\n",
              "<style scoped>\n",
              "    .dataframe tbody tr th:only-of-type {\n",
              "        vertical-align: middle;\n",
              "    }\n",
              "\n",
              "    .dataframe tbody tr th {\n",
              "        vertical-align: top;\n",
              "    }\n",
              "\n",
              "    .dataframe thead th {\n",
              "        text-align: right;\n",
              "    }\n",
              "</style>\n",
              "<table border=\"1\" class=\"dataframe\">\n",
              "  <thead>\n",
              "    <tr style=\"text-align: right;\">\n",
              "      <th></th>\n",
              "      <th>symbol</th>\n",
              "      <th>date</th>\n",
              "      <th>close</th>\n",
              "      <th>high</th>\n",
              "      <th>low</th>\n",
              "      <th>open</th>\n",
              "      <th>volume</th>\n",
              "      <th>adjClose</th>\n",
              "      <th>adjHigh</th>\n",
              "      <th>adjLow</th>\n",
              "      <th>adjOpen</th>\n",
              "      <th>adjVolume</th>\n",
              "      <th>divCash</th>\n",
              "      <th>splitFactor</th>\n",
              "    </tr>\n",
              "  </thead>\n",
              "  <tbody>\n",
              "    <tr>\n",
              "      <th>685</th>\n",
              "      <td>AAPL</td>\n",
              "      <td>2023-06-05 00:00:00+00:00</td>\n",
              "      <td>179.58</td>\n",
              "      <td>184.951</td>\n",
              "      <td>178.035</td>\n",
              "      <td>182.630</td>\n",
              "      <td>121946497</td>\n",
              "      <td>179.58</td>\n",
              "      <td>184.951</td>\n",
              "      <td>178.035</td>\n",
              "      <td>182.630</td>\n",
              "      <td>121946497</td>\n",
              "      <td>0.0</td>\n",
              "      <td>1.0</td>\n",
              "    </tr>\n",
              "    <tr>\n",
              "      <th>686</th>\n",
              "      <td>AAPL</td>\n",
              "      <td>2023-06-06 00:00:00+00:00</td>\n",
              "      <td>179.21</td>\n",
              "      <td>180.120</td>\n",
              "      <td>177.430</td>\n",
              "      <td>179.965</td>\n",
              "      <td>64848374</td>\n",
              "      <td>179.21</td>\n",
              "      <td>180.120</td>\n",
              "      <td>177.430</td>\n",
              "      <td>179.965</td>\n",
              "      <td>64848374</td>\n",
              "      <td>0.0</td>\n",
              "      <td>1.0</td>\n",
              "    </tr>\n",
              "    <tr>\n",
              "      <th>687</th>\n",
              "      <td>AAPL</td>\n",
              "      <td>2023-06-07 00:00:00+00:00</td>\n",
              "      <td>177.82</td>\n",
              "      <td>181.210</td>\n",
              "      <td>177.320</td>\n",
              "      <td>178.440</td>\n",
              "      <td>61944615</td>\n",
              "      <td>177.82</td>\n",
              "      <td>181.210</td>\n",
              "      <td>177.320</td>\n",
              "      <td>178.440</td>\n",
              "      <td>61944615</td>\n",
              "      <td>0.0</td>\n",
              "      <td>1.0</td>\n",
              "    </tr>\n",
              "    <tr>\n",
              "      <th>688</th>\n",
              "      <td>AAPL</td>\n",
              "      <td>2023-06-08 00:00:00+00:00</td>\n",
              "      <td>180.57</td>\n",
              "      <td>180.840</td>\n",
              "      <td>177.460</td>\n",
              "      <td>177.895</td>\n",
              "      <td>50214881</td>\n",
              "      <td>180.57</td>\n",
              "      <td>180.840</td>\n",
              "      <td>177.460</td>\n",
              "      <td>177.895</td>\n",
              "      <td>50214881</td>\n",
              "      <td>0.0</td>\n",
              "      <td>1.0</td>\n",
              "    </tr>\n",
              "    <tr>\n",
              "      <th>689</th>\n",
              "      <td>AAPL</td>\n",
              "      <td>2023-06-09 00:00:00+00:00</td>\n",
              "      <td>180.96</td>\n",
              "      <td>182.230</td>\n",
              "      <td>180.630</td>\n",
              "      <td>181.500</td>\n",
              "      <td>48899973</td>\n",
              "      <td>180.96</td>\n",
              "      <td>182.230</td>\n",
              "      <td>180.630</td>\n",
              "      <td>181.500</td>\n",
              "      <td>48899973</td>\n",
              "      <td>0.0</td>\n",
              "      <td>1.0</td>\n",
              "    </tr>\n",
              "  </tbody>\n",
              "</table>\n",
              "</div>\n",
              "      <button class=\"colab-df-convert\" onclick=\"convertToInteractive('df-88e9889f-33b0-46ba-9058-858cbc4e9468')\"\n",
              "              title=\"Convert this dataframe to an interactive table.\"\n",
              "              style=\"display:none;\">\n",
              "        \n",
              "  <svg xmlns=\"http://www.w3.org/2000/svg\" height=\"24px\"viewBox=\"0 0 24 24\"\n",
              "       width=\"24px\">\n",
              "    <path d=\"M0 0h24v24H0V0z\" fill=\"none\"/>\n",
              "    <path d=\"M18.56 5.44l.94 2.06.94-2.06 2.06-.94-2.06-.94-.94-2.06-.94 2.06-2.06.94zm-11 1L8.5 8.5l.94-2.06 2.06-.94-2.06-.94L8.5 2.5l-.94 2.06-2.06.94zm10 10l.94 2.06.94-2.06 2.06-.94-2.06-.94-.94-2.06-.94 2.06-2.06.94z\"/><path d=\"M17.41 7.96l-1.37-1.37c-.4-.4-.92-.59-1.43-.59-.52 0-1.04.2-1.43.59L10.3 9.45l-7.72 7.72c-.78.78-.78 2.05 0 2.83L4 21.41c.39.39.9.59 1.41.59.51 0 1.02-.2 1.41-.59l7.78-7.78 2.81-2.81c.8-.78.8-2.07 0-2.86zM5.41 20L4 18.59l7.72-7.72 1.47 1.35L5.41 20z\"/>\n",
              "  </svg>\n",
              "      </button>\n",
              "      \n",
              "  <style>\n",
              "    .colab-df-container {\n",
              "      display:flex;\n",
              "      flex-wrap:wrap;\n",
              "      gap: 12px;\n",
              "    }\n",
              "\n",
              "    .colab-df-convert {\n",
              "      background-color: #E8F0FE;\n",
              "      border: none;\n",
              "      border-radius: 50%;\n",
              "      cursor: pointer;\n",
              "      display: none;\n",
              "      fill: #1967D2;\n",
              "      height: 32px;\n",
              "      padding: 0 0 0 0;\n",
              "      width: 32px;\n",
              "    }\n",
              "\n",
              "    .colab-df-convert:hover {\n",
              "      background-color: #E2EBFA;\n",
              "      box-shadow: 0px 1px 2px rgba(60, 64, 67, 0.3), 0px 1px 3px 1px rgba(60, 64, 67, 0.15);\n",
              "      fill: #174EA6;\n",
              "    }\n",
              "\n",
              "    [theme=dark] .colab-df-convert {\n",
              "      background-color: #3B4455;\n",
              "      fill: #D2E3FC;\n",
              "    }\n",
              "\n",
              "    [theme=dark] .colab-df-convert:hover {\n",
              "      background-color: #434B5C;\n",
              "      box-shadow: 0px 1px 3px 1px rgba(0, 0, 0, 0.15);\n",
              "      filter: drop-shadow(0px 1px 2px rgba(0, 0, 0, 0.3));\n",
              "      fill: #FFFFFF;\n",
              "    }\n",
              "  </style>\n",
              "\n",
              "      <script>\n",
              "        const buttonEl =\n",
              "          document.querySelector('#df-88e9889f-33b0-46ba-9058-858cbc4e9468 button.colab-df-convert');\n",
              "        buttonEl.style.display =\n",
              "          google.colab.kernel.accessAllowed ? 'block' : 'none';\n",
              "\n",
              "        async function convertToInteractive(key) {\n",
              "          const element = document.querySelector('#df-88e9889f-33b0-46ba-9058-858cbc4e9468');\n",
              "          const dataTable =\n",
              "            await google.colab.kernel.invokeFunction('convertToInteractive',\n",
              "                                                     [key], {});\n",
              "          if (!dataTable) return;\n",
              "\n",
              "          const docLinkHtml = 'Like what you see? Visit the ' +\n",
              "            '<a target=\"_blank\" href=https://colab.research.google.com/notebooks/data_table.ipynb>data table notebook</a>'\n",
              "            + ' to learn more about interactive tables.';\n",
              "          element.innerHTML = '';\n",
              "          dataTable['output_type'] = 'display_data';\n",
              "          await google.colab.output.renderOutput(dataTable, element);\n",
              "          const docLink = document.createElement('div');\n",
              "          docLink.innerHTML = docLinkHtml;\n",
              "          element.appendChild(docLink);\n",
              "        }\n",
              "      </script>\n",
              "    </div>\n",
              "  </div>\n",
              "  "
            ]
          },
          "metadata": {},
          "execution_count": 73
        }
      ]
    },
    {
      "cell_type": "code",
      "source": [
        "# Plotting the close prices from \n",
        "dataFrame = dataFrame[\"close\"]\n",
        "plt.plot(dataFrame)\n",
        "plt.xlabel(\"Days since 2020-09-14\")\n",
        "plt.ylabel(stock + \" Stock Price\")"
      ],
      "metadata": {
        "colab": {
          "base_uri": "https://localhost:8080/",
          "height": 467
        },
        "id": "CwnGT7HT0zRq",
        "outputId": "bbda23e2-f712-44cf-ec6c-5168a2890ef7"
      },
      "execution_count": 74,
      "outputs": [
        {
          "output_type": "execute_result",
          "data": {
            "text/plain": [
              "Text(0, 0.5, 'AAPL Stock Price')"
            ]
          },
          "metadata": {},
          "execution_count": 74
        },
        {
          "output_type": "display_data",
          "data": {
            "text/plain": [
              "<Figure size 640x480 with 1 Axes>"
            ],
            "image/png": "[encoded data removed]"
          },
          "metadata": {}
        }
      ]
    },
    {
      "cell_type": "code",
      "source": [
        "dataFrame"
      ],
      "metadata": {
        "colab": {
          "base_uri": "https://localhost:8080/"
        },
        "id": "O0M8kOA4cdUI",
        "outputId": "7e1b822f-2224-42ae-e913-67596f725b87"
      },
      "execution_count": 75,
      "outputs": [
        {
          "output_type": "execute_result",
          "data": {
            "text/plain": [
              "0      115.355\n",
              "1      115.540\n",
              "2      112.130\n",
              "3      110.340\n",
              "4      106.840\n",
              "        ...   \n",
              "685    179.580\n",
              "686    179.210\n",
              "687    177.820\n",
              "688    180.570\n",
              "689    180.960\n",
              "Name: close, Length: 690, dtype: float64"
            ]
          },
          "metadata": {},
          "execution_count": 75
        }
      ]
    },
    {
      "cell_type": "code",
      "source": [
        "# As LTSM Models are sensititve to the scale of the data, we will transform \n",
        "# the data using the MinMax Scaler.\n",
        "scaler = MinMaxScaler(feature_range = (0, 1))\n",
        "dataFrame = scaler.fit_transform(np.array(dataFrame).reshape(-1, 1))\n",
        "\n",
        "# dataFrame is now converted to an array of values from 0 to 1 for the LTSM Model.\n",
        "# Now we will preprocess our data and split into Training and Testing Data\n",
        "size = len(dataFrame)\n",
        "size_training = int(size * .75)               # 75% of the data\n",
        "size_validation = int(size - size_training)   # 25% of the data\n",
        "print(\"Training Size for this model is\", size_training, \"datapoints.\")\n",
        "print(\"Validation Size for this model is\", size_validation, \"datapoints.\")"
      ],
      "metadata": {
        "colab": {
          "base_uri": "https://localhost:8080/"
        },
        "id": "Mbbu_FDn1QC8",
        "outputId": "49831064-ec9d-40c8-eb64-ddd9be494a88"
      },
      "execution_count": 76,
      "outputs": [
        {
          "output_type": "stream",
          "name": "stdout",
          "text": [
            "Training Size for this model is 517 datapoints.\n",
            "Validation Size for this model is 173 datapoints.\n"
          ]
        }
      ]
    },
    {
      "cell_type": "code",
      "source": [
        "training_data = dataFrame[0:size_training, :]\n",
        "validation_data = dataFrame[len(training_data):len(dataFrame), :]\n",
        "len(training_data), len(validation_data)"
      ],
      "metadata": {
        "colab": {
          "base_uri": "https://localhost:8080/"
        },
        "id": "OKf56EgKcbym",
        "outputId": "6003c024-563c-4497-8cd0-c6a3a83e3554"
      },
      "execution_count": 77,
      "outputs": [
        {
          "output_type": "execute_result",
          "data": {
            "text/plain": [
              "(517, 173)"
            ]
          },
          "metadata": {},
          "execution_count": 77
        }
      ]
    },
    {
      "cell_type": "code",
      "source": [
        "# Now we will convert the array of values into a matrix using a function.\n",
        "def create_dataset(dataset, time_step = 1):\n",
        "  dataX = []\n",
        "  dataY = []\n",
        "  for i in range(len(dataset)-1-time_step):\n",
        "    a = dataset[i:(i + time_step), 0]\n",
        "    dataX.append(a)\n",
        "    dataY.append(dataset[i + time_step, 0])\n",
        "  return np.array(dataX), np.array(dataY)"
      ],
      "metadata": {
        "id": "8YnJXURJZdbk"
      },
      "execution_count": 78,
      "outputs": []
    },
    {
      "cell_type": "code",
      "source": [
        "time_step = 100\n",
        "x_train, y_train = create_dataset(training_data, time_step)\n",
        "x_validate, y_validate = create_dataset(validation_data, time_step)\n",
        "x_train.shape, y_train.shape, x_validate.shape, y_validate.shape"
      ],
      "metadata": {
        "colab": {
          "base_uri": "https://localhost:8080/"
        },
        "id": "hoiWcS35t3q1",
        "outputId": "2728034a-6c82-4b4c-ae06-748cd9db9c11"
      },
      "execution_count": 79,
      "outputs": [
        {
          "output_type": "execute_result",
          "data": {
            "text/plain": [
              "((416, 100), (416,), (72, 100), (72,))"
            ]
          },
          "metadata": {},
          "execution_count": 79
        }
      ]
    },
    {
      "cell_type": "code",
      "source": [
        "# Now we will reshape to transform the data into a 3 dimensional matrix,\n",
        "# in order to create the stacked LSTM Model.\n",
        "# Format is [data, timestep, feature]\n",
        "x_train = x_train.reshape(x_train.shape[0], x_train.shape[1], 1)\n",
        "x_validate = x_validate.reshape(x_validate.shape[0], x_validate.shape[1], 1)"
      ],
      "metadata": {
        "id": "Lie3A98awITE"
      },
      "execution_count": 80,
      "outputs": []
    },
    {
      "cell_type": "code",
      "source": [
        "lstm_model = Sequential()\n",
        "lstm_model.add(LSTM(50, return_sequences = True, input_shape = (100, 1)))\n",
        "lstm_model.add(LSTM(50, return_sequences = True))\n",
        "lstm_model.add(LSTM(50))\n",
        "lstm_model.add(Dense(1))\n",
        "lstm_model.compile(loss = \"mean_squared_error\", optimizer = \"adam\")\n",
        "model_summary = lstm_model.summary()"
      ],
      "metadata": {
        "colab": {
          "base_uri": "https://localhost:8080/"
        },
        "id": "StzE6W2SFrgU",
        "outputId": "837c9e79-b8a4-489f-8593-3b76641d5ef7"
      },
      "execution_count": 81,
      "outputs": [
        {
          "output_type": "stream",
          "name": "stdout",
          "text": [
            "Model: \"sequential_2\"\n",
            "_________________________________________________________________\n",
            " Layer (type)                Output Shape              Param #   \n",
            "=================================================================\n",
            " lstm_6 (LSTM)               (None, 100, 50)           10400     \n",
            "                                                                 \n",
            " lstm_7 (LSTM)               (None, 100, 50)           20200     \n",
            "                                                                 \n",
            " lstm_8 (LSTM)               (None, 50)                20200     \n",
            "                                                                 \n",
            " dense_2 (Dense)             (None, 1)                 51        \n",
            "                                                                 \n",
            "=================================================================\n",
            "Total params: 50,851\n",
            "Trainable params: 50,851\n",
            "Non-trainable params: 0\n",
            "_________________________________________________________________\n"
          ]
        }
      ]
    },
    {
      "cell_type": "code",
      "source": [
        "lstm_model.fit(x_train, y_train, validation_data = (x_validate, y_validate), epochs = 100, batch_size = 64, verbose=1)"
      ],
      "metadata": {
        "colab": {
          "base_uri": "https://localhost:8080/"
        },
        "id": "gdVk7vQ0HhDo",
        "outputId": "56d1734e-a3eb-44be-9652-0fae4949b4e0"
      },
      "execution_count": 82,
      "outputs": [
        {
          "output_type": "stream",
          "name": "stdout",
          "text": [
            "Epoch 1/100\n",
            "7/7 [==============================] - 9s 402ms/step - loss: 0.1803 - val_loss: 0.0317\n",
            "Epoch 2/100\n",
            "7/7 [==============================] - 1s 201ms/step - loss: 0.0442 - val_loss: 0.0712\n",
            "Epoch 3/100\n",
            "7/7 [==============================] - 1s 201ms/step - loss: 0.0334 - val_loss: 0.0252\n",
            "Epoch 4/100\n",
            "7/7 [==============================] - 1s 198ms/step - loss: 0.0169 - val_loss: 0.0041\n",
            "Epoch 5/100\n",
            "7/7 [==============================] - 1s 201ms/step - loss: 0.0152 - val_loss: 0.0247\n",
            "Epoch 6/100\n",
            "7/7 [==============================] - 2s 297ms/step - loss: 0.0153 - val_loss: 0.0132\n",
            "Epoch 7/100\n",
            "7/7 [==============================] - 2s 294ms/step - loss: 0.0138 - val_loss: 0.0065\n",
            "Epoch 8/100\n",
            "7/7 [==============================] - 1s 201ms/step - loss: 0.0117 - val_loss: 0.0152\n",
            "Epoch 9/100\n",
            "7/7 [==============================] - 1s 198ms/step - loss: 0.0111 - val_loss: 0.0056\n",
            "Epoch 10/100\n",
            "7/7 [==============================] - 1s 199ms/step - loss: 0.0105 - val_loss: 0.0091\n",
            "Epoch 11/100\n",
            "7/7 [==============================] - 1s 198ms/step - loss: 0.0099 - val_loss: 0.0053\n",
            "Epoch 12/100\n",
            "7/7 [==============================] - 1s 196ms/step - loss: 0.0094 - val_loss: 0.0065\n",
            "Epoch 13/100\n",
            "7/7 [==============================] - 1s 202ms/step - loss: 0.0090 - val_loss: 0.0064\n",
            "Epoch 14/100\n",
            "7/7 [==============================] - 1s 197ms/step - loss: 0.0085 - val_loss: 0.0064\n",
            "Epoch 15/100\n",
            "7/7 [==============================] - 2s 341ms/step - loss: 0.0080 - val_loss: 0.0039\n",
            "Epoch 16/100\n",
            "7/7 [==============================] - 2s 221ms/step - loss: 0.0077 - val_loss: 0.0042\n",
            "Epoch 17/100\n",
            "7/7 [==============================] - 1s 195ms/step - loss: 0.0072 - val_loss: 0.0087\n",
            "Epoch 18/100\n",
            "7/7 [==============================] - 1s 198ms/step - loss: 0.0075 - val_loss: 0.0026\n",
            "Epoch 19/100\n",
            "7/7 [==============================] - 1s 201ms/step - loss: 0.0072 - val_loss: 0.0029\n",
            "Epoch 20/100\n",
            "7/7 [==============================] - 1s 199ms/step - loss: 0.0068 - val_loss: 0.0038\n",
            "Epoch 21/100\n",
            "7/7 [==============================] - 1s 196ms/step - loss: 0.0064 - val_loss: 0.0042\n",
            "Epoch 22/100\n",
            "7/7 [==============================] - 1s 196ms/step - loss: 0.0061 - val_loss: 0.0022\n",
            "Epoch 23/100\n",
            "7/7 [==============================] - 2s 271ms/step - loss: 0.0064 - val_loss: 0.0027\n",
            "Epoch 24/100\n",
            "7/7 [==============================] - 2s 307ms/step - loss: 0.0060 - val_loss: 0.0033\n",
            "Epoch 25/100\n",
            "7/7 [==============================] - 1s 198ms/step - loss: 0.0058 - val_loss: 0.0034\n",
            "Epoch 26/100\n",
            "7/7 [==============================] - 1s 207ms/step - loss: 0.0058 - val_loss: 0.0022\n",
            "Epoch 27/100\n",
            "7/7 [==============================] - 1s 197ms/step - loss: 0.0058 - val_loss: 0.0022\n",
            "Epoch 28/100\n",
            "7/7 [==============================] - 1s 197ms/step - loss: 0.0055 - val_loss: 0.0043\n",
            "Epoch 29/100\n",
            "7/7 [==============================] - 1s 200ms/step - loss: 0.0053 - val_loss: 0.0037\n",
            "Epoch 30/100\n",
            "7/7 [==============================] - 1s 196ms/step - loss: 0.0057 - val_loss: 0.0024\n",
            "Epoch 31/100\n",
            "7/7 [==============================] - 1s 210ms/step - loss: 0.0057 - val_loss: 0.0018\n",
            "Epoch 32/100\n",
            "7/7 [==============================] - 2s 339ms/step - loss: 0.0053 - val_loss: 0.0019\n",
            "Epoch 33/100\n",
            "7/7 [==============================] - 2s 223ms/step - loss: 0.0050 - val_loss: 0.0021\n",
            "Epoch 34/100\n",
            "7/7 [==============================] - 1s 199ms/step - loss: 0.0050 - val_loss: 0.0015\n",
            "Epoch 35/100\n",
            "7/7 [==============================] - 1s 203ms/step - loss: 0.0053 - val_loss: 0.0027\n",
            "Epoch 36/100\n",
            "7/7 [==============================] - 1s 199ms/step - loss: 0.0051 - val_loss: 0.0060\n",
            "Epoch 37/100\n",
            "7/7 [==============================] - 1s 197ms/step - loss: 0.0052 - val_loss: 0.0057\n",
            "Epoch 38/100\n",
            "7/7 [==============================] - 1s 198ms/step - loss: 0.0050 - val_loss: 0.0016\n",
            "Epoch 39/100\n",
            "7/7 [==============================] - 1s 196ms/step - loss: 0.0047 - val_loss: 0.0017\n",
            "Epoch 40/100\n",
            "7/7 [==============================] - 2s 276ms/step - loss: 0.0044 - val_loss: 0.0044\n",
            "Epoch 41/100\n",
            "7/7 [==============================] - 2s 301ms/step - loss: 0.0046 - val_loss: 0.0037\n",
            "Epoch 42/100\n",
            "7/7 [==============================] - 1s 199ms/step - loss: 0.0048 - val_loss: 0.0032\n",
            "Epoch 43/100\n",
            "7/7 [==============================] - 1s 198ms/step - loss: 0.0044 - val_loss: 0.0022\n",
            "Epoch 44/100\n",
            "7/7 [==============================] - 1s 204ms/step - loss: 0.0042 - val_loss: 0.0014\n",
            "Epoch 45/100\n",
            "7/7 [==============================] - 1s 197ms/step - loss: 0.0040 - val_loss: 0.0036\n",
            "Epoch 46/100\n",
            "7/7 [==============================] - 1s 202ms/step - loss: 0.0040 - val_loss: 0.0025\n",
            "Epoch 47/100\n",
            "7/7 [==============================] - 1s 197ms/step - loss: 0.0040 - val_loss: 0.0040\n",
            "Epoch 48/100\n",
            "7/7 [==============================] - 1s 208ms/step - loss: 0.0039 - val_loss: 0.0017\n",
            "Epoch 49/100\n",
            "7/7 [==============================] - 2s 345ms/step - loss: 0.0039 - val_loss: 0.0020\n",
            "Epoch 50/100\n",
            "7/7 [==============================] - 2s 209ms/step - loss: 0.0041 - val_loss: 0.0023\n",
            "Epoch 51/100\n",
            "7/7 [==============================] - 1s 201ms/step - loss: 0.0042 - val_loss: 0.0015\n",
            "Epoch 52/100\n",
            "7/7 [==============================] - 1s 201ms/step - loss: 0.0040 - val_loss: 0.0013\n",
            "Epoch 53/100\n",
            "7/7 [==============================] - 1s 202ms/step - loss: 0.0039 - val_loss: 0.0021\n",
            "Epoch 54/100\n",
            "7/7 [==============================] - 1s 197ms/step - loss: 0.0043 - val_loss: 0.0014\n",
            "Epoch 55/100\n",
            "7/7 [==============================] - 1s 207ms/step - loss: 0.0038 - val_loss: 0.0021\n",
            "Epoch 56/100\n",
            "7/7 [==============================] - 1s 200ms/step - loss: 0.0034 - val_loss: 0.0023\n",
            "Epoch 57/100\n",
            "7/7 [==============================] - 2s 305ms/step - loss: 0.0033 - val_loss: 0.0016\n",
            "Epoch 58/100\n",
            "7/7 [==============================] - 2s 278ms/step - loss: 0.0032 - val_loss: 0.0021\n",
            "Epoch 59/100\n",
            "7/7 [==============================] - 1s 200ms/step - loss: 0.0032 - val_loss: 0.0015\n",
            "Epoch 60/100\n",
            "7/7 [==============================] - 1s 197ms/step - loss: 0.0034 - val_loss: 0.0019\n",
            "Epoch 61/100\n",
            "7/7 [==============================] - 1s 199ms/step - loss: 0.0030 - val_loss: 0.0026\n",
            "Epoch 62/100\n",
            "7/7 [==============================] - 1s 202ms/step - loss: 0.0031 - val_loss: 0.0023\n",
            "Epoch 63/100\n",
            "7/7 [==============================] - 1s 202ms/step - loss: 0.0031 - val_loss: 0.0020\n",
            "Epoch 64/100\n",
            "7/7 [==============================] - 1s 200ms/step - loss: 0.0031 - val_loss: 0.0017\n",
            "Epoch 65/100\n",
            "7/7 [==============================] - 2s 234ms/step - loss: 0.0031 - val_loss: 0.0017\n",
            "Epoch 66/100\n",
            "7/7 [==============================] - 2s 336ms/step - loss: 0.0034 - val_loss: 0.0031\n",
            "Epoch 67/100\n",
            "7/7 [==============================] - 1s 198ms/step - loss: 0.0039 - val_loss: 0.0014\n",
            "Epoch 68/100\n",
            "7/7 [==============================] - 1s 208ms/step - loss: 0.0032 - val_loss: 0.0014\n",
            "Epoch 69/100\n",
            "7/7 [==============================] - 1s 198ms/step - loss: 0.0031 - val_loss: 0.0015\n",
            "Epoch 70/100\n",
            "7/7 [==============================] - 1s 204ms/step - loss: 0.0032 - val_loss: 0.0014\n",
            "Epoch 71/100\n",
            "7/7 [==============================] - 1s 203ms/step - loss: 0.0029 - val_loss: 0.0015\n",
            "Epoch 72/100\n",
            "7/7 [==============================] - 1s 197ms/step - loss: 0.0032 - val_loss: 0.0016\n",
            "Epoch 73/100\n",
            "7/7 [==============================] - 1s 201ms/step - loss: 0.0030 - val_loss: 0.0017\n",
            "Epoch 74/100\n",
            "7/7 [==============================] - 2s 327ms/step - loss: 0.0030 - val_loss: 0.0014\n",
            "Epoch 75/100\n",
            "7/7 [==============================] - 2s 252ms/step - loss: 0.0027 - val_loss: 0.0015\n",
            "Epoch 76/100\n",
            "7/7 [==============================] - 1s 198ms/step - loss: 0.0025 - val_loss: 0.0026\n",
            "Epoch 77/100\n",
            "7/7 [==============================] - 1s 203ms/step - loss: 0.0029 - val_loss: 0.0023\n",
            "Epoch 78/100\n",
            "7/7 [==============================] - 1s 199ms/step - loss: 0.0028 - val_loss: 0.0026\n",
            "Epoch 79/100\n",
            "7/7 [==============================] - 1s 201ms/step - loss: 0.0027 - val_loss: 0.0025\n",
            "Epoch 80/100\n",
            "7/7 [==============================] - 1s 203ms/step - loss: 0.0026 - val_loss: 0.0048\n",
            "Epoch 81/100\n",
            "7/7 [==============================] - 1s 198ms/step - loss: 0.0034 - val_loss: 0.0053\n",
            "Epoch 82/100\n",
            "7/7 [==============================] - 2s 277ms/step - loss: 0.0030 - val_loss: 0.0025\n",
            "Epoch 83/100\n",
            "7/7 [==============================] - 2s 307ms/step - loss: 0.0026 - val_loss: 0.0030\n",
            "Epoch 84/100\n",
            "7/7 [==============================] - 1s 200ms/step - loss: 0.0027 - val_loss: 0.0035\n",
            "Epoch 85/100\n",
            "7/7 [==============================] - 1s 201ms/step - loss: 0.0026 - val_loss: 0.0034\n",
            "Epoch 86/100\n",
            "7/7 [==============================] - 1s 208ms/step - loss: 0.0024 - val_loss: 0.0022\n",
            "Epoch 87/100\n",
            "7/7 [==============================] - 1s 202ms/step - loss: 0.0024 - val_loss: 0.0024\n",
            "Epoch 88/100\n",
            "7/7 [==============================] - 1s 202ms/step - loss: 0.0023 - val_loss: 0.0024\n",
            "Epoch 89/100\n",
            "7/7 [==============================] - 1s 201ms/step - loss: 0.0023 - val_loss: 0.0023\n",
            "Epoch 90/100\n",
            "7/7 [==============================] - 2s 234ms/step - loss: 0.0024 - val_loss: 0.0018\n",
            "Epoch 91/100\n",
            "7/7 [==============================] - 2s 346ms/step - loss: 0.0023 - val_loss: 0.0024\n",
            "Epoch 92/100\n",
            "7/7 [==============================] - 1s 202ms/step - loss: 0.0023 - val_loss: 0.0018\n",
            "Epoch 93/100\n",
            "7/7 [==============================] - 2s 266ms/step - loss: 0.0021 - val_loss: 0.0014\n",
            "Epoch 94/100\n",
            "7/7 [==============================] - 2s 322ms/step - loss: 0.0025 - val_loss: 0.0014\n",
            "Epoch 95/100\n",
            "7/7 [==============================] - 1s 197ms/step - loss: 0.0023 - val_loss: 0.0016\n",
            "Epoch 96/100\n",
            "7/7 [==============================] - 1s 200ms/step - loss: 0.0028 - val_loss: 0.0015\n",
            "Epoch 97/100\n",
            "7/7 [==============================] - 1s 201ms/step - loss: 0.0022 - val_loss: 0.0014\n",
            "Epoch 98/100\n",
            "7/7 [==============================] - 2s 299ms/step - loss: 0.0022 - val_loss: 0.0013\n",
            "Epoch 99/100\n",
            "7/7 [==============================] - 2s 284ms/step - loss: 0.0021 - val_loss: 0.0014\n",
            "Epoch 100/100\n",
            "7/7 [==============================] - 2s 302ms/step - loss: 0.0021 - val_loss: 0.0013\n"
          ]
        },
        {
          "output_type": "execute_result",
          "data": {
            "text/plain": [
              "<keras.callbacks.History at 0x7f457a2c8640>"
            ]
          },
          "metadata": {},
          "execution_count": 82
        }
      ]
    },
    {
      "cell_type": "code",
      "source": [
        "# Run predictions on the model for both, the training and validation data and\n",
        "# transform them back.\n",
        "train_prediction = lstm_model.predict(x_train)\n",
        "train_prediction = scaler.inverse_transform(train_prediction)\n",
        "validation_prediction = lstm_model.predict(x_validate)\n",
        "validation_prediction = scaler.inverse_transform(validation_prediction)"
      ],
      "metadata": {
        "colab": {
          "base_uri": "https://localhost:8080/"
        },
        "id": "kJRVuAnsJj0n",
        "outputId": "60203376-7eb4-4887-bdf3-98b1be632669"
      },
      "execution_count": 83,
      "outputs": [
        {
          "output_type": "stream",
          "name": "stdout",
          "text": [
            "13/13 [==============================] - 2s 43ms/step\n",
            "3/3 [==============================] - 1s 37ms/step\n"
          ]
        }
      ]
    },
    {
      "cell_type": "code",
      "source": [
        "calculate.sqrt(mean_squared_error(y_train, train_prediction))"
      ],
      "metadata": {
        "colab": {
          "base_uri": "https://localhost:8080/"
        },
        "id": "HlYGi-FLMFmb",
        "outputId": "7aa56d43-5401-4c85-8c39-72e68618d466"
      },
      "execution_count": 84,
      "outputs": [
        {
          "output_type": "execute_result",
          "data": {
            "text/plain": [
              "150.51488224577864"
            ]
          },
          "metadata": {},
          "execution_count": 84
        }
      ]
    },
    {
      "cell_type": "code",
      "source": [
        "# Here, Low RMSE values indicate that the model fits the data well and \n",
        "# has more precise predictions.\n",
        "calculate.sqrt(mean_squared_error(y_validate, validation_prediction))"
      ],
      "metadata": {
        "colab": {
          "base_uri": "https://localhost:8080/"
        },
        "id": "VjtE3p8CMN_3",
        "outputId": "0cd5339e-c7e2-4685-9d9c-0f38d1c62ac7"
      },
      "execution_count": 85,
      "outputs": [
        {
          "output_type": "execute_result",
          "data": {
            "text/plain": [
              "164.32905118802722"
            ]
          },
          "metadata": {},
          "execution_count": 85
        }
      ]
    },
    {
      "cell_type": "code",
      "source": [
        "look_back=100\n",
        "trainPredictPlot = np.empty_like(dataFrame)\n",
        "trainPredictPlot[:, :] = np.nan\n",
        "trainPredictPlot[look_back:len(train_prediction)+look_back, :] = train_prediction\n",
        "\n",
        "testPredictPlot = np.empty_like(dataFrame)\n",
        "testPredictPlot[:, :] = np.nan\n",
        "testPredictPlot[len(train_prediction)+(look_back*2)+1:len(dataFrame)-1, :] = validation_prediction\n",
        "\n",
        "plt.plot(scaler.inverse_transform(dataFrame))\n",
        "plt.plot(trainPredictPlot)\n",
        "plt.plot(testPredictPlot)\n",
        "plt.xlabel(\"Days since 2020-09-14\")\n",
        "plt.ylabel(stock + \" Stock Price\")\n",
        "plt.title(\"Orange: Training Data, Green: Predicted Data, Blue: Total Dataset\")\n",
        "plt.show()"
      ],
      "metadata": {
        "colab": {
          "base_uri": "https://localhost:8080/",
          "height": 472
        },
        "id": "RRDzDJVHMWwm",
        "outputId": "39eef821-ea0d-4e81-f2ba-214e893e2a36"
      },
      "execution_count": 86,
      "outputs": [
        {
          "output_type": "display_data",
          "data": {
            "text/plain": [
              "<Figure size 640x480 with 1 Axes>"
            ],
            "image/png": "[encoded data removed]"
          },
          "metadata": {}
        }
      ]
    },
    {
      "cell_type": "code",
      "source": [
        "# Predicting the validation data\n",
        "len(validation_data)    # 173\n",
        "# Taking data from 100 days ago to current.\n",
        "x_input = validation_data[73:].reshape(1,-1)\n",
        "len(validation_data), x_input.shape"
      ],
      "metadata": {
        "id": "iITAfiUdyAX7",
        "colab": {
          "base_uri": "https://localhost:8080/"
        },
        "outputId": "720f5eff-9c31-4509-9bae-45bc0a4815ad"
      },
      "execution_count": 87,
      "outputs": [
        {
          "output_type": "execute_result",
          "data": {
            "text/plain": [
              "(173, (1, 100))"
            ]
          },
          "metadata": {},
          "execution_count": 87
        }
      ]
    },
    {
      "cell_type": "code",
      "source": [
        "# Getting datapoints into a list.\n",
        "list_input = list(x_input)\n",
        "list_input = list_input[0].tolist()\n",
        "list_input"
      ],
      "metadata": {
        "colab": {
          "base_uri": "https://localhost:8080/"
        },
        "id": "n6QOxXanttQ3",
        "outputId": "e088578e-47e5-4410-ba50-9588d8884300"
      },
      "execution_count": 88,
      "outputs": [
        {
          "output_type": "execute_result",
          "data": {
            "text/plain": [
              "[0.37741120127710537,\n",
              " 0.37820939204469894,\n",
              " 0.4127976586404152,\n",
              " 0.45589996009046185,\n",
              " 0.4747904749235068,\n",
              " 0.4658773446853801,\n",
              " 0.49381402155115084,\n",
              " 0.520021285087136,\n",
              " 0.4810429692696554,\n",
              " 0.49820407077291473,\n",
              " 0.5133696953571905,\n",
              " 0.5850738326460023,\n",
              " 0.6340295330584009,\n",
              " 0.5971797259545029,\n",
              " 0.6360250099773848,\n",
              " 0.5997073300518823,\n",
              " 0.5857389916189972,\n",
              " 0.5876014367433817,\n",
              " 0.625382466409472,\n",
              " 0.6167353997605427,\n",
              " 0.6450711720101108,\n",
              " 0.6235200212850871,\n",
              " 0.6080883331116138,\n",
              " 0.5539443927098575,\n",
              " 0.5596647598776108,\n",
              " 0.5661833178129574,\n",
              " 0.5303977650658509,\n",
              " 0.5464946122123187,\n",
              " 0.5397099906877745,\n",
              " 0.5117733138220035,\n",
              " 0.519755221497938,\n",
              " 0.5878675003325795,\n",
              " 0.6251164028202743,\n",
              " 0.5954503126247173,\n",
              " 0.6123453505387788,\n",
              " 0.5820141013702278,\n",
              " 0.5542104562990555,\n",
              " 0.5804177198350406,\n",
              " 0.6086204602900094,\n",
              " 0.613941732073966,\n",
              " 0.6519888253292536,\n",
              " 0.6406811227883464,\n",
              " 0.6726087534920846,\n",
              " 0.6976187308766795,\n",
              " 0.6783291206598379,\n",
              " 0.6929626180657178,\n",
              " 0.7105228149527738,\n",
              " 0.6843155514167889,\n",
              " 0.6759345483570574,\n",
              " 0.7174404682719171,\n",
              " 0.7385925236131436,\n",
              " 0.7723825994412667,\n",
              " 0.7892776373553279,\n",
              " 0.7820939204469868,\n",
              " 0.7572169748569908,\n",
              " 0.7691898363708929,\n",
              " 0.7342024743913798,\n",
              " 0.7178395636557138,\n",
              " 0.70852733803379,\n",
              " 0.7811626978847945,\n",
              " 0.7765065850738329,\n",
              " 0.7767726486630302,\n",
              " 0.7932685911932951,\n",
              " 0.8087002793667688,\n",
              " 0.7956631634960756,\n",
              " 0.7739789809764535,\n",
              " 0.77810296660902,\n",
              " 0.7573500066515901,\n",
              " 0.7572169748569908,\n",
              " 0.8190767593454837,\n",
              " 0.8359717972595453,\n",
              " 0.8347745111081548,\n",
              " 0.8208061726752693,\n",
              " 0.8063057070639883,\n",
              " 0.7842224291605695,\n",
              " 0.8877211653585206,\n",
              " 0.8867899427963284,\n",
              " 0.8637754423307173,\n",
              " 0.8875216176666223,\n",
              " 0.8901157376613011,\n",
              " 0.8744179858986296,\n",
              " 0.8677663961686841,\n",
              " 0.8677663961686841,\n",
              " 0.8760143674338168,\n",
              " 0.9074098709591594,\n",
              " 0.9088732206997472,\n",
              " 0.8961021684182517,\n",
              " 0.8609817746441402,\n",
              " 0.8647066648929096,\n",
              " 0.880005321271784,\n",
              " 0.9124650791539182,\n",
              " 0.9373420247439141,\n",
              " 0.9366768657709192,\n",
              " 0.9744578954370096,\n",
              " 0.9858986297725156,\n",
              " 0.9676732739124652,\n",
              " 0.9627510975123057,\n",
              " 0.944259678063057,\n",
              " 0.9808434215777573,\n",
              " 0.9860316615671145]"
            ]
          },
          "metadata": {},
          "execution_count": 88
        }
      ]
    },
    {
      "cell_type": "code",
      "source": [
        "lst_output=[]\n",
        "n_steps=100\n",
        "i=0\n",
        "while(i<30):\n",
        "    \n",
        "    if(len(list_input)>100):\n",
        "        #print(temp_input)\n",
        "        x_input=np.array(list_input[1:])\n",
        "        print(\"{} day input {}\".format(i,x_input))\n",
        "        x_input=x_input.reshape(1,-1)\n",
        "        x_input = x_input.reshape((1, n_steps, 1))\n",
        "        #print(x_input)\n",
        "        yhat = lstm_model.predict(x_input, verbose=0)\n",
        "        print(\"{} day output {}\".format(i,yhat))\n",
        "        list_input.extend(yhat[0].tolist())\n",
        "        list_input=list_input[1:]\n",
        "        #print(temp_input)\n",
        "        lst_output.extend(yhat.tolist())\n",
        "        i=i+1\n",
        "    else:\n",
        "        x_input = x_input.reshape((1, n_steps,1))\n",
        "        yhat = lstm_model.predict(x_input, verbose=0)\n",
        "        print(yhat[0])\n",
        "        list_input.extend(yhat[0].tolist())\n",
        "        print(len(list_input))\n",
        "        lst_output.extend(yhat.tolist())\n",
        "        i=i+1\n",
        "    \n",
        "\n",
        "print(lst_output)"
      ],
      "metadata": {
        "colab": {
          "base_uri": "https://localhost:8080/"
        },
        "id": "4Be65VHNuwGJ",
        "outputId": "e7519975-4387-4b90-9b8d-58773253e91e"
      },
      "execution_count": 89,
      "outputs": [
        {
          "output_type": "stream",
          "name": "stdout",
          "text": [
            "[0.9534719]\n",
            "101\n",
            "1 day input [0.37820939 0.41279766 0.45589996 0.47479047 0.46587734 0.49381402\n",
            " 0.52002129 0.48104297 0.49820407 0.5133697  0.58507383 0.63402953\n",
            " 0.59717973 0.63602501 0.59970733 0.58573899 0.58760144 0.62538247\n",
            " 0.6167354  0.64507117 0.62352002 0.60808833 0.55394439 0.55966476\n",
            " 0.56618332 0.53039777 0.54649461 0.53970999 0.51177331 0.51975522\n",
            " 0.5878675  0.6251164  0.59545031 0.61234535 0.5820141  0.55421046\n",
            " 0.58041772 0.60862046 0.61394173 0.65198883 0.64068112 0.67260875\n",
            " 0.69761873 0.67832912 0.69296262 0.71052281 0.68431555 0.67593455\n",
            " 0.71744047 0.73859252 0.7723826  0.78927764 0.78209392 0.75721697\n",
            " 0.76918984 0.73420247 0.71783956 0.70852734 0.7811627  0.77650659\n",
            " 0.77677265 0.79326859 0.80870028 0.79566316 0.77397898 0.77810297\n",
            " 0.75735001 0.75721697 0.81907676 0.8359718  0.83477451 0.82080617\n",
            " 0.80630571 0.78422243 0.88772117 0.88678994 0.86377544 0.88752162\n",
            " 0.89011574 0.87441799 0.8677664  0.8677664  0.87601437 0.90740987\n",
            " 0.90887322 0.89610217 0.86098177 0.86470666 0.88000532 0.91246508\n",
            " 0.93734202 0.93667687 0.9744579  0.98589863 0.96767327 0.9627511\n",
            " 0.94425968 0.98084342 0.98603166 0.9534719 ]\n",
            "1 day output [[0.9555931]]\n",
            "2 day input [0.41279766 0.45589996 0.47479047 0.46587734 0.49381402 0.52002129\n",
            " 0.48104297 0.49820407 0.5133697  0.58507383 0.63402953 0.59717973\n",
            " 0.63602501 0.59970733 0.58573899 0.58760144 0.62538247 0.6167354\n",
            " 0.64507117 0.62352002 0.60808833 0.55394439 0.55966476 0.56618332\n",
            " 0.53039777 0.54649461 0.53970999 0.51177331 0.51975522 0.5878675\n",
            " 0.6251164  0.59545031 0.61234535 0.5820141  0.55421046 0.58041772\n",
            " 0.60862046 0.61394173 0.65198883 0.64068112 0.67260875 0.69761873\n",
            " 0.67832912 0.69296262 0.71052281 0.68431555 0.67593455 0.71744047\n",
            " 0.73859252 0.7723826  0.78927764 0.78209392 0.75721697 0.76918984\n",
            " 0.73420247 0.71783956 0.70852734 0.7811627  0.77650659 0.77677265\n",
            " 0.79326859 0.80870028 0.79566316 0.77397898 0.77810297 0.75735001\n",
            " 0.75721697 0.81907676 0.8359718  0.83477451 0.82080617 0.80630571\n",
            " 0.78422243 0.88772117 0.88678994 0.86377544 0.88752162 0.89011574\n",
            " 0.87441799 0.8677664  0.8677664  0.87601437 0.90740987 0.90887322\n",
            " 0.89610217 0.86098177 0.86470666 0.88000532 0.91246508 0.93734202\n",
            " 0.93667687 0.9744579  0.98589863 0.96767327 0.9627511  0.94425968\n",
            " 0.98084342 0.98603166 0.9534719  0.95559311]\n",
            "2 day output [[0.95049393]]\n",
            "3 day input [0.45589996 0.47479047 0.46587734 0.49381402 0.52002129 0.48104297\n",
            " 0.49820407 0.5133697  0.58507383 0.63402953 0.59717973 0.63602501\n",
            " 0.59970733 0.58573899 0.58760144 0.62538247 0.6167354  0.64507117\n",
            " 0.62352002 0.60808833 0.55394439 0.55966476 0.56618332 0.53039777\n",
            " 0.54649461 0.53970999 0.51177331 0.51975522 0.5878675  0.6251164\n",
            " 0.59545031 0.61234535 0.5820141  0.55421046 0.58041772 0.60862046\n",
            " 0.61394173 0.65198883 0.64068112 0.67260875 0.69761873 0.67832912\n",
            " 0.69296262 0.71052281 0.68431555 0.67593455 0.71744047 0.73859252\n",
            " 0.7723826  0.78927764 0.78209392 0.75721697 0.76918984 0.73420247\n",
            " 0.71783956 0.70852734 0.7811627  0.77650659 0.77677265 0.79326859\n",
            " 0.80870028 0.79566316 0.77397898 0.77810297 0.75735001 0.75721697\n",
            " 0.81907676 0.8359718  0.83477451 0.82080617 0.80630571 0.78422243\n",
            " 0.88772117 0.88678994 0.86377544 0.88752162 0.89011574 0.87441799\n",
            " 0.8677664  0.8677664  0.87601437 0.90740987 0.90887322 0.89610217\n",
            " 0.86098177 0.86470666 0.88000532 0.91246508 0.93734202 0.93667687\n",
            " 0.9744579  0.98589863 0.96767327 0.9627511  0.94425968 0.98084342\n",
            " 0.98603166 0.9534719  0.95559311 0.95049393]\n",
            "3 day output [[0.94217473]]\n",
            "4 day input [0.47479047 0.46587734 0.49381402 0.52002129 0.48104297 0.49820407\n",
            " 0.5133697  0.58507383 0.63402953 0.59717973 0.63602501 0.59970733\n",
            " 0.58573899 0.58760144 0.62538247 0.6167354  0.64507117 0.62352002\n",
            " 0.60808833 0.55394439 0.55966476 0.56618332 0.53039777 0.54649461\n",
            " 0.53970999 0.51177331 0.51975522 0.5878675  0.6251164  0.59545031\n",
            " 0.61234535 0.5820141  0.55421046 0.58041772 0.60862046 0.61394173\n",
            " 0.65198883 0.64068112 0.67260875 0.69761873 0.67832912 0.69296262\n",
            " 0.71052281 0.68431555 0.67593455 0.71744047 0.73859252 0.7723826\n",
            " 0.78927764 0.78209392 0.75721697 0.76918984 0.73420247 0.71783956\n",
            " 0.70852734 0.7811627  0.77650659 0.77677265 0.79326859 0.80870028\n",
            " 0.79566316 0.77397898 0.77810297 0.75735001 0.75721697 0.81907676\n",
            " 0.8359718  0.83477451 0.82080617 0.80630571 0.78422243 0.88772117\n",
            " 0.88678994 0.86377544 0.88752162 0.89011574 0.87441799 0.8677664\n",
            " 0.8677664  0.87601437 0.90740987 0.90887322 0.89610217 0.86098177\n",
            " 0.86470666 0.88000532 0.91246508 0.93734202 0.93667687 0.9744579\n",
            " 0.98589863 0.96767327 0.9627511  0.94425968 0.98084342 0.98603166\n",
            " 0.9534719  0.95559311 0.95049393 0.94217473]\n",
            "4 day output [[0.9333411]]\n",
            "5 day input [0.46587734 0.49381402 0.52002129 0.48104297 0.49820407 0.5133697\n",
            " 0.58507383 0.63402953 0.59717973 0.63602501 0.59970733 0.58573899\n",
            " 0.58760144 0.62538247 0.6167354  0.64507117 0.62352002 0.60808833\n",
            " 0.55394439 0.55966476 0.56618332 0.53039777 0.54649461 0.53970999\n",
            " 0.51177331 0.51975522 0.5878675  0.6251164  0.59545031 0.61234535\n",
            " 0.5820141  0.55421046 0.58041772 0.60862046 0.61394173 0.65198883\n",
            " 0.64068112 0.67260875 0.69761873 0.67832912 0.69296262 0.71052281\n",
            " 0.68431555 0.67593455 0.71744047 0.73859252 0.7723826  0.78927764\n",
            " 0.78209392 0.75721697 0.76918984 0.73420247 0.71783956 0.70852734\n",
            " 0.7811627  0.77650659 0.77677265 0.79326859 0.80870028 0.79566316\n",
            " 0.77397898 0.77810297 0.75735001 0.75721697 0.81907676 0.8359718\n",
            " 0.83477451 0.82080617 0.80630571 0.78422243 0.88772117 0.88678994\n",
            " 0.86377544 0.88752162 0.89011574 0.87441799 0.8677664  0.8677664\n",
            " 0.87601437 0.90740987 0.90887322 0.89610217 0.86098177 0.86470666\n",
            " 0.88000532 0.91246508 0.93734202 0.93667687 0.9744579  0.98589863\n",
            " 0.96767327 0.9627511  0.94425968 0.98084342 0.98603166 0.9534719\n",
            " 0.95559311 0.95049393 0.94217473 0.93334109]\n",
            "5 day output [[0.9251817]]\n",
            "6 day input [0.49381402 0.52002129 0.48104297 0.49820407 0.5133697  0.58507383\n",
            " 0.63402953 0.59717973 0.63602501 0.59970733 0.58573899 0.58760144\n",
            " 0.62538247 0.6167354  0.64507117 0.62352002 0.60808833 0.55394439\n",
            " 0.55966476 0.56618332 0.53039777 0.54649461 0.53970999 0.51177331\n",
            " 0.51975522 0.5878675  0.6251164  0.59545031 0.61234535 0.5820141\n",
            " 0.55421046 0.58041772 0.60862046 0.61394173 0.65198883 0.64068112\n",
            " 0.67260875 0.69761873 0.67832912 0.69296262 0.71052281 0.68431555\n",
            " 0.67593455 0.71744047 0.73859252 0.7723826  0.78927764 0.78209392\n",
            " 0.75721697 0.76918984 0.73420247 0.71783956 0.70852734 0.7811627\n",
            " 0.77650659 0.77677265 0.79326859 0.80870028 0.79566316 0.77397898\n",
            " 0.77810297 0.75735001 0.75721697 0.81907676 0.8359718  0.83477451\n",
            " 0.82080617 0.80630571 0.78422243 0.88772117 0.88678994 0.86377544\n",
            " 0.88752162 0.89011574 0.87441799 0.8677664  0.8677664  0.87601437\n",
            " 0.90740987 0.90887322 0.89610217 0.86098177 0.86470666 0.88000532\n",
            " 0.91246508 0.93734202 0.93667687 0.9744579  0.98589863 0.96767327\n",
            " 0.9627511  0.94425968 0.98084342 0.98603166 0.9534719  0.95559311\n",
            " 0.95049393 0.94217473 0.93334109 0.92518169]\n",
            "6 day output [[0.9179968]]\n",
            "7 day input [0.52002129 0.48104297 0.49820407 0.5133697  0.58507383 0.63402953\n",
            " 0.59717973 0.63602501 0.59970733 0.58573899 0.58760144 0.62538247\n",
            " 0.6167354  0.64507117 0.62352002 0.60808833 0.55394439 0.55966476\n",
            " 0.56618332 0.53039777 0.54649461 0.53970999 0.51177331 0.51975522\n",
            " 0.5878675  0.6251164  0.59545031 0.61234535 0.5820141  0.55421046\n",
            " 0.58041772 0.60862046 0.61394173 0.65198883 0.64068112 0.67260875\n",
            " 0.69761873 0.67832912 0.69296262 0.71052281 0.68431555 0.67593455\n",
            " 0.71744047 0.73859252 0.7723826  0.78927764 0.78209392 0.75721697\n",
            " 0.76918984 0.73420247 0.71783956 0.70852734 0.7811627  0.77650659\n",
            " 0.77677265 0.79326859 0.80870028 0.79566316 0.77397898 0.77810297\n",
            " 0.75735001 0.75721697 0.81907676 0.8359718  0.83477451 0.82080617\n",
            " 0.80630571 0.78422243 0.88772117 0.88678994 0.86377544 0.88752162\n",
            " 0.89011574 0.87441799 0.8677664  0.8677664  0.87601437 0.90740987\n",
            " 0.90887322 0.89610217 0.86098177 0.86470666 0.88000532 0.91246508\n",
            " 0.93734202 0.93667687 0.9744579  0.98589863 0.96767327 0.9627511\n",
            " 0.94425968 0.98084342 0.98603166 0.9534719  0.95559311 0.95049393\n",
            " 0.94217473 0.93334109 0.92518169 0.91799682]\n",
            "7 day output [[0.91173583]]\n",
            "8 day input [0.48104297 0.49820407 0.5133697  0.58507383 0.63402953 0.59717973\n",
            " 0.63602501 0.59970733 0.58573899 0.58760144 0.62538247 0.6167354\n",
            " 0.64507117 0.62352002 0.60808833 0.55394439 0.55966476 0.56618332\n",
            " 0.53039777 0.54649461 0.53970999 0.51177331 0.51975522 0.5878675\n",
            " 0.6251164  0.59545031 0.61234535 0.5820141  0.55421046 0.58041772\n",
            " 0.60862046 0.61394173 0.65198883 0.64068112 0.67260875 0.69761873\n",
            " 0.67832912 0.69296262 0.71052281 0.68431555 0.67593455 0.71744047\n",
            " 0.73859252 0.7723826  0.78927764 0.78209392 0.75721697 0.76918984\n",
            " 0.73420247 0.71783956 0.70852734 0.7811627  0.77650659 0.77677265\n",
            " 0.79326859 0.80870028 0.79566316 0.77397898 0.77810297 0.75735001\n",
            " 0.75721697 0.81907676 0.8359718  0.83477451 0.82080617 0.80630571\n",
            " 0.78422243 0.88772117 0.88678994 0.86377544 0.88752162 0.89011574\n",
            " 0.87441799 0.8677664  0.8677664  0.87601437 0.90740987 0.90887322\n",
            " 0.89610217 0.86098177 0.86470666 0.88000532 0.91246508 0.93734202\n",
            " 0.93667687 0.9744579  0.98589863 0.96767327 0.9627511  0.94425968\n",
            " 0.98084342 0.98603166 0.9534719  0.95559311 0.95049393 0.94217473\n",
            " 0.93334109 0.92518169 0.91799682 0.91173583]\n",
            "8 day output [[0.9062695]]\n",
            "9 day input [0.49820407 0.5133697  0.58507383 0.63402953 0.59717973 0.63602501\n",
            " 0.59970733 0.58573899 0.58760144 0.62538247 0.6167354  0.64507117\n",
            " 0.62352002 0.60808833 0.55394439 0.55966476 0.56618332 0.53039777\n",
            " 0.54649461 0.53970999 0.51177331 0.51975522 0.5878675  0.6251164\n",
            " 0.59545031 0.61234535 0.5820141  0.55421046 0.58041772 0.60862046\n",
            " 0.61394173 0.65198883 0.64068112 0.67260875 0.69761873 0.67832912\n",
            " 0.69296262 0.71052281 0.68431555 0.67593455 0.71744047 0.73859252\n",
            " 0.7723826  0.78927764 0.78209392 0.75721697 0.76918984 0.73420247\n",
            " 0.71783956 0.70852734 0.7811627  0.77650659 0.77677265 0.79326859\n",
            " 0.80870028 0.79566316 0.77397898 0.77810297 0.75735001 0.75721697\n",
            " 0.81907676 0.8359718  0.83477451 0.82080617 0.80630571 0.78422243\n",
            " 0.88772117 0.88678994 0.86377544 0.88752162 0.89011574 0.87441799\n",
            " 0.8677664  0.8677664  0.87601437 0.90740987 0.90887322 0.89610217\n",
            " 0.86098177 0.86470666 0.88000532 0.91246508 0.93734202 0.93667687\n",
            " 0.9744579  0.98589863 0.96767327 0.9627511  0.94425968 0.98084342\n",
            " 0.98603166 0.9534719  0.95559311 0.95049393 0.94217473 0.93334109\n",
            " 0.92518169 0.91799682 0.91173583 0.90626949]\n",
            "9 day output [[0.90147686]]\n",
            "10 day input [0.5133697  0.58507383 0.63402953 0.59717973 0.63602501 0.59970733\n",
            " 0.58573899 0.58760144 0.62538247 0.6167354  0.64507117 0.62352002\n",
            " 0.60808833 0.55394439 0.55966476 0.56618332 0.53039777 0.54649461\n",
            " 0.53970999 0.51177331 0.51975522 0.5878675  0.6251164  0.59545031\n",
            " 0.61234535 0.5820141  0.55421046 0.58041772 0.60862046 0.61394173\n",
            " 0.65198883 0.64068112 0.67260875 0.69761873 0.67832912 0.69296262\n",
            " 0.71052281 0.68431555 0.67593455 0.71744047 0.73859252 0.7723826\n",
            " 0.78927764 0.78209392 0.75721697 0.76918984 0.73420247 0.71783956\n",
            " 0.70852734 0.7811627  0.77650659 0.77677265 0.79326859 0.80870028\n",
            " 0.79566316 0.77397898 0.77810297 0.75735001 0.75721697 0.81907676\n",
            " 0.8359718  0.83477451 0.82080617 0.80630571 0.78422243 0.88772117\n",
            " 0.88678994 0.86377544 0.88752162 0.89011574 0.87441799 0.8677664\n",
            " 0.8677664  0.87601437 0.90740987 0.90887322 0.89610217 0.86098177\n",
            " 0.86470666 0.88000532 0.91246508 0.93734202 0.93667687 0.9744579\n",
            " 0.98589863 0.96767327 0.9627511  0.94425968 0.98084342 0.98603166\n",
            " 0.9534719  0.95559311 0.95049393 0.94217473 0.93334109 0.92518169\n",
            " 0.91799682 0.91173583 0.90626949 0.90147686]\n",
            "10 day output [[0.89725477]]\n",
            "11 day input [0.58507383 0.63402953 0.59717973 0.63602501 0.59970733 0.58573899\n",
            " 0.58760144 0.62538247 0.6167354  0.64507117 0.62352002 0.60808833\n",
            " 0.55394439 0.55966476 0.56618332 0.53039777 0.54649461 0.53970999\n",
            " 0.51177331 0.51975522 0.5878675  0.6251164  0.59545031 0.61234535\n",
            " 0.5820141  0.55421046 0.58041772 0.60862046 0.61394173 0.65198883\n",
            " 0.64068112 0.67260875 0.69761873 0.67832912 0.69296262 0.71052281\n",
            " 0.68431555 0.67593455 0.71744047 0.73859252 0.7723826  0.78927764\n",
            " 0.78209392 0.75721697 0.76918984 0.73420247 0.71783956 0.70852734\n",
            " 0.7811627  0.77650659 0.77677265 0.79326859 0.80870028 0.79566316\n",
            " 0.77397898 0.77810297 0.75735001 0.75721697 0.81907676 0.8359718\n",
            " 0.83477451 0.82080617 0.80630571 0.78422243 0.88772117 0.88678994\n",
            " 0.86377544 0.88752162 0.89011574 0.87441799 0.8677664  0.8677664\n",
            " 0.87601437 0.90740987 0.90887322 0.89610217 0.86098177 0.86470666\n",
            " 0.88000532 0.91246508 0.93734202 0.93667687 0.9744579  0.98589863\n",
            " 0.96767327 0.9627511  0.94425968 0.98084342 0.98603166 0.9534719\n",
            " 0.95559311 0.95049393 0.94217473 0.93334109 0.92518169 0.91799682\n",
            " 0.91173583 0.90626949 0.90147686 0.89725477]\n",
            "11 day output [[0.8935132]]\n",
            "12 day input [0.63402953 0.59717973 0.63602501 0.59970733 0.58573899 0.58760144\n",
            " 0.62538247 0.6167354  0.64507117 0.62352002 0.60808833 0.55394439\n",
            " 0.55966476 0.56618332 0.53039777 0.54649461 0.53970999 0.51177331\n",
            " 0.51975522 0.5878675  0.6251164  0.59545031 0.61234535 0.5820141\n",
            " 0.55421046 0.58041772 0.60862046 0.61394173 0.65198883 0.64068112\n",
            " 0.67260875 0.69761873 0.67832912 0.69296262 0.71052281 0.68431555\n",
            " 0.67593455 0.71744047 0.73859252 0.7723826  0.78927764 0.78209392\n",
            " 0.75721697 0.76918984 0.73420247 0.71783956 0.70852734 0.7811627\n",
            " 0.77650659 0.77677265 0.79326859 0.80870028 0.79566316 0.77397898\n",
            " 0.77810297 0.75735001 0.75721697 0.81907676 0.8359718  0.83477451\n",
            " 0.82080617 0.80630571 0.78422243 0.88772117 0.88678994 0.86377544\n",
            " 0.88752162 0.89011574 0.87441799 0.8677664  0.8677664  0.87601437\n",
            " 0.90740987 0.90887322 0.89610217 0.86098177 0.86470666 0.88000532\n",
            " 0.91246508 0.93734202 0.93667687 0.9744579  0.98589863 0.96767327\n",
            " 0.9627511  0.94425968 0.98084342 0.98603166 0.9534719  0.95559311\n",
            " 0.95049393 0.94217473 0.93334109 0.92518169 0.91799682 0.91173583\n",
            " 0.90626949 0.90147686 0.89725477 0.8935132 ]\n",
            "12 day output [[0.89017045]]\n",
            "13 day input [0.59717973 0.63602501 0.59970733 0.58573899 0.58760144 0.62538247\n",
            " 0.6167354  0.64507117 0.62352002 0.60808833 0.55394439 0.55966476\n",
            " 0.56618332 0.53039777 0.54649461 0.53970999 0.51177331 0.51975522\n",
            " 0.5878675  0.6251164  0.59545031 0.61234535 0.5820141  0.55421046\n",
            " 0.58041772 0.60862046 0.61394173 0.65198883 0.64068112 0.67260875\n",
            " 0.69761873 0.67832912 0.69296262 0.71052281 0.68431555 0.67593455\n",
            " 0.71744047 0.73859252 0.7723826  0.78927764 0.78209392 0.75721697\n",
            " 0.76918984 0.73420247 0.71783956 0.70852734 0.7811627  0.77650659\n",
            " 0.77677265 0.79326859 0.80870028 0.79566316 0.77397898 0.77810297\n",
            " 0.75735001 0.75721697 0.81907676 0.8359718  0.83477451 0.82080617\n",
            " 0.80630571 0.78422243 0.88772117 0.88678994 0.86377544 0.88752162\n",
            " 0.89011574 0.87441799 0.8677664  0.8677664  0.87601437 0.90740987\n",
            " 0.90887322 0.89610217 0.86098177 0.86470666 0.88000532 0.91246508\n",
            " 0.93734202 0.93667687 0.9744579  0.98589863 0.96767327 0.9627511\n",
            " 0.94425968 0.98084342 0.98603166 0.9534719  0.95559311 0.95049393\n",
            " 0.94217473 0.93334109 0.92518169 0.91799682 0.91173583 0.90626949\n",
            " 0.90147686 0.89725477 0.8935132  0.89017045]\n",
            "13 day output [[0.88715535]]\n",
            "14 day input [0.63602501 0.59970733 0.58573899 0.58760144 0.62538247 0.6167354\n",
            " 0.64507117 0.62352002 0.60808833 0.55394439 0.55966476 0.56618332\n",
            " 0.53039777 0.54649461 0.53970999 0.51177331 0.51975522 0.5878675\n",
            " 0.6251164  0.59545031 0.61234535 0.5820141  0.55421046 0.58041772\n",
            " 0.60862046 0.61394173 0.65198883 0.64068112 0.67260875 0.69761873\n",
            " 0.67832912 0.69296262 0.71052281 0.68431555 0.67593455 0.71744047\n",
            " 0.73859252 0.7723826  0.78927764 0.78209392 0.75721697 0.76918984\n",
            " 0.73420247 0.71783956 0.70852734 0.7811627  0.77650659 0.77677265\n",
            " 0.79326859 0.80870028 0.79566316 0.77397898 0.77810297 0.75735001\n",
            " 0.75721697 0.81907676 0.8359718  0.83477451 0.82080617 0.80630571\n",
            " 0.78422243 0.88772117 0.88678994 0.86377544 0.88752162 0.89011574\n",
            " 0.87441799 0.8677664  0.8677664  0.87601437 0.90740987 0.90887322\n",
            " 0.89610217 0.86098177 0.86470666 0.88000532 0.91246508 0.93734202\n",
            " 0.93667687 0.9744579  0.98589863 0.96767327 0.9627511  0.94425968\n",
            " 0.98084342 0.98603166 0.9534719  0.95559311 0.95049393 0.94217473\n",
            " 0.93334109 0.92518169 0.91799682 0.91173583 0.90626949 0.90147686\n",
            " 0.89725477 0.8935132  0.89017045 0.88715535]\n",
            "14 day output [[0.88441205]]\n",
            "15 day input [0.59970733 0.58573899 0.58760144 0.62538247 0.6167354  0.64507117\n",
            " 0.62352002 0.60808833 0.55394439 0.55966476 0.56618332 0.53039777\n",
            " 0.54649461 0.53970999 0.51177331 0.51975522 0.5878675  0.6251164\n",
            " 0.59545031 0.61234535 0.5820141  0.55421046 0.58041772 0.60862046\n",
            " 0.61394173 0.65198883 0.64068112 0.67260875 0.69761873 0.67832912\n",
            " 0.69296262 0.71052281 0.68431555 0.67593455 0.71744047 0.73859252\n",
            " 0.7723826  0.78927764 0.78209392 0.75721697 0.76918984 0.73420247\n",
            " 0.71783956 0.70852734 0.7811627  0.77650659 0.77677265 0.79326859\n",
            " 0.80870028 0.79566316 0.77397898 0.77810297 0.75735001 0.75721697\n",
            " 0.81907676 0.8359718  0.83477451 0.82080617 0.80630571 0.78422243\n",
            " 0.88772117 0.88678994 0.86377544 0.88752162 0.89011574 0.87441799\n",
            " 0.8677664  0.8677664  0.87601437 0.90740987 0.90887322 0.89610217\n",
            " 0.86098177 0.86470666 0.88000532 0.91246508 0.93734202 0.93667687\n",
            " 0.9744579  0.98589863 0.96767327 0.9627511  0.94425968 0.98084342\n",
            " 0.98603166 0.9534719  0.95559311 0.95049393 0.94217473 0.93334109\n",
            " 0.92518169 0.91799682 0.91173583 0.90626949 0.90147686 0.89725477\n",
            " 0.8935132  0.89017045 0.88715535 0.88441205]\n",
            "15 day output [[0.88189805]]\n",
            "16 day input [0.58573899 0.58760144 0.62538247 0.6167354  0.64507117 0.62352002\n",
            " 0.60808833 0.55394439 0.55966476 0.56618332 0.53039777 0.54649461\n",
            " 0.53970999 0.51177331 0.51975522 0.5878675  0.6251164  0.59545031\n",
            " 0.61234535 0.5820141  0.55421046 0.58041772 0.60862046 0.61394173\n",
            " 0.65198883 0.64068112 0.67260875 0.69761873 0.67832912 0.69296262\n",
            " 0.71052281 0.68431555 0.67593455 0.71744047 0.73859252 0.7723826\n",
            " 0.78927764 0.78209392 0.75721697 0.76918984 0.73420247 0.71783956\n",
            " 0.70852734 0.7811627  0.77650659 0.77677265 0.79326859 0.80870028\n",
            " 0.79566316 0.77397898 0.77810297 0.75735001 0.75721697 0.81907676\n",
            " 0.8359718  0.83477451 0.82080617 0.80630571 0.78422243 0.88772117\n",
            " 0.88678994 0.86377544 0.88752162 0.89011574 0.87441799 0.8677664\n",
            " 0.8677664  0.87601437 0.90740987 0.90887322 0.89610217 0.86098177\n",
            " 0.86470666 0.88000532 0.91246508 0.93734202 0.93667687 0.9744579\n",
            " 0.98589863 0.96767327 0.9627511  0.94425968 0.98084342 0.98603166\n",
            " 0.9534719  0.95559311 0.95049393 0.94217473 0.93334109 0.92518169\n",
            " 0.91799682 0.91173583 0.90626949 0.90147686 0.89725477 0.8935132\n",
            " 0.89017045 0.88715535 0.88441205 0.88189805]\n",
            "16 day output [[0.8795858]]\n",
            "17 day input [0.58760144 0.62538247 0.6167354  0.64507117 0.62352002 0.60808833\n",
            " 0.55394439 0.55966476 0.56618332 0.53039777 0.54649461 0.53970999\n",
            " 0.51177331 0.51975522 0.5878675  0.6251164  0.59545031 0.61234535\n",
            " 0.5820141  0.55421046 0.58041772 0.60862046 0.61394173 0.65198883\n",
            " 0.64068112 0.67260875 0.69761873 0.67832912 0.69296262 0.71052281\n",
            " 0.68431555 0.67593455 0.71744047 0.73859252 0.7723826  0.78927764\n",
            " 0.78209392 0.75721697 0.76918984 0.73420247 0.71783956 0.70852734\n",
            " 0.7811627  0.77650659 0.77677265 0.79326859 0.80870028 0.79566316\n",
            " 0.77397898 0.77810297 0.75735001 0.75721697 0.81907676 0.8359718\n",
            " 0.83477451 0.82080617 0.80630571 0.78422243 0.88772117 0.88678994\n",
            " 0.86377544 0.88752162 0.89011574 0.87441799 0.8677664  0.8677664\n",
            " 0.87601437 0.90740987 0.90887322 0.89610217 0.86098177 0.86470666\n",
            " 0.88000532 0.91246508 0.93734202 0.93667687 0.9744579  0.98589863\n",
            " 0.96767327 0.9627511  0.94425968 0.98084342 0.98603166 0.9534719\n",
            " 0.95559311 0.95049393 0.94217473 0.93334109 0.92518169 0.91799682\n",
            " 0.91173583 0.90626949 0.90147686 0.89725477 0.8935132  0.89017045\n",
            " 0.88715535 0.88441205 0.88189805 0.8795858 ]\n",
            "17 day output [[0.8774592]]\n",
            "18 day input [0.62538247 0.6167354  0.64507117 0.62352002 0.60808833 0.55394439\n",
            " 0.55966476 0.56618332 0.53039777 0.54649461 0.53970999 0.51177331\n",
            " 0.51975522 0.5878675  0.6251164  0.59545031 0.61234535 0.5820141\n",
            " 0.55421046 0.58041772 0.60862046 0.61394173 0.65198883 0.64068112\n",
            " 0.67260875 0.69761873 0.67832912 0.69296262 0.71052281 0.68431555\n",
            " 0.67593455 0.71744047 0.73859252 0.7723826  0.78927764 0.78209392\n",
            " 0.75721697 0.76918984 0.73420247 0.71783956 0.70852734 0.7811627\n",
            " 0.77650659 0.77677265 0.79326859 0.80870028 0.79566316 0.77397898\n",
            " 0.77810297 0.75735001 0.75721697 0.81907676 0.8359718  0.83477451\n",
            " 0.82080617 0.80630571 0.78422243 0.88772117 0.88678994 0.86377544\n",
            " 0.88752162 0.89011574 0.87441799 0.8677664  0.8677664  0.87601437\n",
            " 0.90740987 0.90887322 0.89610217 0.86098177 0.86470666 0.88000532\n",
            " 0.91246508 0.93734202 0.93667687 0.9744579  0.98589863 0.96767327\n",
            " 0.9627511  0.94425968 0.98084342 0.98603166 0.9534719  0.95559311\n",
            " 0.95049393 0.94217473 0.93334109 0.92518169 0.91799682 0.91173583\n",
            " 0.90626949 0.90147686 0.89725477 0.8935132  0.89017045 0.88715535\n",
            " 0.88441205 0.88189805 0.8795858  0.87745923]\n",
            "18 day output [[0.87551016]]\n",
            "19 day input [0.6167354  0.64507117 0.62352002 0.60808833 0.55394439 0.55966476\n",
            " 0.56618332 0.53039777 0.54649461 0.53970999 0.51177331 0.51975522\n",
            " 0.5878675  0.6251164  0.59545031 0.61234535 0.5820141  0.55421046\n",
            " 0.58041772 0.60862046 0.61394173 0.65198883 0.64068112 0.67260875\n",
            " 0.69761873 0.67832912 0.69296262 0.71052281 0.68431555 0.67593455\n",
            " 0.71744047 0.73859252 0.7723826  0.78927764 0.78209392 0.75721697\n",
            " 0.76918984 0.73420247 0.71783956 0.70852734 0.7811627  0.77650659\n",
            " 0.77677265 0.79326859 0.80870028 0.79566316 0.77397898 0.77810297\n",
            " 0.75735001 0.75721697 0.81907676 0.8359718  0.83477451 0.82080617\n",
            " 0.80630571 0.78422243 0.88772117 0.88678994 0.86377544 0.88752162\n",
            " 0.89011574 0.87441799 0.8677664  0.8677664  0.87601437 0.90740987\n",
            " 0.90887322 0.89610217 0.86098177 0.86470666 0.88000532 0.91246508\n",
            " 0.93734202 0.93667687 0.9744579  0.98589863 0.96767327 0.9627511\n",
            " 0.94425968 0.98084342 0.98603166 0.9534719  0.95559311 0.95049393\n",
            " 0.94217473 0.93334109 0.92518169 0.91799682 0.91173583 0.90626949\n",
            " 0.90147686 0.89725477 0.8935132  0.89017045 0.88715535 0.88441205\n",
            " 0.88189805 0.8795858  0.87745923 0.87551016]\n",
            "19 day output [[0.8737349]]\n",
            "20 day input [0.64507117 0.62352002 0.60808833 0.55394439 0.55966476 0.56618332\n",
            " 0.53039777 0.54649461 0.53970999 0.51177331 0.51975522 0.5878675\n",
            " 0.6251164  0.59545031 0.61234535 0.5820141  0.55421046 0.58041772\n",
            " 0.60862046 0.61394173 0.65198883 0.64068112 0.67260875 0.69761873\n",
            " 0.67832912 0.69296262 0.71052281 0.68431555 0.67593455 0.71744047\n",
            " 0.73859252 0.7723826  0.78927764 0.78209392 0.75721697 0.76918984\n",
            " 0.73420247 0.71783956 0.70852734 0.7811627  0.77650659 0.77677265\n",
            " 0.79326859 0.80870028 0.79566316 0.77397898 0.77810297 0.75735001\n",
            " 0.75721697 0.81907676 0.8359718  0.83477451 0.82080617 0.80630571\n",
            " 0.78422243 0.88772117 0.88678994 0.86377544 0.88752162 0.89011574\n",
            " 0.87441799 0.8677664  0.8677664  0.87601437 0.90740987 0.90887322\n",
            " 0.89610217 0.86098177 0.86470666 0.88000532 0.91246508 0.93734202\n",
            " 0.93667687 0.9744579  0.98589863 0.96767327 0.9627511  0.94425968\n",
            " 0.98084342 0.98603166 0.9534719  0.95559311 0.95049393 0.94217473\n",
            " 0.93334109 0.92518169 0.91799682 0.91173583 0.90626949 0.90147686\n",
            " 0.89725477 0.8935132  0.89017045 0.88715535 0.88441205 0.88189805\n",
            " 0.8795858  0.87745923 0.87551016 0.87373489]\n",
            "20 day output [[0.8721319]]\n",
            "21 day input [0.62352002 0.60808833 0.55394439 0.55966476 0.56618332 0.53039777\n",
            " 0.54649461 0.53970999 0.51177331 0.51975522 0.5878675  0.6251164\n",
            " 0.59545031 0.61234535 0.5820141  0.55421046 0.58041772 0.60862046\n",
            " 0.61394173 0.65198883 0.64068112 0.67260875 0.69761873 0.67832912\n",
            " 0.69296262 0.71052281 0.68431555 0.67593455 0.71744047 0.73859252\n",
            " 0.7723826  0.78927764 0.78209392 0.75721697 0.76918984 0.73420247\n",
            " 0.71783956 0.70852734 0.7811627  0.77650659 0.77677265 0.79326859\n",
            " 0.80870028 0.79566316 0.77397898 0.77810297 0.75735001 0.75721697\n",
            " 0.81907676 0.8359718  0.83477451 0.82080617 0.80630571 0.78422243\n",
            " 0.88772117 0.88678994 0.86377544 0.88752162 0.89011574 0.87441799\n",
            " 0.8677664  0.8677664  0.87601437 0.90740987 0.90887322 0.89610217\n",
            " 0.86098177 0.86470666 0.88000532 0.91246508 0.93734202 0.93667687\n",
            " 0.9744579  0.98589863 0.96767327 0.9627511  0.94425968 0.98084342\n",
            " 0.98603166 0.9534719  0.95559311 0.95049393 0.94217473 0.93334109\n",
            " 0.92518169 0.91799682 0.91173583 0.90626949 0.90147686 0.89725477\n",
            " 0.8935132  0.89017045 0.88715535 0.88441205 0.88189805 0.8795858\n",
            " 0.87745923 0.87551016 0.87373489 0.87213188]\n",
            "21 day output [[0.8706985]]\n",
            "22 day input [0.60808833 0.55394439 0.55966476 0.56618332 0.53039777 0.54649461\n",
            " 0.53970999 0.51177331 0.51975522 0.5878675  0.6251164  0.59545031\n",
            " 0.61234535 0.5820141  0.55421046 0.58041772 0.60862046 0.61394173\n",
            " 0.65198883 0.64068112 0.67260875 0.69761873 0.67832912 0.69296262\n",
            " 0.71052281 0.68431555 0.67593455 0.71744047 0.73859252 0.7723826\n",
            " 0.78927764 0.78209392 0.75721697 0.76918984 0.73420247 0.71783956\n",
            " 0.70852734 0.7811627  0.77650659 0.77677265 0.79326859 0.80870028\n",
            " 0.79566316 0.77397898 0.77810297 0.75735001 0.75721697 0.81907676\n",
            " 0.8359718  0.83477451 0.82080617 0.80630571 0.78422243 0.88772117\n",
            " 0.88678994 0.86377544 0.88752162 0.89011574 0.87441799 0.8677664\n",
            " 0.8677664  0.87601437 0.90740987 0.90887322 0.89610217 0.86098177\n",
            " 0.86470666 0.88000532 0.91246508 0.93734202 0.93667687 0.9744579\n",
            " 0.98589863 0.96767327 0.9627511  0.94425968 0.98084342 0.98603166\n",
            " 0.9534719  0.95559311 0.95049393 0.94217473 0.93334109 0.92518169\n",
            " 0.91799682 0.91173583 0.90626949 0.90147686 0.89725477 0.8935132\n",
            " 0.89017045 0.88715535 0.88441205 0.88189805 0.8795858  0.87745923\n",
            " 0.87551016 0.87373489 0.87213188 0.87069851]\n",
            "22 day output [[0.8694315]]\n",
            "23 day input [0.55394439 0.55966476 0.56618332 0.53039777 0.54649461 0.53970999\n",
            " 0.51177331 0.51975522 0.5878675  0.6251164  0.59545031 0.61234535\n",
            " 0.5820141  0.55421046 0.58041772 0.60862046 0.61394173 0.65198883\n",
            " 0.64068112 0.67260875 0.69761873 0.67832912 0.69296262 0.71052281\n",
            " 0.68431555 0.67593455 0.71744047 0.73859252 0.7723826  0.78927764\n",
            " 0.78209392 0.75721697 0.76918984 0.73420247 0.71783956 0.70852734\n",
            " 0.7811627  0.77650659 0.77677265 0.79326859 0.80870028 0.79566316\n",
            " 0.77397898 0.77810297 0.75735001 0.75721697 0.81907676 0.8359718\n",
            " 0.83477451 0.82080617 0.80630571 0.78422243 0.88772117 0.88678994\n",
            " 0.86377544 0.88752162 0.89011574 0.87441799 0.8677664  0.8677664\n",
            " 0.87601437 0.90740987 0.90887322 0.89610217 0.86098177 0.86470666\n",
            " 0.88000532 0.91246508 0.93734202 0.93667687 0.9744579  0.98589863\n",
            " 0.96767327 0.9627511  0.94425968 0.98084342 0.98603166 0.9534719\n",
            " 0.95559311 0.95049393 0.94217473 0.93334109 0.92518169 0.91799682\n",
            " 0.91173583 0.90626949 0.90147686 0.89725477 0.8935132  0.89017045\n",
            " 0.88715535 0.88441205 0.88189805 0.8795858  0.87745923 0.87551016\n",
            " 0.87373489 0.87213188 0.87069851 0.8694315 ]\n",
            "23 day output [[0.8683247]]\n",
            "24 day input [0.55966476 0.56618332 0.53039777 0.54649461 0.53970999 0.51177331\n",
            " 0.51975522 0.5878675  0.6251164  0.59545031 0.61234535 0.5820141\n",
            " 0.55421046 0.58041772 0.60862046 0.61394173 0.65198883 0.64068112\n",
            " 0.67260875 0.69761873 0.67832912 0.69296262 0.71052281 0.68431555\n",
            " 0.67593455 0.71744047 0.73859252 0.7723826  0.78927764 0.78209392\n",
            " 0.75721697 0.76918984 0.73420247 0.71783956 0.70852734 0.7811627\n",
            " 0.77650659 0.77677265 0.79326859 0.80870028 0.79566316 0.77397898\n",
            " 0.77810297 0.75735001 0.75721697 0.81907676 0.8359718  0.83477451\n",
            " 0.82080617 0.80630571 0.78422243 0.88772117 0.88678994 0.86377544\n",
            " 0.88752162 0.89011574 0.87441799 0.8677664  0.8677664  0.87601437\n",
            " 0.90740987 0.90887322 0.89610217 0.86098177 0.86470666 0.88000532\n",
            " 0.91246508 0.93734202 0.93667687 0.9744579  0.98589863 0.96767327\n",
            " 0.9627511  0.94425968 0.98084342 0.98603166 0.9534719  0.95559311\n",
            " 0.95049393 0.94217473 0.93334109 0.92518169 0.91799682 0.91173583\n",
            " 0.90626949 0.90147686 0.89725477 0.8935132  0.89017045 0.88715535\n",
            " 0.88441205 0.88189805 0.8795858  0.87745923 0.87551016 0.87373489\n",
            " 0.87213188 0.87069851 0.8694315  0.8683247 ]\n",
            "24 day output [[0.867369]]\n",
            "25 day input [0.56618332 0.53039777 0.54649461 0.53970999 0.51177331 0.51975522\n",
            " 0.5878675  0.6251164  0.59545031 0.61234535 0.5820141  0.55421046\n",
            " 0.58041772 0.60862046 0.61394173 0.65198883 0.64068112 0.67260875\n",
            " 0.69761873 0.67832912 0.69296262 0.71052281 0.68431555 0.67593455\n",
            " 0.71744047 0.73859252 0.7723826  0.78927764 0.78209392 0.75721697\n",
            " 0.76918984 0.73420247 0.71783956 0.70852734 0.7811627  0.77650659\n",
            " 0.77677265 0.79326859 0.80870028 0.79566316 0.77397898 0.77810297\n",
            " 0.75735001 0.75721697 0.81907676 0.8359718  0.83477451 0.82080617\n",
            " 0.80630571 0.78422243 0.88772117 0.88678994 0.86377544 0.88752162\n",
            " 0.89011574 0.87441799 0.8677664  0.8677664  0.87601437 0.90740987\n",
            " 0.90887322 0.89610217 0.86098177 0.86470666 0.88000532 0.91246508\n",
            " 0.93734202 0.93667687 0.9744579  0.98589863 0.96767327 0.9627511\n",
            " 0.94425968 0.98084342 0.98603166 0.9534719  0.95559311 0.95049393\n",
            " 0.94217473 0.93334109 0.92518169 0.91799682 0.91173583 0.90626949\n",
            " 0.90147686 0.89725477 0.8935132  0.89017045 0.88715535 0.88441205\n",
            " 0.88189805 0.8795858  0.87745923 0.87551016 0.87373489 0.87213188\n",
            " 0.87069851 0.8694315  0.8683247  0.867369  ]\n",
            "25 day output [[0.8665542]]\n",
            "26 day input [0.53039777 0.54649461 0.53970999 0.51177331 0.51975522 0.5878675\n",
            " 0.6251164  0.59545031 0.61234535 0.5820141  0.55421046 0.58041772\n",
            " 0.60862046 0.61394173 0.65198883 0.64068112 0.67260875 0.69761873\n",
            " 0.67832912 0.69296262 0.71052281 0.68431555 0.67593455 0.71744047\n",
            " 0.73859252 0.7723826  0.78927764 0.78209392 0.75721697 0.76918984\n",
            " 0.73420247 0.71783956 0.70852734 0.7811627  0.77650659 0.77677265\n",
            " 0.79326859 0.80870028 0.79566316 0.77397898 0.77810297 0.75735001\n",
            " 0.75721697 0.81907676 0.8359718  0.83477451 0.82080617 0.80630571\n",
            " 0.78422243 0.88772117 0.88678994 0.86377544 0.88752162 0.89011574\n",
            " 0.87441799 0.8677664  0.8677664  0.87601437 0.90740987 0.90887322\n",
            " 0.89610217 0.86098177 0.86470666 0.88000532 0.91246508 0.93734202\n",
            " 0.93667687 0.9744579  0.98589863 0.96767327 0.9627511  0.94425968\n",
            " 0.98084342 0.98603166 0.9534719  0.95559311 0.95049393 0.94217473\n",
            " 0.93334109 0.92518169 0.91799682 0.91173583 0.90626949 0.90147686\n",
            " 0.89725477 0.8935132  0.89017045 0.88715535 0.88441205 0.88189805\n",
            " 0.8795858  0.87745923 0.87551016 0.87373489 0.87213188 0.87069851\n",
            " 0.8694315  0.8683247  0.867369   0.8665542 ]\n",
            "26 day output [[0.8658681]]\n",
            "27 day input [0.54649461 0.53970999 0.51177331 0.51975522 0.5878675  0.6251164\n",
            " 0.59545031 0.61234535 0.5820141  0.55421046 0.58041772 0.60862046\n",
            " 0.61394173 0.65198883 0.64068112 0.67260875 0.69761873 0.67832912\n",
            " 0.69296262 0.71052281 0.68431555 0.67593455 0.71744047 0.73859252\n",
            " 0.7723826  0.78927764 0.78209392 0.75721697 0.76918984 0.73420247\n",
            " 0.71783956 0.70852734 0.7811627  0.77650659 0.77677265 0.79326859\n",
            " 0.80870028 0.79566316 0.77397898 0.77810297 0.75735001 0.75721697\n",
            " 0.81907676 0.8359718  0.83477451 0.82080617 0.80630571 0.78422243\n",
            " 0.88772117 0.88678994 0.86377544 0.88752162 0.89011574 0.87441799\n",
            " 0.8677664  0.8677664  0.87601437 0.90740987 0.90887322 0.89610217\n",
            " 0.86098177 0.86470666 0.88000532 0.91246508 0.93734202 0.93667687\n",
            " 0.9744579  0.98589863 0.96767327 0.9627511  0.94425968 0.98084342\n",
            " 0.98603166 0.9534719  0.95559311 0.95049393 0.94217473 0.93334109\n",
            " 0.92518169 0.91799682 0.91173583 0.90626949 0.90147686 0.89725477\n",
            " 0.8935132  0.89017045 0.88715535 0.88441205 0.88189805 0.8795858\n",
            " 0.87745923 0.87551016 0.87373489 0.87213188 0.87069851 0.8694315\n",
            " 0.8683247  0.867369   0.8665542  0.86586809]\n",
            "27 day output [[0.86529666]]\n",
            "28 day input [0.53970999 0.51177331 0.51975522 0.5878675  0.6251164  0.59545031\n",
            " 0.61234535 0.5820141  0.55421046 0.58041772 0.60862046 0.61394173\n",
            " 0.65198883 0.64068112 0.67260875 0.69761873 0.67832912 0.69296262\n",
            " 0.71052281 0.68431555 0.67593455 0.71744047 0.73859252 0.7723826\n",
            " 0.78927764 0.78209392 0.75721697 0.76918984 0.73420247 0.71783956\n",
            " 0.70852734 0.7811627  0.77650659 0.77677265 0.79326859 0.80870028\n",
            " 0.79566316 0.77397898 0.77810297 0.75735001 0.75721697 0.81907676\n",
            " 0.8359718  0.83477451 0.82080617 0.80630571 0.78422243 0.88772117\n",
            " 0.88678994 0.86377544 0.88752162 0.89011574 0.87441799 0.8677664\n",
            " 0.8677664  0.87601437 0.90740987 0.90887322 0.89610217 0.86098177\n",
            " 0.86470666 0.88000532 0.91246508 0.93734202 0.93667687 0.9744579\n",
            " 0.98589863 0.96767327 0.9627511  0.94425968 0.98084342 0.98603166\n",
            " 0.9534719  0.95559311 0.95049393 0.94217473 0.93334109 0.92518169\n",
            " 0.91799682 0.91173583 0.90626949 0.90147686 0.89725477 0.8935132\n",
            " 0.89017045 0.88715535 0.88441205 0.88189805 0.8795858  0.87745923\n",
            " 0.87551016 0.87373489 0.87213188 0.87069851 0.8694315  0.8683247\n",
            " 0.867369   0.8665542  0.86586809 0.86529666]\n",
            "28 day output [[0.8648268]]\n",
            "29 day input [0.51177331 0.51975522 0.5878675  0.6251164  0.59545031 0.61234535\n",
            " 0.5820141  0.55421046 0.58041772 0.60862046 0.61394173 0.65198883\n",
            " 0.64068112 0.67260875 0.69761873 0.67832912 0.69296262 0.71052281\n",
            " 0.68431555 0.67593455 0.71744047 0.73859252 0.7723826  0.78927764\n",
            " 0.78209392 0.75721697 0.76918984 0.73420247 0.71783956 0.70852734\n",
            " 0.7811627  0.77650659 0.77677265 0.79326859 0.80870028 0.79566316\n",
            " 0.77397898 0.77810297 0.75735001 0.75721697 0.81907676 0.8359718\n",
            " 0.83477451 0.82080617 0.80630571 0.78422243 0.88772117 0.88678994\n",
            " 0.86377544 0.88752162 0.89011574 0.87441799 0.8677664  0.8677664\n",
            " 0.87601437 0.90740987 0.90887322 0.89610217 0.86098177 0.86470666\n",
            " 0.88000532 0.91246508 0.93734202 0.93667687 0.9744579  0.98589863\n",
            " 0.96767327 0.9627511  0.94425968 0.98084342 0.98603166 0.9534719\n",
            " 0.95559311 0.95049393 0.94217473 0.93334109 0.92518169 0.91799682\n",
            " 0.91173583 0.90626949 0.90147686 0.89725477 0.8935132  0.89017045\n",
            " 0.88715535 0.88441205 0.88189805 0.8795858  0.87745923 0.87551016\n",
            " 0.87373489 0.87213188 0.87069851 0.8694315  0.8683247  0.867369\n",
            " 0.8665542  0.86586809 0.86529666 0.8648268 ]\n",
            "29 day output [[0.8644454]]\n",
            "[[0.9534718990325928], [0.9555931091308594], [0.9504939317703247], [0.9421747326850891], [0.9333410859107971], [0.9251816868782043], [0.9179968237876892], [0.9117358326911926], [0.9062694907188416], [0.9014768600463867], [0.8972547650337219], [0.8935132026672363], [0.8901704549789429], [0.8871553540229797], [0.8844120502471924], [0.881898045539856], [0.8795858025550842], [0.8774592280387878], [0.8755101561546326], [0.8737348914146423], [0.872131884098053], [0.8706985116004944], [0.8694314956665039], [0.8683246970176697], [0.8673689961433411], [0.8665542006492615], [0.865868091583252], [0.8652966618537903], [0.8648267984390259], [0.8644453883171082]]\n"
          ]
        }
      ]
    },
    {
      "cell_type": "code",
      "source": [
        "day_new=np.arange(1,101)\n",
        "day_pred=np.arange(101,131)\n",
        "len(dataFrame)"
      ],
      "metadata": {
        "colab": {
          "base_uri": "https://localhost:8080/"
        },
        "id": "pwe3cwIC0z-y",
        "outputId": "b4089e80-6964-4396-c7ad-c9b75fb15a17"
      },
      "execution_count": 90,
      "outputs": [
        {
          "output_type": "execute_result",
          "data": {
            "text/plain": [
              "690"
            ]
          },
          "metadata": {},
          "execution_count": 90
        }
      ]
    },
    {
      "cell_type": "code",
      "source": [
        "plt.plot(day_new,scaler.inverse_transform(dataFrame[590:]))\n",
        "plt.plot(day_pred,scaler.inverse_transform(lst_output))"
      ],
      "metadata": {
        "colab": {
          "base_uri": "https://localhost:8080/",
          "height": 448
        },
        "id": "mNNiq7Ox1AyA",
        "outputId": "1f9ba15e-5726-49e7-a5c3-e89164f56e8c"
      },
      "execution_count": 91,
      "outputs": [
        {
          "output_type": "execute_result",
          "data": {
            "text/plain": [
              "[<matplotlib.lines.Line2D at 0x7f4578225f90>]"
            ]
          },
          "metadata": {},
          "execution_count": 91
        },
        {
          "output_type": "display_data",
          "data": {
            "text/plain": [
              "<Figure size 640x480 with 1 Axes>"
            ],
            "image/png": "[encoded data removed]"
          },
          "metadata": {}
        }
      ]
    },
    {
      "cell_type": "code",
      "source": [
        "df = dataFrame.tolist()\n",
        "df.extend(lst_output)\n",
        "plt.plot(df[550:])"
      ],
      "metadata": {
        "colab": {
          "base_uri": "https://localhost:8080/",
          "height": 448
        },
        "id": "DBB1AG3a1x3Q",
        "outputId": "ff965b01-3531-4a65-b675-3624be164b9b"
      },
      "execution_count": 92,
      "outputs": [
        {
          "output_type": "execute_result",
          "data": {
            "text/plain": [
              "[<matplotlib.lines.Line2D at 0x7f45781d0d90>]"
            ]
          },
          "metadata": {},
          "execution_count": 92
        },
        {
          "output_type": "display_data",
          "data": {
            "text/plain": [
              "<Figure size 640x480 with 1 Axes>"
            ],
            "image/png": "[encoded data removed]"
          },
          "metadata": {}
        }
      ]
    },
    {
      "cell_type": "code",
      "source": [
        "df = scaler.inverse_transform(df).tolist()\n",
        "plt.plot(df)"
      ],
      "metadata": {
        "colab": {
          "base_uri": "https://localhost:8080/",
          "height": 448
        },
        "id": "kEJZ8B9A17MW",
        "outputId": "2a1e2cd2-8d14-4e70-8574-9f3afb2a7b6a"
      },
      "execution_count": 93,
      "outputs": [
        {
          "output_type": "execute_result",
          "data": {
            "text/plain": [
              "[<matplotlib.lines.Line2D at 0x7f4578272050>]"
            ]
          },
          "metadata": {},
          "execution_count": 93
        },
        {
          "output_type": "display_data",
          "data": {
            "text/plain": [
              "<Figure size 640x480 with 1 Axes>"
            ],
            "image/png": "[encoded data removed]"
          },
          "metadata": {}
        }
      ]
    }
  ]
}