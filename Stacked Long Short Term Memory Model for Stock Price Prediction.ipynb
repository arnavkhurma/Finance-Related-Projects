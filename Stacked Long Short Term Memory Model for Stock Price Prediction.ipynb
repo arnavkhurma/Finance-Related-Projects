{
  "nbformat": 4,
  "nbformat_minor": 0,
  "metadata": {
    "colab": {
      "provenance": [],
      "authorship_tag": "ABX9TyN2iIQnENP+Mxisysse32I6"
    },
    "kernelspec": {
      "name": "python3",
      "display_name": "Python 3"
    },
    "language_info": {
      "name": "python"
    }
  },
  "cells": [
    {
      "cell_type": "markdown",
      "source": [
        "# **Stacked LTSM Model for Stock Price Prediction**\n"
      ],
      "metadata": {
        "id": "F_DuGZFJoc2K"
      }
    },
    {
      "cell_type": "code",
      "execution_count": 46,
      "metadata": {
        "colab": {
          "base_uri": "https://localhost:8080/"
        },
        "id": "qs7FssWpoUE1",
        "outputId": "19615edf-15b9-40d3-a52f-a1bfd20e3c02"
      },
      "outputs": [
        {
          "name": "stdout",
          "output_type": "stream",
          "text": [
            "Enter Stock Ticker: AAPL\n"
          ]
        },
        {
          "output_type": "stream",
          "name": "stderr",
          "text": [
            "<ipython-input-46-e7b0af6bfe10>:16: FutureWarning: In a future version of pandas all arguments of concat except for the argument 'objs' will be keyword-only.\n",
            "  dataFrame = reader.get_data_tiingo(stock, api_key= '97edc0f44b60fb2b588a96724400828e8daeed79')\n"
          ]
        }
      ],
      "source": [
        "# importing the necessary libraries\n",
        "import pandas as pd\n",
        "import numpy as np\n",
        "import pandas_datareader as reader\n",
        "import matplotlib.pyplot as plt\n",
        "import math as calculate\n",
        "from sklearn.metrics import mean_squared_error\n",
        "from sklearn.preprocessing import MinMaxScaler\n",
        "from tensorflow.keras.models import Sequential\n",
        "from tensorflow.keras.layers import LSTM\n",
        "from tensorflow.keras.layers import Dense\n",
        "import tensorflow\n",
        "\n",
        "# Using the Tiingo API to access daily financial data\n",
        "stock = input(\"Enter Stock Ticker: \")\n",
        "dataFrame = reader.get_data_tiingo(stock, api_key= '97edc0f44b60fb2b588a96724400828e8daeed79')\n",
        "\n",
        "# Exporting data to CSV File.\n",
        "dataFrame.to_csv('data.csv')"
      ]
    },
    {
      "cell_type": "code",
      "source": [
        "# Selecting only the close data for this prediction:\n",
        "dataFrame = pd.read_csv('data.csv')\n",
        "dataFrame = dataFrame.loc[dataFrame[\"date\"] >= '2020-09-12']\n",
        "dataFrame.index = np.arange(0, len(dataFrame))\n",
        "dataFrame.tail(5)"
      ],
      "metadata": {
        "colab": {
          "base_uri": "https://localhost:8080/",
          "height": 250
        },
        "id": "pMlnESRYxl4f",
        "outputId": "31ee02f1-f350-4514-d40d-49c774556d6e"
      },
      "execution_count": 47,
      "outputs": [
        {
          "output_type": "execute_result",
          "data": {
            "text/plain": [
              "    symbol                       date   close     high      low     open  \\\n",
              "685   AAPL  2023-06-05 00:00:00+00:00  179.58  184.951  178.035  182.630   \n",
              "686   AAPL  2023-06-06 00:00:00+00:00  179.21  180.120  177.430  179.965   \n",
              "687   AAPL  2023-06-07 00:00:00+00:00  177.82  181.210  177.320  178.440   \n",
              "688   AAPL  2023-06-08 00:00:00+00:00  180.57  180.840  177.460  177.895   \n",
              "689   AAPL  2023-06-09 00:00:00+00:00  180.96  182.230  180.630  181.500   \n",
              "\n",
              "        volume  adjClose  adjHigh   adjLow  adjOpen  adjVolume  divCash  \\\n",
              "685  121946497    179.58  184.951  178.035  182.630  121946497      0.0   \n",
              "686   64848374    179.21  180.120  177.430  179.965   64848374      0.0   \n",
              "687   61944615    177.82  181.210  177.320  178.440   61944615      0.0   \n",
              "688   50214881    180.57  180.840  177.460  177.895   50214881      0.0   \n",
              "689   48899973    180.96  182.230  180.630  181.500   48899973      0.0   \n",
              "\n",
              "     splitFactor  \n",
              "685          1.0  \n",
              "686          1.0  \n",
              "687          1.0  \n",
              "688          1.0  \n",
              "689          1.0  "
            ],
            "text/html": [
              "\n",
              "  <div id=\"df-12616314-22db-44fc-8bcb-f5b9e62ce4f2\">\n",
              "    <div class=\"colab-df-container\">\n",
              "      <div>\n",
              "<style scoped>\n",
              "    .dataframe tbody tr th:only-of-type {\n",
              "        vertical-align: middle;\n",
              "    }\n",
              "\n",
              "    .dataframe tbody tr th {\n",
              "        vertical-align: top;\n",
              "    }\n",
              "\n",
              "    .dataframe thead th {\n",
              "        text-align: right;\n",
              "    }\n",
              "</style>\n",
              "<table border=\"1\" class=\"dataframe\">\n",
              "  <thead>\n",
              "    <tr style=\"text-align: right;\">\n",
              "      <th></th>\n",
              "      <th>symbol</th>\n",
              "      <th>date</th>\n",
              "      <th>close</th>\n",
              "      <th>high</th>\n",
              "      <th>low</th>\n",
              "      <th>open</th>\n",
              "      <th>volume</th>\n",
              "      <th>adjClose</th>\n",
              "      <th>adjHigh</th>\n",
              "      <th>adjLow</th>\n",
              "      <th>adjOpen</th>\n",
              "      <th>adjVolume</th>\n",
              "      <th>divCash</th>\n",
              "      <th>splitFactor</th>\n",
              "    </tr>\n",
              "  </thead>\n",
              "  <tbody>\n",
              "    <tr>\n",
              "      <th>685</th>\n",
              "      <td>AAPL</td>\n",
              "      <td>2023-06-05 00:00:00+00:00</td>\n",
              "      <td>179.58</td>\n",
              "      <td>184.951</td>\n",
              "      <td>178.035</td>\n",
              "      <td>182.630</td>\n",
              "      <td>121946497</td>\n",
              "      <td>179.58</td>\n",
              "      <td>184.951</td>\n",
              "      <td>178.035</td>\n",
              "      <td>182.630</td>\n",
              "      <td>121946497</td>\n",
              "      <td>0.0</td>\n",
              "      <td>1.0</td>\n",
              "    </tr>\n",
              "    <tr>\n",
              "      <th>686</th>\n",
              "      <td>AAPL</td>\n",
              "      <td>2023-06-06 00:00:00+00:00</td>\n",
              "      <td>179.21</td>\n",
              "      <td>180.120</td>\n",
              "      <td>177.430</td>\n",
              "      <td>179.965</td>\n",
              "      <td>64848374</td>\n",
              "      <td>179.21</td>\n",
              "      <td>180.120</td>\n",
              "      <td>177.430</td>\n",
              "      <td>179.965</td>\n",
              "      <td>64848374</td>\n",
              "      <td>0.0</td>\n",
              "      <td>1.0</td>\n",
              "    </tr>\n",
              "    <tr>\n",
              "      <th>687</th>\n",
              "      <td>AAPL</td>\n",
              "      <td>2023-06-07 00:00:00+00:00</td>\n",
              "      <td>177.82</td>\n",
              "      <td>181.210</td>\n",
              "      <td>177.320</td>\n",
              "      <td>178.440</td>\n",
              "      <td>61944615</td>\n",
              "      <td>177.82</td>\n",
              "      <td>181.210</td>\n",
              "      <td>177.320</td>\n",
              "      <td>178.440</td>\n",
              "      <td>61944615</td>\n",
              "      <td>0.0</td>\n",
              "      <td>1.0</td>\n",
              "    </tr>\n",
              "    <tr>\n",
              "      <th>688</th>\n",
              "      <td>AAPL</td>\n",
              "      <td>2023-06-08 00:00:00+00:00</td>\n",
              "      <td>180.57</td>\n",
              "      <td>180.840</td>\n",
              "      <td>177.460</td>\n",
              "      <td>177.895</td>\n",
              "      <td>50214881</td>\n",
              "      <td>180.57</td>\n",
              "      <td>180.840</td>\n",
              "      <td>177.460</td>\n",
              "      <td>177.895</td>\n",
              "      <td>50214881</td>\n",
              "      <td>0.0</td>\n",
              "      <td>1.0</td>\n",
              "    </tr>\n",
              "    <tr>\n",
              "      <th>689</th>\n",
              "      <td>AAPL</td>\n",
              "      <td>2023-06-09 00:00:00+00:00</td>\n",
              "      <td>180.96</td>\n",
              "      <td>182.230</td>\n",
              "      <td>180.630</td>\n",
              "      <td>181.500</td>\n",
              "      <td>48899973</td>\n",
              "      <td>180.96</td>\n",
              "      <td>182.230</td>\n",
              "      <td>180.630</td>\n",
              "      <td>181.500</td>\n",
              "      <td>48899973</td>\n",
              "      <td>0.0</td>\n",
              "      <td>1.0</td>\n",
              "    </tr>\n",
              "  </tbody>\n",
              "</table>\n",
              "</div>\n",
              "      <button class=\"colab-df-convert\" onclick=\"convertToInteractive('df-12616314-22db-44fc-8bcb-f5b9e62ce4f2')\"\n",
              "              title=\"Convert this dataframe to an interactive table.\"\n",
              "              style=\"display:none;\">\n",
              "        \n",
              "  <svg xmlns=\"http://www.w3.org/2000/svg\" height=\"24px\"viewBox=\"0 0 24 24\"\n",
              "       width=\"24px\">\n",
              "    <path d=\"M0 0h24v24H0V0z\" fill=\"none\"/>\n",
              "    <path d=\"M18.56 5.44l.94 2.06.94-2.06 2.06-.94-2.06-.94-.94-2.06-.94 2.06-2.06.94zm-11 1L8.5 8.5l.94-2.06 2.06-.94-2.06-.94L8.5 2.5l-.94 2.06-2.06.94zm10 10l.94 2.06.94-2.06 2.06-.94-2.06-.94-.94-2.06-.94 2.06-2.06.94z\"/><path d=\"M17.41 7.96l-1.37-1.37c-.4-.4-.92-.59-1.43-.59-.52 0-1.04.2-1.43.59L10.3 9.45l-7.72 7.72c-.78.78-.78 2.05 0 2.83L4 21.41c.39.39.9.59 1.41.59.51 0 1.02-.2 1.41-.59l7.78-7.78 2.81-2.81c.8-.78.8-2.07 0-2.86zM5.41 20L4 18.59l7.72-7.72 1.47 1.35L5.41 20z\"/>\n",
              "  </svg>\n",
              "      </button>\n",
              "      \n",
              "  <style>\n",
              "    .colab-df-container {\n",
              "      display:flex;\n",
              "      flex-wrap:wrap;\n",
              "      gap: 12px;\n",
              "    }\n",
              "\n",
              "    .colab-df-convert {\n",
              "      background-color: #E8F0FE;\n",
              "      border: none;\n",
              "      border-radius: 50%;\n",
              "      cursor: pointer;\n",
              "      display: none;\n",
              "      fill: #1967D2;\n",
              "      height: 32px;\n",
              "      padding: 0 0 0 0;\n",
              "      width: 32px;\n",
              "    }\n",
              "\n",
              "    .colab-df-convert:hover {\n",
              "      background-color: #E2EBFA;\n",
              "      box-shadow: 0px 1px 2px rgba(60, 64, 67, 0.3), 0px 1px 3px 1px rgba(60, 64, 67, 0.15);\n",
              "      fill: #174EA6;\n",
              "    }\n",
              "\n",
              "    [theme=dark] .colab-df-convert {\n",
              "      background-color: #3B4455;\n",
              "      fill: #D2E3FC;\n",
              "    }\n",
              "\n",
              "    [theme=dark] .colab-df-convert:hover {\n",
              "      background-color: #434B5C;\n",
              "      box-shadow: 0px 1px 3px 1px rgba(0, 0, 0, 0.15);\n",
              "      filter: drop-shadow(0px 1px 2px rgba(0, 0, 0, 0.3));\n",
              "      fill: #FFFFFF;\n",
              "    }\n",
              "  </style>\n",
              "\n",
              "      <script>\n",
              "        const buttonEl =\n",
              "          document.querySelector('#df-12616314-22db-44fc-8bcb-f5b9e62ce4f2 button.colab-df-convert');\n",
              "        buttonEl.style.display =\n",
              "          google.colab.kernel.accessAllowed ? 'block' : 'none';\n",
              "\n",
              "        async function convertToInteractive(key) {\n",
              "          const element = document.querySelector('#df-12616314-22db-44fc-8bcb-f5b9e62ce4f2');\n",
              "          const dataTable =\n",
              "            await google.colab.kernel.invokeFunction('convertToInteractive',\n",
              "                                                     [key], {});\n",
              "          if (!dataTable) return;\n",
              "\n",
              "          const docLinkHtml = 'Like what you see? Visit the ' +\n",
              "            '<a target=\"_blank\" href=https://colab.research.google.com/notebooks/data_table.ipynb>data table notebook</a>'\n",
              "            + ' to learn more about interactive tables.';\n",
              "          element.innerHTML = '';\n",
              "          dataTable['output_type'] = 'display_data';\n",
              "          await google.colab.output.renderOutput(dataTable, element);\n",
              "          const docLink = document.createElement('div');\n",
              "          docLink.innerHTML = docLinkHtml;\n",
              "          element.appendChild(docLink);\n",
              "        }\n",
              "      </script>\n",
              "    </div>\n",
              "  </div>\n",
              "  "
            ]
          },
          "metadata": {},
          "execution_count": 47
        }
      ]
    },
    {
      "cell_type": "code",
      "source": [
        "# Plotting the close prices from \n",
        "dataFrame = dataFrame[\"close\"]\n",
        "plt.plot(dataFrame)\n",
        "plt.xlabel(\"Days since 2020-09-14\")\n",
        "plt.ylabel(stock + \" Stock Price\")"
      ],
      "metadata": {
        "colab": {
          "base_uri": "https://localhost:8080/",
          "height": 467
        },
        "id": "CwnGT7HT0zRq",
        "outputId": "d76a7d6e-b443-4f8d-bcb5-3eaf6bc3d3d5"
      },
      "execution_count": 48,
      "outputs": [
        {
          "output_type": "execute_result",
          "data": {
            "text/plain": [
              "Text(0, 0.5, 'AAPL Stock Price')"
            ]
          },
          "metadata": {},
          "execution_count": 48
        },
        {
          "output_type": "display_data",
          "data": {
            "text/plain": [
              "<Figure size 640x480 with 1 Axes>"
            ],
            "image/png": "[encoded data removed]"
          },
          "metadata": {}
        }
      ]
    },
    {
      "cell_type": "code",
      "source": [
        "dataFrame"
      ],
      "metadata": {
        "colab": {
          "base_uri": "https://localhost:8080/"
        },
        "id": "O0M8kOA4cdUI",
        "outputId": "07ad352c-3065-4d77-e690-b2f878ac67bf"
      },
      "execution_count": 49,
      "outputs": [
        {
          "output_type": "execute_result",
          "data": {
            "text/plain": [
              "0      115.355\n",
              "1      115.540\n",
              "2      112.130\n",
              "3      110.340\n",
              "4      106.840\n",
              "        ...   \n",
              "685    179.580\n",
              "686    179.210\n",
              "687    177.820\n",
              "688    180.570\n",
              "689    180.960\n",
              "Name: close, Length: 690, dtype: float64"
            ]
          },
          "metadata": {},
          "execution_count": 49
        }
      ]
    },
    {
      "cell_type": "code",
      "source": [
        "# As LTSM Models are sensititve to the scale of the data, we will transform \n",
        "# the data using the MinMax Scaler.\n",
        "scaler = MinMaxScaler(feature_range = (0, 1))\n",
        "dataFrame = scaler.fit_transform(np.array(dataFrame).reshape(-1, 1))\n",
        "\n",
        "# dataFrame is now converted to an array of values from 0 to 1 for the LTSM Model.\n",
        "# Now we will preprocess our data and split into Training and Testing Data\n",
        "size = len(dataFrame)\n",
        "size_training = int(size * .75)               # 75% of the data\n",
        "size_validation = int(size - size_training)   # 25% of the data\n",
        "print(\"Training Size for this model is\", size_training, \"datapoints.\")\n",
        "print(\"Validation Size for this model is\", size_validation, \"datapoints.\")"
      ],
      "metadata": {
        "colab": {
          "base_uri": "https://localhost:8080/"
        },
        "id": "Mbbu_FDn1QC8",
        "outputId": "cc1edb94-0963-4ec6-ecc5-002d6e814f40"
      },
      "execution_count": 50,
      "outputs": [
        {
          "output_type": "stream",
          "name": "stdout",
          "text": [
            "Training Size for this model is 517 datapoints.\n",
            "Validation Size for this model is 173 datapoints.\n"
          ]
        }
      ]
    },
    {
      "cell_type": "code",
      "source": [
        "training_data = dataFrame[0:size_training, :]\n",
        "validation_data = dataFrame[len(training_data):len(dataFrame), :]\n",
        "len(training_data), len(validation_data)"
      ],
      "metadata": {
        "colab": {
          "base_uri": "https://localhost:8080/"
        },
        "id": "OKf56EgKcbym",
        "outputId": "7c2e9ea0-0a17-4552-89ec-f05759637118"
      },
      "execution_count": 51,
      "outputs": [
        {
          "output_type": "execute_result",
          "data": {
            "text/plain": [
              "(517, 173)"
            ]
          },
          "metadata": {},
          "execution_count": 51
        }
      ]
    },
    {
      "cell_type": "code",
      "source": [
        "# Now we will convert the array of values into a matrix using a function.\n",
        "def create_dataset(dataset, time_step = 1):\n",
        "  dataX = []\n",
        "  dataY = []\n",
        "  for i in range(len(dataset)-1-time_step):\n",
        "    a = dataset[i:(i + time_step), 0]\n",
        "    dataX.append(a)\n",
        "    dataY.append(dataset[i + time_step, 0])\n",
        "  return np.array(dataX), np.array(dataY)"
      ],
      "metadata": {
        "id": "8YnJXURJZdbk"
      },
      "execution_count": 52,
      "outputs": []
    },
    {
      "cell_type": "code",
      "source": [
        "time_step = 100\n",
        "x_train, y_train = create_dataset(training_data, time_step)\n",
        "x_validate, y_validate = create_dataset(validation_data, time_step)\n",
        "x_train.shape, y_train.shape, x_validate.shape, y_validate.shape"
      ],
      "metadata": {
        "colab": {
          "base_uri": "https://localhost:8080/"
        },
        "id": "hoiWcS35t3q1",
        "outputId": "f03fd58d-cdbf-49c0-853a-df003c059a11"
      },
      "execution_count": 53,
      "outputs": [
        {
          "output_type": "execute_result",
          "data": {
            "text/plain": [
              "((416, 100), (416,), (72, 100), (72,))"
            ]
          },
          "metadata": {},
          "execution_count": 53
        }
      ]
    },
    {
      "cell_type": "code",
      "source": [
        "# Now we will reshape to transform the data into a 3 dimensional matrix,\n",
        "# in order to create the stacked LSTM Model.\n",
        "# Format is [data, timestep, feature]\n",
        "x_train = x_train.reshape(x_train.shape[0], x_train.shape[1], 1)\n",
        "x_validate = x_validate.reshape(x_validate.shape[0], x_validate.shape[1], 1)"
      ],
      "metadata": {
        "id": "Lie3A98awITE"
      },
      "execution_count": 54,
      "outputs": []
    },
    {
      "cell_type": "code",
      "source": [
        "lstm_model = Sequential()\n",
        "lstm_model.add(LSTM(50, return_sequences = True, input_shape = (100, 1)))\n",
        "lstm_model.add(LSTM(50, return_sequences = True))\n",
        "lstm_model.add(LSTM(50))\n",
        "lstm_model.add(Dense(1))\n",
        "lstm_model.compile(loss = \"mean_squared_error\", optimizer = \"adam\")\n",
        "model_summary = lstm_model.summary()"
      ],
      "metadata": {
        "colab": {
          "base_uri": "https://localhost:8080/"
        },
        "id": "StzE6W2SFrgU",
        "outputId": "01d2a37d-8df4-4180-a8f2-c84fafe5d335"
      },
      "execution_count": 55,
      "outputs": [
        {
          "output_type": "stream",
          "name": "stdout",
          "text": [
            "Model: \"sequential_1\"\n",
            "_________________________________________________________________\n",
            " Layer (type)                Output Shape              Param #   \n",
            "=================================================================\n",
            " lstm_3 (LSTM)               (None, 100, 50)           10400     \n",
            "                                                                 \n",
            " lstm_4 (LSTM)               (None, 100, 50)           20200     \n",
            "                                                                 \n",
            " lstm_5 (LSTM)               (None, 50)                20200     \n",
            "                                                                 \n",
            " dense_1 (Dense)             (None, 1)                 51        \n",
            "                                                                 \n",
            "=================================================================\n",
            "Total params: 50,851\n",
            "Trainable params: 50,851\n",
            "Non-trainable params: 0\n",
            "_________________________________________________________________\n"
          ]
        }
      ]
    },
    {
      "cell_type": "code",
      "source": [
        "lstm_model.fit(x_train, y_train, validation_data = (x_validate, y_validate), epochs = 100, batch_size = 64, verbose=1)"
      ],
      "metadata": {
        "colab": {
          "base_uri": "https://localhost:8080/"
        },
        "id": "gdVk7vQ0HhDo",
        "outputId": "89e487c7-d192-4b9f-fa09-792d15a17b7c"
      },
      "execution_count": 56,
      "outputs": [
        {
          "output_type": "stream",
          "name": "stdout",
          "text": [
            "Epoch 1/100\n",
            "7/7 [==============================] - 10s 396ms/step - loss: 0.1644 - val_loss: 0.0300\n",
            "Epoch 2/100\n",
            "7/7 [==============================] - 1s 193ms/step - loss: 0.0329 - val_loss: 0.0660\n",
            "Epoch 3/100\n",
            "7/7 [==============================] - 2s 247ms/step - loss: 0.0262 - val_loss: 0.0094\n",
            "Epoch 4/100\n",
            "7/7 [==============================] - 2s 330ms/step - loss: 0.0163 - val_loss: 0.0053\n",
            "Epoch 5/100\n",
            "7/7 [==============================] - 1s 198ms/step - loss: 0.0123 - val_loss: 0.0242\n",
            "Epoch 6/100\n",
            "7/7 [==============================] - 1s 194ms/step - loss: 0.0126 - val_loss: 0.0062\n",
            "Epoch 7/100\n",
            "7/7 [==============================] - 1s 197ms/step - loss: 0.0114 - val_loss: 0.0093\n",
            "Epoch 8/100\n",
            "7/7 [==============================] - 1s 195ms/step - loss: 0.0103 - val_loss: 0.0098\n",
            "Epoch 9/100\n",
            "7/7 [==============================] - 1s 211ms/step - loss: 0.0098 - val_loss: 0.0059\n",
            "Epoch 10/100\n",
            "7/7 [==============================] - 1s 204ms/step - loss: 0.0094 - val_loss: 0.0070\n",
            "Epoch 11/100\n",
            "7/7 [==============================] - 1s 198ms/step - loss: 0.0089 - val_loss: 0.0047\n",
            "Epoch 12/100\n",
            "7/7 [==============================] - 2s 321ms/step - loss: 0.0086 - val_loss: 0.0059\n",
            "Epoch 13/100\n",
            "7/7 [==============================] - 2s 265ms/step - loss: 0.0084 - val_loss: 0.0060\n",
            "Epoch 14/100\n",
            "7/7 [==============================] - 1s 200ms/step - loss: 0.0081 - val_loss: 0.0036\n",
            "Epoch 15/100\n",
            "7/7 [==============================] - 1s 198ms/step - loss: 0.0079 - val_loss: 0.0045\n",
            "Epoch 16/100\n",
            "7/7 [==============================] - 1s 208ms/step - loss: 0.0074 - val_loss: 0.0053\n",
            "Epoch 17/100\n",
            "7/7 [==============================] - 1s 202ms/step - loss: 0.0071 - val_loss: 0.0045\n",
            "Epoch 18/100\n",
            "7/7 [==============================] - 1s 195ms/step - loss: 0.0069 - val_loss: 0.0047\n",
            "Epoch 19/100\n",
            "7/7 [==============================] - 1s 195ms/step - loss: 0.0068 - val_loss: 0.0036\n",
            "Epoch 20/100\n",
            "7/7 [==============================] - 2s 274ms/step - loss: 0.0064 - val_loss: 0.0059\n",
            "Epoch 21/100\n",
            "7/7 [==============================] - 2s 315ms/step - loss: 0.0064 - val_loss: 0.0026\n",
            "Epoch 22/100\n",
            "7/7 [==============================] - 1s 199ms/step - loss: 0.0062 - val_loss: 0.0034\n",
            "Epoch 23/100\n",
            "7/7 [==============================] - 1s 197ms/step - loss: 0.0060 - val_loss: 0.0036\n",
            "Epoch 24/100\n",
            "7/7 [==============================] - 1s 204ms/step - loss: 0.0059 - val_loss: 0.0046\n",
            "Epoch 25/100\n",
            "7/7 [==============================] - 1s 197ms/step - loss: 0.0058 - val_loss: 0.0043\n",
            "Epoch 26/100\n",
            "7/7 [==============================] - 1s 198ms/step - loss: 0.0058 - val_loss: 0.0034\n",
            "Epoch 27/100\n",
            "7/7 [==============================] - 1s 202ms/step - loss: 0.0055 - val_loss: 0.0028\n",
            "Epoch 28/100\n",
            "7/7 [==============================] - 1s 195ms/step - loss: 0.0055 - val_loss: 0.0025\n",
            "Epoch 29/100\n",
            "7/7 [==============================] - 2s 333ms/step - loss: 0.0054 - val_loss: 0.0020\n",
            "Epoch 30/100\n",
            "7/7 [==============================] - 2s 242ms/step - loss: 0.0054 - val_loss: 0.0021\n",
            "Epoch 31/100\n",
            "7/7 [==============================] - 1s 202ms/step - loss: 0.0052 - val_loss: 0.0035\n",
            "Epoch 32/100\n",
            "7/7 [==============================] - 1s 197ms/step - loss: 0.0050 - val_loss: 0.0043\n",
            "Epoch 33/100\n",
            "7/7 [==============================] - 1s 210ms/step - loss: 0.0051 - val_loss: 0.0018\n",
            "Epoch 34/100\n",
            "7/7 [==============================] - 1s 198ms/step - loss: 0.0051 - val_loss: 0.0015\n",
            "Epoch 35/100\n",
            "7/7 [==============================] - 1s 199ms/step - loss: 0.0054 - val_loss: 0.0022\n",
            "Epoch 36/100\n",
            "7/7 [==============================] - 1s 201ms/step - loss: 0.0048 - val_loss: 0.0015\n",
            "Epoch 37/100\n",
            "7/7 [==============================] - 2s 323ms/step - loss: 0.0051 - val_loss: 0.0022\n",
            "Epoch 38/100\n",
            "7/7 [==============================] - 2s 267ms/step - loss: 0.0048 - val_loss: 0.0072\n",
            "Epoch 39/100\n",
            "7/7 [==============================] - 1s 199ms/step - loss: 0.0051 - val_loss: 0.0046\n",
            "Epoch 40/100\n",
            "7/7 [==============================] - 1s 195ms/step - loss: 0.0046 - val_loss: 0.0035\n",
            "Epoch 41/100\n",
            "7/7 [==============================] - 1s 196ms/step - loss: 0.0043 - val_loss: 0.0022\n",
            "Epoch 42/100\n",
            "7/7 [==============================] - 1s 201ms/step - loss: 0.0043 - val_loss: 0.0014\n",
            "Epoch 43/100\n",
            "7/7 [==============================] - 1s 199ms/step - loss: 0.0044 - val_loss: 0.0018\n",
            "Epoch 44/100\n",
            "7/7 [==============================] - 1s 196ms/step - loss: 0.0041 - val_loss: 0.0019\n",
            "Epoch 45/100\n",
            "7/7 [==============================] - 1s 213ms/step - loss: 0.0041 - val_loss: 0.0019\n",
            "Epoch 46/100\n",
            "7/7 [==============================] - 2s 340ms/step - loss: 0.0040 - val_loss: 0.0020\n",
            "Epoch 47/100\n",
            "7/7 [==============================] - 2s 203ms/step - loss: 0.0039 - val_loss: 0.0016\n",
            "Epoch 48/100\n",
            "7/7 [==============================] - 1s 199ms/step - loss: 0.0038 - val_loss: 0.0041\n",
            "Epoch 49/100\n",
            "7/7 [==============================] - 1s 202ms/step - loss: 0.0039 - val_loss: 0.0056\n",
            "Epoch 50/100\n",
            "7/7 [==============================] - 1s 198ms/step - loss: 0.0042 - val_loss: 0.0039\n",
            "Epoch 51/100\n",
            "7/7 [==============================] - 1s 196ms/step - loss: 0.0039 - val_loss: 0.0020\n",
            "Epoch 52/100\n",
            "7/7 [==============================] - 1s 200ms/step - loss: 0.0036 - val_loss: 0.0030\n",
            "Epoch 53/100\n",
            "7/7 [==============================] - 1s 202ms/step - loss: 0.0036 - val_loss: 0.0018\n",
            "Epoch 54/100\n",
            "7/7 [==============================] - 2s 289ms/step - loss: 0.0035 - val_loss: 0.0028\n",
            "Epoch 55/100\n",
            "7/7 [==============================] - 2s 289ms/step - loss: 0.0035 - val_loss: 0.0028\n",
            "Epoch 56/100\n",
            "7/7 [==============================] - 1s 196ms/step - loss: 0.0036 - val_loss: 0.0036\n",
            "Epoch 57/100\n",
            "7/7 [==============================] - 1s 199ms/step - loss: 0.0034 - val_loss: 0.0032\n",
            "Epoch 58/100\n",
            "7/7 [==============================] - 1s 200ms/step - loss: 0.0034 - val_loss: 0.0020\n",
            "Epoch 59/100\n",
            "7/7 [==============================] - 1s 199ms/step - loss: 0.0033 - val_loss: 0.0013\n",
            "Epoch 60/100\n",
            "7/7 [==============================] - 1s 200ms/step - loss: 0.0032 - val_loss: 0.0019\n",
            "Epoch 61/100\n",
            "7/7 [==============================] - 1s 196ms/step - loss: 0.0032 - val_loss: 0.0046\n",
            "Epoch 62/100\n",
            "7/7 [==============================] - 1s 211ms/step - loss: 0.0034 - val_loss: 0.0043\n",
            "Epoch 63/100\n",
            "7/7 [==============================] - 2s 335ms/step - loss: 0.0036 - val_loss: 0.0020\n",
            "Epoch 64/100\n",
            "7/7 [==============================] - 2s 208ms/step - loss: 0.0034 - val_loss: 0.0013\n",
            "Epoch 65/100\n",
            "7/7 [==============================] - 1s 196ms/step - loss: 0.0030 - val_loss: 0.0018\n",
            "Epoch 66/100\n",
            "7/7 [==============================] - 1s 201ms/step - loss: 0.0028 - val_loss: 0.0028\n",
            "Epoch 67/100\n",
            "7/7 [==============================] - 1s 197ms/step - loss: 0.0028 - val_loss: 0.0021\n",
            "Epoch 68/100\n",
            "7/7 [==============================] - 1s 198ms/step - loss: 0.0028 - val_loss: 0.0036\n",
            "Epoch 69/100\n",
            "7/7 [==============================] - 1s 202ms/step - loss: 0.0029 - val_loss: 0.0014\n",
            "Epoch 70/100\n",
            "7/7 [==============================] - 1s 197ms/step - loss: 0.0030 - val_loss: 0.0013\n",
            "Epoch 71/100\n",
            "7/7 [==============================] - 2s 294ms/step - loss: 0.0027 - val_loss: 0.0013\n",
            "Epoch 72/100\n",
            "7/7 [==============================] - 2s 292ms/step - loss: 0.0027 - val_loss: 0.0023\n",
            "Epoch 73/100\n",
            "7/7 [==============================] - 1s 201ms/step - loss: 0.0026 - val_loss: 0.0037\n",
            "Epoch 74/100\n",
            "7/7 [==============================] - 1s 198ms/step - loss: 0.0028 - val_loss: 0.0040\n",
            "Epoch 75/100\n",
            "7/7 [==============================] - 1s 209ms/step - loss: 0.0030 - val_loss: 0.0023\n",
            "Epoch 76/100\n",
            "7/7 [==============================] - 1s 203ms/step - loss: 0.0031 - val_loss: 0.0015\n",
            "Epoch 77/100\n",
            "7/7 [==============================] - 1s 200ms/step - loss: 0.0032 - val_loss: 0.0013\n",
            "Epoch 78/100\n",
            "7/7 [==============================] - 1s 199ms/step - loss: 0.0030 - val_loss: 0.0013\n",
            "Epoch 79/100\n",
            "7/7 [==============================] - 2s 224ms/step - loss: 0.0025 - val_loss: 0.0013\n",
            "Epoch 80/100\n",
            "7/7 [==============================] - 2s 337ms/step - loss: 0.0024 - val_loss: 0.0013\n",
            "Epoch 81/100\n",
            "7/7 [==============================] - 1s 204ms/step - loss: 0.0026 - val_loss: 0.0024\n",
            "Epoch 82/100\n",
            "7/7 [==============================] - 1s 198ms/step - loss: 0.0027 - val_loss: 0.0014\n",
            "Epoch 83/100\n",
            "7/7 [==============================] - 1s 199ms/step - loss: 0.0024 - val_loss: 0.0013\n",
            "Epoch 84/100\n",
            "7/7 [==============================] - 1s 198ms/step - loss: 0.0023 - val_loss: 0.0013\n",
            "Epoch 85/100\n",
            "7/7 [==============================] - 1s 198ms/step - loss: 0.0024 - val_loss: 0.0013\n",
            "Epoch 86/100\n",
            "7/7 [==============================] - 1s 196ms/step - loss: 0.0022 - val_loss: 0.0014\n",
            "Epoch 87/100\n",
            "7/7 [==============================] - 1s 199ms/step - loss: 0.0021 - val_loss: 0.0013\n",
            "Epoch 88/100\n",
            "7/7 [==============================] - 2s 307ms/step - loss: 0.0024 - val_loss: 0.0012\n",
            "Epoch 89/100\n",
            "7/7 [==============================] - 2s 279ms/step - loss: 0.0023 - val_loss: 0.0028\n",
            "Epoch 90/100\n",
            "7/7 [==============================] - 1s 198ms/step - loss: 0.0029 - val_loss: 0.0018\n",
            "Epoch 91/100\n",
            "7/7 [==============================] - 1s 198ms/step - loss: 0.0025 - val_loss: 0.0013\n",
            "Epoch 92/100\n",
            "7/7 [==============================] - 1s 196ms/step - loss: 0.0023 - val_loss: 0.0013\n",
            "Epoch 93/100\n",
            "7/7 [==============================] - 1s 200ms/step - loss: 0.0025 - val_loss: 0.0013\n",
            "Epoch 94/100\n",
            "7/7 [==============================] - 1s 202ms/step - loss: 0.0023 - val_loss: 0.0017\n",
            "Epoch 95/100\n",
            "7/7 [==============================] - 1s 199ms/step - loss: 0.0027 - val_loss: 0.0016\n",
            "Epoch 96/100\n",
            "7/7 [==============================] - 1s 220ms/step - loss: 0.0022 - val_loss: 0.0012\n",
            "Epoch 97/100\n",
            "7/7 [==============================] - 2s 329ms/step - loss: 0.0022 - val_loss: 0.0012\n",
            "Epoch 98/100\n",
            "7/7 [==============================] - 2s 205ms/step - loss: 0.0020 - val_loss: 0.0019\n",
            "Epoch 99/100\n",
            "7/7 [==============================] - 1s 202ms/step - loss: 0.0021 - val_loss: 0.0019\n",
            "Epoch 100/100\n",
            "7/7 [==============================] - 1s 200ms/step - loss: 0.0021 - val_loss: 0.0041\n"
          ]
        },
        {
          "output_type": "execute_result",
          "data": {
            "text/plain": [
              "<keras.callbacks.History at 0x7f457f827130>"
            ]
          },
          "metadata": {},
          "execution_count": 56
        }
      ]
    },
    {
      "cell_type": "code",
      "source": [
        "# Run predictions on the model for both, the training and validation data and\n",
        "# transform them back.\n",
        "train_prediction = lstm_model.predict(x_train)\n",
        "train_prediction = scaler.inverse_transform(train_prediction)\n",
        "validation_prediction = lstm_model.predict(x_validate)\n",
        "validation_prediction = scaler.inverse_transform(validation_prediction)"
      ],
      "metadata": {
        "colab": {
          "base_uri": "https://localhost:8080/"
        },
        "id": "kJRVuAnsJj0n",
        "outputId": "1c82c530-bf35-43d2-b285-a11a8f3b7672"
      },
      "execution_count": 57,
      "outputs": [
        {
          "output_type": "stream",
          "name": "stdout",
          "text": [
            "13/13 [==============================] - 2s 41ms/step\n",
            "3/3 [==============================] - 1s 35ms/step\n"
          ]
        }
      ]
    },
    {
      "cell_type": "code",
      "source": [
        "calculate.sqrt(mean_squared_error(y_train, train_prediction))"
      ],
      "metadata": {
        "colab": {
          "base_uri": "https://localhost:8080/"
        },
        "id": "HlYGi-FLMFmb",
        "outputId": "48aa6dc8-e9fd-4d33-ed98-a5de4a777d9e"
      },
      "execution_count": 58,
      "outputs": [
        {
          "output_type": "execute_result",
          "data": {
            "text/plain": [
              "147.35891703557817"
            ]
          },
          "metadata": {},
          "execution_count": 58
        }
      ]
    },
    {
      "cell_type": "code",
      "source": [
        "# Here, Low RMSE values indicate that the model fits the data well and \n",
        "# has more precise predictions.\n",
        "calculate.sqrt(mean_squared_error(y_validate, validation_prediction))"
      ],
      "metadata": {
        "colab": {
          "base_uri": "https://localhost:8080/"
        },
        "id": "VjtE3p8CMN_3",
        "outputId": "87a556c8-c25f-461d-d0c1-49f0996c6aac"
      },
      "execution_count": 59,
      "outputs": [
        {
          "output_type": "execute_result",
          "data": {
            "text/plain": [
              "160.30740084682677"
            ]
          },
          "metadata": {},
          "execution_count": 59
        }
      ]
    },
    {
      "cell_type": "code",
      "source": [
        "look_back=100\n",
        "trainPredictPlot = np.empty_like(dataFrame)\n",
        "trainPredictPlot[:, :] = np.nan\n",
        "trainPredictPlot[look_back:len(train_prediction)+look_back, :] = train_prediction\n",
        "\n",
        "testPredictPlot = np.empty_like(dataFrame)\n",
        "testPredictPlot[:, :] = np.nan\n",
        "testPredictPlot[len(train_prediction)+(look_back*2)+1:len(dataFrame)-1, :] = validation_prediction\n",
        "\n",
        "plt.plot(scaler.inverse_transform(dataFrame))\n",
        "plt.plot(trainPredictPlot)\n",
        "plt.plot(testPredictPlot)\n",
        "plt.xlabel(\"Days since 2020-09-14\")\n",
        "plt.ylabel(stock + \" Stock Price\")\n",
        "plt.title(\"Orange: Training Data, Green: Predicted Data, Blue: Total Dataset\")\n",
        "plt.show()"
      ],
      "metadata": {
        "colab": {
          "base_uri": "https://localhost:8080/",
          "height": 472
        },
        "id": "RRDzDJVHMWwm",
        "outputId": "936ab032-b9d3-4145-c2ac-64eb2e07758c"
      },
      "execution_count": 60,
      "outputs": [
        {
          "output_type": "display_data",
          "data": {
            "text/plain": [
              "<Figure size 640x480 with 1 Axes>"
            ],
            "image/png": "[encoded data removed]"
          },
          "metadata": {}
        }
      ]
    },
    {
      "cell_type": "code",
      "source": [
        "# Predicting the validation data\n",
        "len(validation_data)    # 173\n",
        "# Taking data from 100 days ago to current.\n",
        "x_input = validation_data[73:].reshape(1,-1)\n",
        "len(validation_data), x_input.shape"
      ],
      "metadata": {
        "id": "iITAfiUdyAX7",
        "colab": {
          "base_uri": "https://localhost:8080/"
        },
        "outputId": "90ed3596-27a1-4e7c-9b91-89d0c6558d2a"
      },
      "execution_count": 61,
      "outputs": [
        {
          "output_type": "execute_result",
          "data": {
            "text/plain": [
              "(173, (1, 100))"
            ]
          },
          "metadata": {},
          "execution_count": 61
        }
      ]
    },
    {
      "cell_type": "code",
      "source": [
        "# Getting datapoints into a list.\n",
        "list_input = list(x_input)\n",
        "list_input = list_input[0].tolist()\n",
        "list_input"
      ],
      "metadata": {
        "colab": {
          "base_uri": "https://localhost:8080/"
        },
        "id": "n6QOxXanttQ3",
        "outputId": "1ea9528d-a112-4aa3-804f-bfe9a35e6d3a"
      },
      "execution_count": 62,
      "outputs": [
        {
          "output_type": "execute_result",
          "data": {
            "text/plain": [
              "[0.37741120127710537,\n",
              " 0.37820939204469894,\n",
              " 0.4127976586404152,\n",
              " 0.45589996009046185,\n",
              " 0.4747904749235068,\n",
              " 0.4658773446853801,\n",
              " 0.49381402155115084,\n",
              " 0.520021285087136,\n",
              " 0.4810429692696554,\n",
              " 0.49820407077291473,\n",
              " 0.5133696953571905,\n",
              " 0.5850738326460023,\n",
              " 0.6340295330584009,\n",
              " 0.5971797259545029,\n",
              " 0.6360250099773848,\n",
              " 0.5997073300518823,\n",
              " 0.5857389916189972,\n",
              " 0.5876014367433817,\n",
              " 0.625382466409472,\n",
              " 0.6167353997605427,\n",
              " 0.6450711720101108,\n",
              " 0.6235200212850871,\n",
              " 0.6080883331116138,\n",
              " 0.5539443927098575,\n",
              " 0.5596647598776108,\n",
              " 0.5661833178129574,\n",
              " 0.5303977650658509,\n",
              " 0.5464946122123187,\n",
              " 0.5397099906877745,\n",
              " 0.5117733138220035,\n",
              " 0.519755221497938,\n",
              " 0.5878675003325795,\n",
              " 0.6251164028202743,\n",
              " 0.5954503126247173,\n",
              " 0.6123453505387788,\n",
              " 0.5820141013702278,\n",
              " 0.5542104562990555,\n",
              " 0.5804177198350406,\n",
              " 0.6086204602900094,\n",
              " 0.613941732073966,\n",
              " 0.6519888253292536,\n",
              " 0.6406811227883464,\n",
              " 0.6726087534920846,\n",
              " 0.6976187308766795,\n",
              " 0.6783291206598379,\n",
              " 0.6929626180657178,\n",
              " 0.7105228149527738,\n",
              " 0.6843155514167889,\n",
              " 0.6759345483570574,\n",
              " 0.7174404682719171,\n",
              " 0.7385925236131436,\n",
              " 0.7723825994412667,\n",
              " 0.7892776373553279,\n",
              " 0.7820939204469868,\n",
              " 0.7572169748569908,\n",
              " 0.7691898363708929,\n",
              " 0.7342024743913798,\n",
              " 0.7178395636557138,\n",
              " 0.70852733803379,\n",
              " 0.7811626978847945,\n",
              " 0.7765065850738329,\n",
              " 0.7767726486630302,\n",
              " 0.7932685911932951,\n",
              " 0.8087002793667688,\n",
              " 0.7956631634960756,\n",
              " 0.7739789809764535,\n",
              " 0.77810296660902,\n",
              " 0.7573500066515901,\n",
              " 0.7572169748569908,\n",
              " 0.8190767593454837,\n",
              " 0.8359717972595453,\n",
              " 0.8347745111081548,\n",
              " 0.8208061726752693,\n",
              " 0.8063057070639883,\n",
              " 0.7842224291605695,\n",
              " 0.8877211653585206,\n",
              " 0.8867899427963284,\n",
              " 0.8637754423307173,\n",
              " 0.8875216176666223,\n",
              " 0.8901157376613011,\n",
              " 0.8744179858986296,\n",
              " 0.8677663961686841,\n",
              " 0.8677663961686841,\n",
              " 0.8760143674338168,\n",
              " 0.9074098709591594,\n",
              " 0.9088732206997472,\n",
              " 0.8961021684182517,\n",
              " 0.8609817746441402,\n",
              " 0.8647066648929096,\n",
              " 0.880005321271784,\n",
              " 0.9124650791539182,\n",
              " 0.9373420247439141,\n",
              " 0.9366768657709192,\n",
              " 0.9744578954370096,\n",
              " 0.9858986297725156,\n",
              " 0.9676732739124652,\n",
              " 0.9627510975123057,\n",
              " 0.944259678063057,\n",
              " 0.9808434215777573,\n",
              " 0.9860316615671145]"
            ]
          },
          "metadata": {},
          "execution_count": 62
        }
      ]
    },
    {
      "cell_type": "code",
      "source": [
        "lst_output=[]\n",
        "n_steps=100\n",
        "i=0\n",
        "while(i<30):\n",
        "    \n",
        "    if(len(list_input)>100):\n",
        "        #print(temp_input)\n",
        "        x_input=np.array(list_input[1:])\n",
        "        print(\"{} day input {}\".format(i,x_input))\n",
        "        x_input=x_input.reshape(1,-1)\n",
        "        x_input = x_input.reshape((1, n_steps, 1))\n",
        "        #print(x_input)\n",
        "        yhat = lstm_model.predict(x_input, verbose=0)\n",
        "        print(\"{} day output {}\".format(i,yhat))\n",
        "        list_input.extend(yhat[0].tolist())\n",
        "        list_input=list_input[1:]\n",
        "        #print(temp_input)\n",
        "        lst_output.extend(yhat.tolist())\n",
        "        i=i+1\n",
        "    else:\n",
        "        x_input = x_input.reshape((1, n_steps,1))\n",
        "        yhat = lstm_model.predict(x_input, verbose=0)\n",
        "        print(yhat[0])\n",
        "        list_input.extend(yhat[0].tolist())\n",
        "        print(len(list_input))\n",
        "        lst_output.extend(yhat.tolist())\n",
        "        i=i+1\n",
        "    \n",
        "\n",
        "print(lst_output)"
      ],
      "metadata": {
        "colab": {
          "base_uri": "https://localhost:8080/"
        },
        "id": "4Be65VHNuwGJ",
        "outputId": "05f70b5a-b521-4c26-e6d1-0b46931f0576"
      },
      "execution_count": 63,
      "outputs": [
        {
          "output_type": "stream",
          "name": "stdout",
          "text": [
            "[0.89957666]\n",
            "101\n",
            "1 day input [0.37820939 0.41279766 0.45589996 0.47479047 0.46587734 0.49381402\n",
            " 0.52002129 0.48104297 0.49820407 0.5133697  0.58507383 0.63402953\n",
            " 0.59717973 0.63602501 0.59970733 0.58573899 0.58760144 0.62538247\n",
            " 0.6167354  0.64507117 0.62352002 0.60808833 0.55394439 0.55966476\n",
            " 0.56618332 0.53039777 0.54649461 0.53970999 0.51177331 0.51975522\n",
            " 0.5878675  0.6251164  0.59545031 0.61234535 0.5820141  0.55421046\n",
            " 0.58041772 0.60862046 0.61394173 0.65198883 0.64068112 0.67260875\n",
            " 0.69761873 0.67832912 0.69296262 0.71052281 0.68431555 0.67593455\n",
            " 0.71744047 0.73859252 0.7723826  0.78927764 0.78209392 0.75721697\n",
            " 0.76918984 0.73420247 0.71783956 0.70852734 0.7811627  0.77650659\n",
            " 0.77677265 0.79326859 0.80870028 0.79566316 0.77397898 0.77810297\n",
            " 0.75735001 0.75721697 0.81907676 0.8359718  0.83477451 0.82080617\n",
            " 0.80630571 0.78422243 0.88772117 0.88678994 0.86377544 0.88752162\n",
            " 0.89011574 0.87441799 0.8677664  0.8677664  0.87601437 0.90740987\n",
            " 0.90887322 0.89610217 0.86098177 0.86470666 0.88000532 0.91246508\n",
            " 0.93734202 0.93667687 0.9744579  0.98589863 0.96767327 0.9627511\n",
            " 0.94425968 0.98084342 0.98603166 0.89957666]\n",
            "1 day output [[0.87511253]]\n",
            "2 day input [0.41279766 0.45589996 0.47479047 0.46587734 0.49381402 0.52002129\n",
            " 0.48104297 0.49820407 0.5133697  0.58507383 0.63402953 0.59717973\n",
            " 0.63602501 0.59970733 0.58573899 0.58760144 0.62538247 0.6167354\n",
            " 0.64507117 0.62352002 0.60808833 0.55394439 0.55966476 0.56618332\n",
            " 0.53039777 0.54649461 0.53970999 0.51177331 0.51975522 0.5878675\n",
            " 0.6251164  0.59545031 0.61234535 0.5820141  0.55421046 0.58041772\n",
            " 0.60862046 0.61394173 0.65198883 0.64068112 0.67260875 0.69761873\n",
            " 0.67832912 0.69296262 0.71052281 0.68431555 0.67593455 0.71744047\n",
            " 0.73859252 0.7723826  0.78927764 0.78209392 0.75721697 0.76918984\n",
            " 0.73420247 0.71783956 0.70852734 0.7811627  0.77650659 0.77677265\n",
            " 0.79326859 0.80870028 0.79566316 0.77397898 0.77810297 0.75735001\n",
            " 0.75721697 0.81907676 0.8359718  0.83477451 0.82080617 0.80630571\n",
            " 0.78422243 0.88772117 0.88678994 0.86377544 0.88752162 0.89011574\n",
            " 0.87441799 0.8677664  0.8677664  0.87601437 0.90740987 0.90887322\n",
            " 0.89610217 0.86098177 0.86470666 0.88000532 0.91246508 0.93734202\n",
            " 0.93667687 0.9744579  0.98589863 0.96767327 0.9627511  0.94425968\n",
            " 0.98084342 0.98603166 0.89957666 0.87511253]\n",
            "2 day output [[0.8342331]]\n",
            "3 day input [0.45589996 0.47479047 0.46587734 0.49381402 0.52002129 0.48104297\n",
            " 0.49820407 0.5133697  0.58507383 0.63402953 0.59717973 0.63602501\n",
            " 0.59970733 0.58573899 0.58760144 0.62538247 0.6167354  0.64507117\n",
            " 0.62352002 0.60808833 0.55394439 0.55966476 0.56618332 0.53039777\n",
            " 0.54649461 0.53970999 0.51177331 0.51975522 0.5878675  0.6251164\n",
            " 0.59545031 0.61234535 0.5820141  0.55421046 0.58041772 0.60862046\n",
            " 0.61394173 0.65198883 0.64068112 0.67260875 0.69761873 0.67832912\n",
            " 0.69296262 0.71052281 0.68431555 0.67593455 0.71744047 0.73859252\n",
            " 0.7723826  0.78927764 0.78209392 0.75721697 0.76918984 0.73420247\n",
            " 0.71783956 0.70852734 0.7811627  0.77650659 0.77677265 0.79326859\n",
            " 0.80870028 0.79566316 0.77397898 0.77810297 0.75735001 0.75721697\n",
            " 0.81907676 0.8359718  0.83477451 0.82080617 0.80630571 0.78422243\n",
            " 0.88772117 0.88678994 0.86377544 0.88752162 0.89011574 0.87441799\n",
            " 0.8677664  0.8677664  0.87601437 0.90740987 0.90887322 0.89610217\n",
            " 0.86098177 0.86470666 0.88000532 0.91246508 0.93734202 0.93667687\n",
            " 0.9744579  0.98589863 0.96767327 0.9627511  0.94425968 0.98084342\n",
            " 0.98603166 0.89957666 0.87511253 0.83423311]\n",
            "3 day output [[0.79144937]]\n",
            "4 day input [0.47479047 0.46587734 0.49381402 0.52002129 0.48104297 0.49820407\n",
            " 0.5133697  0.58507383 0.63402953 0.59717973 0.63602501 0.59970733\n",
            " 0.58573899 0.58760144 0.62538247 0.6167354  0.64507117 0.62352002\n",
            " 0.60808833 0.55394439 0.55966476 0.56618332 0.53039777 0.54649461\n",
            " 0.53970999 0.51177331 0.51975522 0.5878675  0.6251164  0.59545031\n",
            " 0.61234535 0.5820141  0.55421046 0.58041772 0.60862046 0.61394173\n",
            " 0.65198883 0.64068112 0.67260875 0.69761873 0.67832912 0.69296262\n",
            " 0.71052281 0.68431555 0.67593455 0.71744047 0.73859252 0.7723826\n",
            " 0.78927764 0.78209392 0.75721697 0.76918984 0.73420247 0.71783956\n",
            " 0.70852734 0.7811627  0.77650659 0.77677265 0.79326859 0.80870028\n",
            " 0.79566316 0.77397898 0.77810297 0.75735001 0.75721697 0.81907676\n",
            " 0.8359718  0.83477451 0.82080617 0.80630571 0.78422243 0.88772117\n",
            " 0.88678994 0.86377544 0.88752162 0.89011574 0.87441799 0.8677664\n",
            " 0.8677664  0.87601437 0.90740987 0.90887322 0.89610217 0.86098177\n",
            " 0.86470666 0.88000532 0.91246508 0.93734202 0.93667687 0.9744579\n",
            " 0.98589863 0.96767327 0.9627511  0.94425968 0.98084342 0.98603166\n",
            " 0.89957666 0.87511253 0.83423311 0.79144937]\n",
            "4 day output [[0.7510933]]\n",
            "5 day input [0.46587734 0.49381402 0.52002129 0.48104297 0.49820407 0.5133697\n",
            " 0.58507383 0.63402953 0.59717973 0.63602501 0.59970733 0.58573899\n",
            " 0.58760144 0.62538247 0.6167354  0.64507117 0.62352002 0.60808833\n",
            " 0.55394439 0.55966476 0.56618332 0.53039777 0.54649461 0.53970999\n",
            " 0.51177331 0.51975522 0.5878675  0.6251164  0.59545031 0.61234535\n",
            " 0.5820141  0.55421046 0.58041772 0.60862046 0.61394173 0.65198883\n",
            " 0.64068112 0.67260875 0.69761873 0.67832912 0.69296262 0.71052281\n",
            " 0.68431555 0.67593455 0.71744047 0.73859252 0.7723826  0.78927764\n",
            " 0.78209392 0.75721697 0.76918984 0.73420247 0.71783956 0.70852734\n",
            " 0.7811627  0.77650659 0.77677265 0.79326859 0.80870028 0.79566316\n",
            " 0.77397898 0.77810297 0.75735001 0.75721697 0.81907676 0.8359718\n",
            " 0.83477451 0.82080617 0.80630571 0.78422243 0.88772117 0.88678994\n",
            " 0.86377544 0.88752162 0.89011574 0.87441799 0.8677664  0.8677664\n",
            " 0.87601437 0.90740987 0.90887322 0.89610217 0.86098177 0.86470666\n",
            " 0.88000532 0.91246508 0.93734202 0.93667687 0.9744579  0.98589863\n",
            " 0.96767327 0.9627511  0.94425968 0.98084342 0.98603166 0.89957666\n",
            " 0.87511253 0.83423311 0.79144937 0.75109333]\n",
            "5 day output [[0.71413755]]\n",
            "6 day input [0.49381402 0.52002129 0.48104297 0.49820407 0.5133697  0.58507383\n",
            " 0.63402953 0.59717973 0.63602501 0.59970733 0.58573899 0.58760144\n",
            " 0.62538247 0.6167354  0.64507117 0.62352002 0.60808833 0.55394439\n",
            " 0.55966476 0.56618332 0.53039777 0.54649461 0.53970999 0.51177331\n",
            " 0.51975522 0.5878675  0.6251164  0.59545031 0.61234535 0.5820141\n",
            " 0.55421046 0.58041772 0.60862046 0.61394173 0.65198883 0.64068112\n",
            " 0.67260875 0.69761873 0.67832912 0.69296262 0.71052281 0.68431555\n",
            " 0.67593455 0.71744047 0.73859252 0.7723826  0.78927764 0.78209392\n",
            " 0.75721697 0.76918984 0.73420247 0.71783956 0.70852734 0.7811627\n",
            " 0.77650659 0.77677265 0.79326859 0.80870028 0.79566316 0.77397898\n",
            " 0.77810297 0.75735001 0.75721697 0.81907676 0.8359718  0.83477451\n",
            " 0.82080617 0.80630571 0.78422243 0.88772117 0.88678994 0.86377544\n",
            " 0.88752162 0.89011574 0.87441799 0.8677664  0.8677664  0.87601437\n",
            " 0.90740987 0.90887322 0.89610217 0.86098177 0.86470666 0.88000532\n",
            " 0.91246508 0.93734202 0.93667687 0.9744579  0.98589863 0.96767327\n",
            " 0.9627511  0.94425968 0.98084342 0.98603166 0.89957666 0.87511253\n",
            " 0.83423311 0.79144937 0.75109333 0.71413755]\n",
            "6 day output [[0.68074423]]\n",
            "7 day input [0.52002129 0.48104297 0.49820407 0.5133697  0.58507383 0.63402953\n",
            " 0.59717973 0.63602501 0.59970733 0.58573899 0.58760144 0.62538247\n",
            " 0.6167354  0.64507117 0.62352002 0.60808833 0.55394439 0.55966476\n",
            " 0.56618332 0.53039777 0.54649461 0.53970999 0.51177331 0.51975522\n",
            " 0.5878675  0.6251164  0.59545031 0.61234535 0.5820141  0.55421046\n",
            " 0.58041772 0.60862046 0.61394173 0.65198883 0.64068112 0.67260875\n",
            " 0.69761873 0.67832912 0.69296262 0.71052281 0.68431555 0.67593455\n",
            " 0.71744047 0.73859252 0.7723826  0.78927764 0.78209392 0.75721697\n",
            " 0.76918984 0.73420247 0.71783956 0.70852734 0.7811627  0.77650659\n",
            " 0.77677265 0.79326859 0.80870028 0.79566316 0.77397898 0.77810297\n",
            " 0.75735001 0.75721697 0.81907676 0.8359718  0.83477451 0.82080617\n",
            " 0.80630571 0.78422243 0.88772117 0.88678994 0.86377544 0.88752162\n",
            " 0.89011574 0.87441799 0.8677664  0.8677664  0.87601437 0.90740987\n",
            " 0.90887322 0.89610217 0.86098177 0.86470666 0.88000532 0.91246508\n",
            " 0.93734202 0.93667687 0.9744579  0.98589863 0.96767327 0.9627511\n",
            " 0.94425968 0.98084342 0.98603166 0.89957666 0.87511253 0.83423311\n",
            " 0.79144937 0.75109333 0.71413755 0.68074423]\n",
            "7 day output [[0.650694]]\n",
            "8 day input [0.48104297 0.49820407 0.5133697  0.58507383 0.63402953 0.59717973\n",
            " 0.63602501 0.59970733 0.58573899 0.58760144 0.62538247 0.6167354\n",
            " 0.64507117 0.62352002 0.60808833 0.55394439 0.55966476 0.56618332\n",
            " 0.53039777 0.54649461 0.53970999 0.51177331 0.51975522 0.5878675\n",
            " 0.6251164  0.59545031 0.61234535 0.5820141  0.55421046 0.58041772\n",
            " 0.60862046 0.61394173 0.65198883 0.64068112 0.67260875 0.69761873\n",
            " 0.67832912 0.69296262 0.71052281 0.68431555 0.67593455 0.71744047\n",
            " 0.73859252 0.7723826  0.78927764 0.78209392 0.75721697 0.76918984\n",
            " 0.73420247 0.71783956 0.70852734 0.7811627  0.77650659 0.77677265\n",
            " 0.79326859 0.80870028 0.79566316 0.77397898 0.77810297 0.75735001\n",
            " 0.75721697 0.81907676 0.8359718  0.83477451 0.82080617 0.80630571\n",
            " 0.78422243 0.88772117 0.88678994 0.86377544 0.88752162 0.89011574\n",
            " 0.87441799 0.8677664  0.8677664  0.87601437 0.90740987 0.90887322\n",
            " 0.89610217 0.86098177 0.86470666 0.88000532 0.91246508 0.93734202\n",
            " 0.93667687 0.9744579  0.98589863 0.96767327 0.9627511  0.94425968\n",
            " 0.98084342 0.98603166 0.89957666 0.87511253 0.83423311 0.79144937\n",
            " 0.75109333 0.71413755 0.68074423 0.65069401]\n",
            "8 day output [[0.6235015]]\n",
            "9 day input [0.49820407 0.5133697  0.58507383 0.63402953 0.59717973 0.63602501\n",
            " 0.59970733 0.58573899 0.58760144 0.62538247 0.6167354  0.64507117\n",
            " 0.62352002 0.60808833 0.55394439 0.55966476 0.56618332 0.53039777\n",
            " 0.54649461 0.53970999 0.51177331 0.51975522 0.5878675  0.6251164\n",
            " 0.59545031 0.61234535 0.5820141  0.55421046 0.58041772 0.60862046\n",
            " 0.61394173 0.65198883 0.64068112 0.67260875 0.69761873 0.67832912\n",
            " 0.69296262 0.71052281 0.68431555 0.67593455 0.71744047 0.73859252\n",
            " 0.7723826  0.78927764 0.78209392 0.75721697 0.76918984 0.73420247\n",
            " 0.71783956 0.70852734 0.7811627  0.77650659 0.77677265 0.79326859\n",
            " 0.80870028 0.79566316 0.77397898 0.77810297 0.75735001 0.75721697\n",
            " 0.81907676 0.8359718  0.83477451 0.82080617 0.80630571 0.78422243\n",
            " 0.88772117 0.88678994 0.86377544 0.88752162 0.89011574 0.87441799\n",
            " 0.8677664  0.8677664  0.87601437 0.90740987 0.90887322 0.89610217\n",
            " 0.86098177 0.86470666 0.88000532 0.91246508 0.93734202 0.93667687\n",
            " 0.9744579  0.98589863 0.96767327 0.9627511  0.94425968 0.98084342\n",
            " 0.98603166 0.89957666 0.87511253 0.83423311 0.79144937 0.75109333\n",
            " 0.71413755 0.68074423 0.65069401 0.62350148]\n",
            "9 day output [[0.59855425]]\n",
            "10 day input [0.5133697  0.58507383 0.63402953 0.59717973 0.63602501 0.59970733\n",
            " 0.58573899 0.58760144 0.62538247 0.6167354  0.64507117 0.62352002\n",
            " 0.60808833 0.55394439 0.55966476 0.56618332 0.53039777 0.54649461\n",
            " 0.53970999 0.51177331 0.51975522 0.5878675  0.6251164  0.59545031\n",
            " 0.61234535 0.5820141  0.55421046 0.58041772 0.60862046 0.61394173\n",
            " 0.65198883 0.64068112 0.67260875 0.69761873 0.67832912 0.69296262\n",
            " 0.71052281 0.68431555 0.67593455 0.71744047 0.73859252 0.7723826\n",
            " 0.78927764 0.78209392 0.75721697 0.76918984 0.73420247 0.71783956\n",
            " 0.70852734 0.7811627  0.77650659 0.77677265 0.79326859 0.80870028\n",
            " 0.79566316 0.77397898 0.77810297 0.75735001 0.75721697 0.81907676\n",
            " 0.8359718  0.83477451 0.82080617 0.80630571 0.78422243 0.88772117\n",
            " 0.88678994 0.86377544 0.88752162 0.89011574 0.87441799 0.8677664\n",
            " 0.8677664  0.87601437 0.90740987 0.90887322 0.89610217 0.86098177\n",
            " 0.86470666 0.88000532 0.91246508 0.93734202 0.93667687 0.9744579\n",
            " 0.98589863 0.96767327 0.9627511  0.94425968 0.98084342 0.98603166\n",
            " 0.89957666 0.87511253 0.83423311 0.79144937 0.75109333 0.71413755\n",
            " 0.68074423 0.65069401 0.62350148 0.59855425]\n",
            "10 day output [[0.5752422]]\n",
            "11 day input [0.58507383 0.63402953 0.59717973 0.63602501 0.59970733 0.58573899\n",
            " 0.58760144 0.62538247 0.6167354  0.64507117 0.62352002 0.60808833\n",
            " 0.55394439 0.55966476 0.56618332 0.53039777 0.54649461 0.53970999\n",
            " 0.51177331 0.51975522 0.5878675  0.6251164  0.59545031 0.61234535\n",
            " 0.5820141  0.55421046 0.58041772 0.60862046 0.61394173 0.65198883\n",
            " 0.64068112 0.67260875 0.69761873 0.67832912 0.69296262 0.71052281\n",
            " 0.68431555 0.67593455 0.71744047 0.73859252 0.7723826  0.78927764\n",
            " 0.78209392 0.75721697 0.76918984 0.73420247 0.71783956 0.70852734\n",
            " 0.7811627  0.77650659 0.77677265 0.79326859 0.80870028 0.79566316\n",
            " 0.77397898 0.77810297 0.75735001 0.75721697 0.81907676 0.8359718\n",
            " 0.83477451 0.82080617 0.80630571 0.78422243 0.88772117 0.88678994\n",
            " 0.86377544 0.88752162 0.89011574 0.87441799 0.8677664  0.8677664\n",
            " 0.87601437 0.90740987 0.90887322 0.89610217 0.86098177 0.86470666\n",
            " 0.88000532 0.91246508 0.93734202 0.93667687 0.9744579  0.98589863\n",
            " 0.96767327 0.9627511  0.94425968 0.98084342 0.98603166 0.89957666\n",
            " 0.87511253 0.83423311 0.79144937 0.75109333 0.71413755 0.68074423\n",
            " 0.65069401 0.62350148 0.59855425 0.57524222]\n",
            "11 day output [[0.55304366]]\n",
            "12 day input [0.63402953 0.59717973 0.63602501 0.59970733 0.58573899 0.58760144\n",
            " 0.62538247 0.6167354  0.64507117 0.62352002 0.60808833 0.55394439\n",
            " 0.55966476 0.56618332 0.53039777 0.54649461 0.53970999 0.51177331\n",
            " 0.51975522 0.5878675  0.6251164  0.59545031 0.61234535 0.5820141\n",
            " 0.55421046 0.58041772 0.60862046 0.61394173 0.65198883 0.64068112\n",
            " 0.67260875 0.69761873 0.67832912 0.69296262 0.71052281 0.68431555\n",
            " 0.67593455 0.71744047 0.73859252 0.7723826  0.78927764 0.78209392\n",
            " 0.75721697 0.76918984 0.73420247 0.71783956 0.70852734 0.7811627\n",
            " 0.77650659 0.77677265 0.79326859 0.80870028 0.79566316 0.77397898\n",
            " 0.77810297 0.75735001 0.75721697 0.81907676 0.8359718  0.83477451\n",
            " 0.82080617 0.80630571 0.78422243 0.88772117 0.88678994 0.86377544\n",
            " 0.88752162 0.89011574 0.87441799 0.8677664  0.8677664  0.87601437\n",
            " 0.90740987 0.90887322 0.89610217 0.86098177 0.86470666 0.88000532\n",
            " 0.91246508 0.93734202 0.93667687 0.9744579  0.98589863 0.96767327\n",
            " 0.9627511  0.94425968 0.98084342 0.98603166 0.89957666 0.87511253\n",
            " 0.83423311 0.79144937 0.75109333 0.71413755 0.68074423 0.65069401\n",
            " 0.62350148 0.59855425 0.57524222 0.55304366]\n",
            "12 day output [[0.53156984]]\n",
            "13 day input [0.59717973 0.63602501 0.59970733 0.58573899 0.58760144 0.62538247\n",
            " 0.6167354  0.64507117 0.62352002 0.60808833 0.55394439 0.55966476\n",
            " 0.56618332 0.53039777 0.54649461 0.53970999 0.51177331 0.51975522\n",
            " 0.5878675  0.6251164  0.59545031 0.61234535 0.5820141  0.55421046\n",
            " 0.58041772 0.60862046 0.61394173 0.65198883 0.64068112 0.67260875\n",
            " 0.69761873 0.67832912 0.69296262 0.71052281 0.68431555 0.67593455\n",
            " 0.71744047 0.73859252 0.7723826  0.78927764 0.78209392 0.75721697\n",
            " 0.76918984 0.73420247 0.71783956 0.70852734 0.7811627  0.77650659\n",
            " 0.77677265 0.79326859 0.80870028 0.79566316 0.77397898 0.77810297\n",
            " 0.75735001 0.75721697 0.81907676 0.8359718  0.83477451 0.82080617\n",
            " 0.80630571 0.78422243 0.88772117 0.88678994 0.86377544 0.88752162\n",
            " 0.89011574 0.87441799 0.8677664  0.8677664  0.87601437 0.90740987\n",
            " 0.90887322 0.89610217 0.86098177 0.86470666 0.88000532 0.91246508\n",
            " 0.93734202 0.93667687 0.9744579  0.98589863 0.96767327 0.9627511\n",
            " 0.94425968 0.98084342 0.98603166 0.89957666 0.87511253 0.83423311\n",
            " 0.79144937 0.75109333 0.71413755 0.68074423 0.65069401 0.62350148\n",
            " 0.59855425 0.57524222 0.55304366 0.53156984]\n",
            "13 day output [[0.51057625]]\n",
            "14 day input [0.63602501 0.59970733 0.58573899 0.58760144 0.62538247 0.6167354\n",
            " 0.64507117 0.62352002 0.60808833 0.55394439 0.55966476 0.56618332\n",
            " 0.53039777 0.54649461 0.53970999 0.51177331 0.51975522 0.5878675\n",
            " 0.6251164  0.59545031 0.61234535 0.5820141  0.55421046 0.58041772\n",
            " 0.60862046 0.61394173 0.65198883 0.64068112 0.67260875 0.69761873\n",
            " 0.67832912 0.69296262 0.71052281 0.68431555 0.67593455 0.71744047\n",
            " 0.73859252 0.7723826  0.78927764 0.78209392 0.75721697 0.76918984\n",
            " 0.73420247 0.71783956 0.70852734 0.7811627  0.77650659 0.77677265\n",
            " 0.79326859 0.80870028 0.79566316 0.77397898 0.77810297 0.75735001\n",
            " 0.75721697 0.81907676 0.8359718  0.83477451 0.82080617 0.80630571\n",
            " 0.78422243 0.88772117 0.88678994 0.86377544 0.88752162 0.89011574\n",
            " 0.87441799 0.8677664  0.8677664  0.87601437 0.90740987 0.90887322\n",
            " 0.89610217 0.86098177 0.86470666 0.88000532 0.91246508 0.93734202\n",
            " 0.93667687 0.9744579  0.98589863 0.96767327 0.9627511  0.94425968\n",
            " 0.98084342 0.98603166 0.89957666 0.87511253 0.83423311 0.79144937\n",
            " 0.75109333 0.71413755 0.68074423 0.65069401 0.62350148 0.59855425\n",
            " 0.57524222 0.55304366 0.53156984 0.51057625]\n",
            "14 day output [[0.48995316]]\n",
            "15 day input [0.59970733 0.58573899 0.58760144 0.62538247 0.6167354  0.64507117\n",
            " 0.62352002 0.60808833 0.55394439 0.55966476 0.56618332 0.53039777\n",
            " 0.54649461 0.53970999 0.51177331 0.51975522 0.5878675  0.6251164\n",
            " 0.59545031 0.61234535 0.5820141  0.55421046 0.58041772 0.60862046\n",
            " 0.61394173 0.65198883 0.64068112 0.67260875 0.69761873 0.67832912\n",
            " 0.69296262 0.71052281 0.68431555 0.67593455 0.71744047 0.73859252\n",
            " 0.7723826  0.78927764 0.78209392 0.75721697 0.76918984 0.73420247\n",
            " 0.71783956 0.70852734 0.7811627  0.77650659 0.77677265 0.79326859\n",
            " 0.80870028 0.79566316 0.77397898 0.77810297 0.75735001 0.75721697\n",
            " 0.81907676 0.8359718  0.83477451 0.82080617 0.80630571 0.78422243\n",
            " 0.88772117 0.88678994 0.86377544 0.88752162 0.89011574 0.87441799\n",
            " 0.8677664  0.8677664  0.87601437 0.90740987 0.90887322 0.89610217\n",
            " 0.86098177 0.86470666 0.88000532 0.91246508 0.93734202 0.93667687\n",
            " 0.9744579  0.98589863 0.96767327 0.9627511  0.94425968 0.98084342\n",
            " 0.98603166 0.89957666 0.87511253 0.83423311 0.79144937 0.75109333\n",
            " 0.71413755 0.68074423 0.65069401 0.62350148 0.59855425 0.57524222\n",
            " 0.55304366 0.53156984 0.51057625 0.48995316]\n",
            "15 day output [[0.46969867]]\n",
            "16 day input [0.58573899 0.58760144 0.62538247 0.6167354  0.64507117 0.62352002\n",
            " 0.60808833 0.55394439 0.55966476 0.56618332 0.53039777 0.54649461\n",
            " 0.53970999 0.51177331 0.51975522 0.5878675  0.6251164  0.59545031\n",
            " 0.61234535 0.5820141  0.55421046 0.58041772 0.60862046 0.61394173\n",
            " 0.65198883 0.64068112 0.67260875 0.69761873 0.67832912 0.69296262\n",
            " 0.71052281 0.68431555 0.67593455 0.71744047 0.73859252 0.7723826\n",
            " 0.78927764 0.78209392 0.75721697 0.76918984 0.73420247 0.71783956\n",
            " 0.70852734 0.7811627  0.77650659 0.77677265 0.79326859 0.80870028\n",
            " 0.79566316 0.77397898 0.77810297 0.75735001 0.75721697 0.81907676\n",
            " 0.8359718  0.83477451 0.82080617 0.80630571 0.78422243 0.88772117\n",
            " 0.88678994 0.86377544 0.88752162 0.89011574 0.87441799 0.8677664\n",
            " 0.8677664  0.87601437 0.90740987 0.90887322 0.89610217 0.86098177\n",
            " 0.86470666 0.88000532 0.91246508 0.93734202 0.93667687 0.9744579\n",
            " 0.98589863 0.96767327 0.9627511  0.94425968 0.98084342 0.98603166\n",
            " 0.89957666 0.87511253 0.83423311 0.79144937 0.75109333 0.71413755\n",
            " 0.68074423 0.65069401 0.62350148 0.59855425 0.57524222 0.55304366\n",
            " 0.53156984 0.51057625 0.48995316 0.46969867]\n",
            "16 day output [[0.4498871]]\n",
            "17 day input [0.58760144 0.62538247 0.6167354  0.64507117 0.62352002 0.60808833\n",
            " 0.55394439 0.55966476 0.56618332 0.53039777 0.54649461 0.53970999\n",
            " 0.51177331 0.51975522 0.5878675  0.6251164  0.59545031 0.61234535\n",
            " 0.5820141  0.55421046 0.58041772 0.60862046 0.61394173 0.65198883\n",
            " 0.64068112 0.67260875 0.69761873 0.67832912 0.69296262 0.71052281\n",
            " 0.68431555 0.67593455 0.71744047 0.73859252 0.7723826  0.78927764\n",
            " 0.78209392 0.75721697 0.76918984 0.73420247 0.71783956 0.70852734\n",
            " 0.7811627  0.77650659 0.77677265 0.79326859 0.80870028 0.79566316\n",
            " 0.77397898 0.77810297 0.75735001 0.75721697 0.81907676 0.8359718\n",
            " 0.83477451 0.82080617 0.80630571 0.78422243 0.88772117 0.88678994\n",
            " 0.86377544 0.88752162 0.89011574 0.87441799 0.8677664  0.8677664\n",
            " 0.87601437 0.90740987 0.90887322 0.89610217 0.86098177 0.86470666\n",
            " 0.88000532 0.91246508 0.93734202 0.93667687 0.9744579  0.98589863\n",
            " 0.96767327 0.9627511  0.94425968 0.98084342 0.98603166 0.89957666\n",
            " 0.87511253 0.83423311 0.79144937 0.75109333 0.71413755 0.68074423\n",
            " 0.65069401 0.62350148 0.59855425 0.57524222 0.55304366 0.53156984\n",
            " 0.51057625 0.48995316 0.46969867 0.4498871 ]\n",
            "17 day output [[0.43063527]]\n",
            "18 day input [0.62538247 0.6167354  0.64507117 0.62352002 0.60808833 0.55394439\n",
            " 0.55966476 0.56618332 0.53039777 0.54649461 0.53970999 0.51177331\n",
            " 0.51975522 0.5878675  0.6251164  0.59545031 0.61234535 0.5820141\n",
            " 0.55421046 0.58041772 0.60862046 0.61394173 0.65198883 0.64068112\n",
            " 0.67260875 0.69761873 0.67832912 0.69296262 0.71052281 0.68431555\n",
            " 0.67593455 0.71744047 0.73859252 0.7723826  0.78927764 0.78209392\n",
            " 0.75721697 0.76918984 0.73420247 0.71783956 0.70852734 0.7811627\n",
            " 0.77650659 0.77677265 0.79326859 0.80870028 0.79566316 0.77397898\n",
            " 0.77810297 0.75735001 0.75721697 0.81907676 0.8359718  0.83477451\n",
            " 0.82080617 0.80630571 0.78422243 0.88772117 0.88678994 0.86377544\n",
            " 0.88752162 0.89011574 0.87441799 0.8677664  0.8677664  0.87601437\n",
            " 0.90740987 0.90887322 0.89610217 0.86098177 0.86470666 0.88000532\n",
            " 0.91246508 0.93734202 0.93667687 0.9744579  0.98589863 0.96767327\n",
            " 0.9627511  0.94425968 0.98084342 0.98603166 0.89957666 0.87511253\n",
            " 0.83423311 0.79144937 0.75109333 0.71413755 0.68074423 0.65069401\n",
            " 0.62350148 0.59855425 0.57524222 0.55304366 0.53156984 0.51057625\n",
            " 0.48995316 0.46969867 0.4498871  0.43063527]\n",
            "18 day output [[0.41207328]]\n",
            "19 day input [0.6167354  0.64507117 0.62352002 0.60808833 0.55394439 0.55966476\n",
            " 0.56618332 0.53039777 0.54649461 0.53970999 0.51177331 0.51975522\n",
            " 0.5878675  0.6251164  0.59545031 0.61234535 0.5820141  0.55421046\n",
            " 0.58041772 0.60862046 0.61394173 0.65198883 0.64068112 0.67260875\n",
            " 0.69761873 0.67832912 0.69296262 0.71052281 0.68431555 0.67593455\n",
            " 0.71744047 0.73859252 0.7723826  0.78927764 0.78209392 0.75721697\n",
            " 0.76918984 0.73420247 0.71783956 0.70852734 0.7811627  0.77650659\n",
            " 0.77677265 0.79326859 0.80870028 0.79566316 0.77397898 0.77810297\n",
            " 0.75735001 0.75721697 0.81907676 0.8359718  0.83477451 0.82080617\n",
            " 0.80630571 0.78422243 0.88772117 0.88678994 0.86377544 0.88752162\n",
            " 0.89011574 0.87441799 0.8677664  0.8677664  0.87601437 0.90740987\n",
            " 0.90887322 0.89610217 0.86098177 0.86470666 0.88000532 0.91246508\n",
            " 0.93734202 0.93667687 0.9744579  0.98589863 0.96767327 0.9627511\n",
            " 0.94425968 0.98084342 0.98603166 0.89957666 0.87511253 0.83423311\n",
            " 0.79144937 0.75109333 0.71413755 0.68074423 0.65069401 0.62350148\n",
            " 0.59855425 0.57524222 0.55304366 0.53156984 0.51057625 0.48995316\n",
            " 0.46969867 0.4498871  0.43063527 0.41207328]\n",
            "19 day output [[0.39432096]]\n",
            "20 day input [0.64507117 0.62352002 0.60808833 0.55394439 0.55966476 0.56618332\n",
            " 0.53039777 0.54649461 0.53970999 0.51177331 0.51975522 0.5878675\n",
            " 0.6251164  0.59545031 0.61234535 0.5820141  0.55421046 0.58041772\n",
            " 0.60862046 0.61394173 0.65198883 0.64068112 0.67260875 0.69761873\n",
            " 0.67832912 0.69296262 0.71052281 0.68431555 0.67593455 0.71744047\n",
            " 0.73859252 0.7723826  0.78927764 0.78209392 0.75721697 0.76918984\n",
            " 0.73420247 0.71783956 0.70852734 0.7811627  0.77650659 0.77677265\n",
            " 0.79326859 0.80870028 0.79566316 0.77397898 0.77810297 0.75735001\n",
            " 0.75721697 0.81907676 0.8359718  0.83477451 0.82080617 0.80630571\n",
            " 0.78422243 0.88772117 0.88678994 0.86377544 0.88752162 0.89011574\n",
            " 0.87441799 0.8677664  0.8677664  0.87601437 0.90740987 0.90887322\n",
            " 0.89610217 0.86098177 0.86470666 0.88000532 0.91246508 0.93734202\n",
            " 0.93667687 0.9744579  0.98589863 0.96767327 0.9627511  0.94425968\n",
            " 0.98084342 0.98603166 0.89957666 0.87511253 0.83423311 0.79144937\n",
            " 0.75109333 0.71413755 0.68074423 0.65069401 0.62350148 0.59855425\n",
            " 0.57524222 0.55304366 0.53156984 0.51057625 0.48995316 0.46969867\n",
            " 0.4498871  0.43063527 0.41207328 0.39432096]\n",
            "20 day output [[0.37747306]]\n",
            "21 day input [0.62352002 0.60808833 0.55394439 0.55966476 0.56618332 0.53039777\n",
            " 0.54649461 0.53970999 0.51177331 0.51975522 0.5878675  0.6251164\n",
            " 0.59545031 0.61234535 0.5820141  0.55421046 0.58041772 0.60862046\n",
            " 0.61394173 0.65198883 0.64068112 0.67260875 0.69761873 0.67832912\n",
            " 0.69296262 0.71052281 0.68431555 0.67593455 0.71744047 0.73859252\n",
            " 0.7723826  0.78927764 0.78209392 0.75721697 0.76918984 0.73420247\n",
            " 0.71783956 0.70852734 0.7811627  0.77650659 0.77677265 0.79326859\n",
            " 0.80870028 0.79566316 0.77397898 0.77810297 0.75735001 0.75721697\n",
            " 0.81907676 0.8359718  0.83477451 0.82080617 0.80630571 0.78422243\n",
            " 0.88772117 0.88678994 0.86377544 0.88752162 0.89011574 0.87441799\n",
            " 0.8677664  0.8677664  0.87601437 0.90740987 0.90887322 0.89610217\n",
            " 0.86098177 0.86470666 0.88000532 0.91246508 0.93734202 0.93667687\n",
            " 0.9744579  0.98589863 0.96767327 0.9627511  0.94425968 0.98084342\n",
            " 0.98603166 0.89957666 0.87511253 0.83423311 0.79144937 0.75109333\n",
            " 0.71413755 0.68074423 0.65069401 0.62350148 0.59855425 0.57524222\n",
            " 0.55304366 0.53156984 0.51057625 0.48995316 0.46969867 0.4498871\n",
            " 0.43063527 0.41207328 0.39432096 0.37747306]\n",
            "21 day output [[0.36159146]]\n",
            "22 day input [0.60808833 0.55394439 0.55966476 0.56618332 0.53039777 0.54649461\n",
            " 0.53970999 0.51177331 0.51975522 0.5878675  0.6251164  0.59545031\n",
            " 0.61234535 0.5820141  0.55421046 0.58041772 0.60862046 0.61394173\n",
            " 0.65198883 0.64068112 0.67260875 0.69761873 0.67832912 0.69296262\n",
            " 0.71052281 0.68431555 0.67593455 0.71744047 0.73859252 0.7723826\n",
            " 0.78927764 0.78209392 0.75721697 0.76918984 0.73420247 0.71783956\n",
            " 0.70852734 0.7811627  0.77650659 0.77677265 0.79326859 0.80870028\n",
            " 0.79566316 0.77397898 0.77810297 0.75735001 0.75721697 0.81907676\n",
            " 0.8359718  0.83477451 0.82080617 0.80630571 0.78422243 0.88772117\n",
            " 0.88678994 0.86377544 0.88752162 0.89011574 0.87441799 0.8677664\n",
            " 0.8677664  0.87601437 0.90740987 0.90887322 0.89610217 0.86098177\n",
            " 0.86470666 0.88000532 0.91246508 0.93734202 0.93667687 0.9744579\n",
            " 0.98589863 0.96767327 0.9627511  0.94425968 0.98084342 0.98603166\n",
            " 0.89957666 0.87511253 0.83423311 0.79144937 0.75109333 0.71413755\n",
            " 0.68074423 0.65069401 0.62350148 0.59855425 0.57524222 0.55304366\n",
            " 0.53156984 0.51057625 0.48995316 0.46969867 0.4498871  0.43063527\n",
            " 0.41207328 0.39432096 0.37747306 0.36159146]\n",
            "22 day output [[0.34670427]]\n",
            "23 day input [0.55394439 0.55966476 0.56618332 0.53039777 0.54649461 0.53970999\n",
            " 0.51177331 0.51975522 0.5878675  0.6251164  0.59545031 0.61234535\n",
            " 0.5820141  0.55421046 0.58041772 0.60862046 0.61394173 0.65198883\n",
            " 0.64068112 0.67260875 0.69761873 0.67832912 0.69296262 0.71052281\n",
            " 0.68431555 0.67593455 0.71744047 0.73859252 0.7723826  0.78927764\n",
            " 0.78209392 0.75721697 0.76918984 0.73420247 0.71783956 0.70852734\n",
            " 0.7811627  0.77650659 0.77677265 0.79326859 0.80870028 0.79566316\n",
            " 0.77397898 0.77810297 0.75735001 0.75721697 0.81907676 0.8359718\n",
            " 0.83477451 0.82080617 0.80630571 0.78422243 0.88772117 0.88678994\n",
            " 0.86377544 0.88752162 0.89011574 0.87441799 0.8677664  0.8677664\n",
            " 0.87601437 0.90740987 0.90887322 0.89610217 0.86098177 0.86470666\n",
            " 0.88000532 0.91246508 0.93734202 0.93667687 0.9744579  0.98589863\n",
            " 0.96767327 0.9627511  0.94425968 0.98084342 0.98603166 0.89957666\n",
            " 0.87511253 0.83423311 0.79144937 0.75109333 0.71413755 0.68074423\n",
            " 0.65069401 0.62350148 0.59855425 0.57524222 0.55304366 0.53156984\n",
            " 0.51057625 0.48995316 0.46969867 0.4498871  0.43063527 0.41207328\n",
            " 0.39432096 0.37747306 0.36159146 0.34670427]\n",
            "23 day output [[0.33280933]]\n",
            "24 day input [0.55966476 0.56618332 0.53039777 0.54649461 0.53970999 0.51177331\n",
            " 0.51975522 0.5878675  0.6251164  0.59545031 0.61234535 0.5820141\n",
            " 0.55421046 0.58041772 0.60862046 0.61394173 0.65198883 0.64068112\n",
            " 0.67260875 0.69761873 0.67832912 0.69296262 0.71052281 0.68431555\n",
            " 0.67593455 0.71744047 0.73859252 0.7723826  0.78927764 0.78209392\n",
            " 0.75721697 0.76918984 0.73420247 0.71783956 0.70852734 0.7811627\n",
            " 0.77650659 0.77677265 0.79326859 0.80870028 0.79566316 0.77397898\n",
            " 0.77810297 0.75735001 0.75721697 0.81907676 0.8359718  0.83477451\n",
            " 0.82080617 0.80630571 0.78422243 0.88772117 0.88678994 0.86377544\n",
            " 0.88752162 0.89011574 0.87441799 0.8677664  0.8677664  0.87601437\n",
            " 0.90740987 0.90887322 0.89610217 0.86098177 0.86470666 0.88000532\n",
            " 0.91246508 0.93734202 0.93667687 0.9744579  0.98589863 0.96767327\n",
            " 0.9627511  0.94425968 0.98084342 0.98603166 0.89957666 0.87511253\n",
            " 0.83423311 0.79144937 0.75109333 0.71413755 0.68074423 0.65069401\n",
            " 0.62350148 0.59855425 0.57524222 0.55304366 0.53156984 0.51057625\n",
            " 0.48995316 0.46969867 0.4498871  0.43063527 0.41207328 0.39432096\n",
            " 0.37747306 0.36159146 0.34670427 0.33280933]\n",
            "24 day output [[0.31987953]]\n",
            "25 day input [0.56618332 0.53039777 0.54649461 0.53970999 0.51177331 0.51975522\n",
            " 0.5878675  0.6251164  0.59545031 0.61234535 0.5820141  0.55421046\n",
            " 0.58041772 0.60862046 0.61394173 0.65198883 0.64068112 0.67260875\n",
            " 0.69761873 0.67832912 0.69296262 0.71052281 0.68431555 0.67593455\n",
            " 0.71744047 0.73859252 0.7723826  0.78927764 0.78209392 0.75721697\n",
            " 0.76918984 0.73420247 0.71783956 0.70852734 0.7811627  0.77650659\n",
            " 0.77677265 0.79326859 0.80870028 0.79566316 0.77397898 0.77810297\n",
            " 0.75735001 0.75721697 0.81907676 0.8359718  0.83477451 0.82080617\n",
            " 0.80630571 0.78422243 0.88772117 0.88678994 0.86377544 0.88752162\n",
            " 0.89011574 0.87441799 0.8677664  0.8677664  0.87601437 0.90740987\n",
            " 0.90887322 0.89610217 0.86098177 0.86470666 0.88000532 0.91246508\n",
            " 0.93734202 0.93667687 0.9744579  0.98589863 0.96767327 0.9627511\n",
            " 0.94425968 0.98084342 0.98603166 0.89957666 0.87511253 0.83423311\n",
            " 0.79144937 0.75109333 0.71413755 0.68074423 0.65069401 0.62350148\n",
            " 0.59855425 0.57524222 0.55304366 0.53156984 0.51057625 0.48995316\n",
            " 0.46969867 0.4498871  0.43063527 0.41207328 0.39432096 0.37747306\n",
            " 0.36159146 0.34670427 0.33280933 0.31987953]\n",
            "25 day output [[0.30787107]]\n",
            "26 day input [0.53039777 0.54649461 0.53970999 0.51177331 0.51975522 0.5878675\n",
            " 0.6251164  0.59545031 0.61234535 0.5820141  0.55421046 0.58041772\n",
            " 0.60862046 0.61394173 0.65198883 0.64068112 0.67260875 0.69761873\n",
            " 0.67832912 0.69296262 0.71052281 0.68431555 0.67593455 0.71744047\n",
            " 0.73859252 0.7723826  0.78927764 0.78209392 0.75721697 0.76918984\n",
            " 0.73420247 0.71783956 0.70852734 0.7811627  0.77650659 0.77677265\n",
            " 0.79326859 0.80870028 0.79566316 0.77397898 0.77810297 0.75735001\n",
            " 0.75721697 0.81907676 0.8359718  0.83477451 0.82080617 0.80630571\n",
            " 0.78422243 0.88772117 0.88678994 0.86377544 0.88752162 0.89011574\n",
            " 0.87441799 0.8677664  0.8677664  0.87601437 0.90740987 0.90887322\n",
            " 0.89610217 0.86098177 0.86470666 0.88000532 0.91246508 0.93734202\n",
            " 0.93667687 0.9744579  0.98589863 0.96767327 0.9627511  0.94425968\n",
            " 0.98084342 0.98603166 0.89957666 0.87511253 0.83423311 0.79144937\n",
            " 0.75109333 0.71413755 0.68074423 0.65069401 0.62350148 0.59855425\n",
            " 0.57524222 0.55304366 0.53156984 0.51057625 0.48995316 0.46969867\n",
            " 0.4498871  0.43063527 0.41207328 0.39432096 0.37747306 0.36159146\n",
            " 0.34670427 0.33280933 0.31987953 0.30787107]\n",
            "26 day output [[0.29672846]]\n",
            "27 day input [0.54649461 0.53970999 0.51177331 0.51975522 0.5878675  0.6251164\n",
            " 0.59545031 0.61234535 0.5820141  0.55421046 0.58041772 0.60862046\n",
            " 0.61394173 0.65198883 0.64068112 0.67260875 0.69761873 0.67832912\n",
            " 0.69296262 0.71052281 0.68431555 0.67593455 0.71744047 0.73859252\n",
            " 0.7723826  0.78927764 0.78209392 0.75721697 0.76918984 0.73420247\n",
            " 0.71783956 0.70852734 0.7811627  0.77650659 0.77677265 0.79326859\n",
            " 0.80870028 0.79566316 0.77397898 0.77810297 0.75735001 0.75721697\n",
            " 0.81907676 0.8359718  0.83477451 0.82080617 0.80630571 0.78422243\n",
            " 0.88772117 0.88678994 0.86377544 0.88752162 0.89011574 0.87441799\n",
            " 0.8677664  0.8677664  0.87601437 0.90740987 0.90887322 0.89610217\n",
            " 0.86098177 0.86470666 0.88000532 0.91246508 0.93734202 0.93667687\n",
            " 0.9744579  0.98589863 0.96767327 0.9627511  0.94425968 0.98084342\n",
            " 0.98603166 0.89957666 0.87511253 0.83423311 0.79144937 0.75109333\n",
            " 0.71413755 0.68074423 0.65069401 0.62350148 0.59855425 0.57524222\n",
            " 0.55304366 0.53156984 0.51057625 0.48995316 0.46969867 0.4498871\n",
            " 0.43063527 0.41207328 0.39432096 0.37747306 0.36159146 0.34670427\n",
            " 0.33280933 0.31987953 0.30787107 0.29672846]\n",
            "27 day output [[0.2863909]]\n",
            "28 day input [0.53970999 0.51177331 0.51975522 0.5878675  0.6251164  0.59545031\n",
            " 0.61234535 0.5820141  0.55421046 0.58041772 0.60862046 0.61394173\n",
            " 0.65198883 0.64068112 0.67260875 0.69761873 0.67832912 0.69296262\n",
            " 0.71052281 0.68431555 0.67593455 0.71744047 0.73859252 0.7723826\n",
            " 0.78927764 0.78209392 0.75721697 0.76918984 0.73420247 0.71783956\n",
            " 0.70852734 0.7811627  0.77650659 0.77677265 0.79326859 0.80870028\n",
            " 0.79566316 0.77397898 0.77810297 0.75735001 0.75721697 0.81907676\n",
            " 0.8359718  0.83477451 0.82080617 0.80630571 0.78422243 0.88772117\n",
            " 0.88678994 0.86377544 0.88752162 0.89011574 0.87441799 0.8677664\n",
            " 0.8677664  0.87601437 0.90740987 0.90887322 0.89610217 0.86098177\n",
            " 0.86470666 0.88000532 0.91246508 0.93734202 0.93667687 0.9744579\n",
            " 0.98589863 0.96767327 0.9627511  0.94425968 0.98084342 0.98603166\n",
            " 0.89957666 0.87511253 0.83423311 0.79144937 0.75109333 0.71413755\n",
            " 0.68074423 0.65069401 0.62350148 0.59855425 0.57524222 0.55304366\n",
            " 0.53156984 0.51057625 0.48995316 0.46969867 0.4498871  0.43063527\n",
            " 0.41207328 0.39432096 0.37747306 0.36159146 0.34670427 0.33280933\n",
            " 0.31987953 0.30787107 0.29672846 0.2863909 ]\n",
            "28 day output [[0.27679664]]\n",
            "29 day input [0.51177331 0.51975522 0.5878675  0.6251164  0.59545031 0.61234535\n",
            " 0.5820141  0.55421046 0.58041772 0.60862046 0.61394173 0.65198883\n",
            " 0.64068112 0.67260875 0.69761873 0.67832912 0.69296262 0.71052281\n",
            " 0.68431555 0.67593455 0.71744047 0.73859252 0.7723826  0.78927764\n",
            " 0.78209392 0.75721697 0.76918984 0.73420247 0.71783956 0.70852734\n",
            " 0.7811627  0.77650659 0.77677265 0.79326859 0.80870028 0.79566316\n",
            " 0.77397898 0.77810297 0.75735001 0.75721697 0.81907676 0.8359718\n",
            " 0.83477451 0.82080617 0.80630571 0.78422243 0.88772117 0.88678994\n",
            " 0.86377544 0.88752162 0.89011574 0.87441799 0.8677664  0.8677664\n",
            " 0.87601437 0.90740987 0.90887322 0.89610217 0.86098177 0.86470666\n",
            " 0.88000532 0.91246508 0.93734202 0.93667687 0.9744579  0.98589863\n",
            " 0.96767327 0.9627511  0.94425968 0.98084342 0.98603166 0.89957666\n",
            " 0.87511253 0.83423311 0.79144937 0.75109333 0.71413755 0.68074423\n",
            " 0.65069401 0.62350148 0.59855425 0.57524222 0.55304366 0.53156984\n",
            " 0.51057625 0.48995316 0.46969867 0.4498871  0.43063527 0.41207328\n",
            " 0.39432096 0.37747306 0.36159146 0.34670427 0.33280933 0.31987953\n",
            " 0.30787107 0.29672846 0.2863909  0.27679664]\n",
            "29 day output [[0.2678858]]\n",
            "[[0.8995766639709473], [0.8751125335693359], [0.8342331051826477], [0.7914493680000305], [0.751093327999115], [0.7141375541687012], [0.6807442307472229], [0.6506940126419067], [0.6235014796257019], [0.598554253578186], [0.5752422213554382], [0.5530436635017395], [0.5315698385238647], [0.5105762481689453], [0.4899531602859497], [0.4696986675262451], [0.44988709688186646], [0.4306352734565735], [0.4120732843875885], [0.3943209648132324], [0.37747305631637573], [0.3615914583206177], [0.34670427441596985], [0.33280932903289795], [0.31987953186035156], [0.3078710734844208], [0.2967284619808197], [0.28639090061187744], [0.2767966389656067], [0.26788580417633057]]\n"
          ]
        }
      ]
    },
    {
      "cell_type": "code",
      "source": [
        "day_new=np.arange(1,101)\n",
        "day_pred=np.arange(101,131)\n",
        "len(dataFrame)"
      ],
      "metadata": {
        "colab": {
          "base_uri": "https://localhost:8080/"
        },
        "id": "pwe3cwIC0z-y",
        "outputId": "442e5c9a-3a72-448f-8dfe-023ece49b563"
      },
      "execution_count": 64,
      "outputs": [
        {
          "output_type": "execute_result",
          "data": {
            "text/plain": [
              "690"
            ]
          },
          "metadata": {},
          "execution_count": 64
        }
      ]
    },
    {
      "cell_type": "code",
      "source": [
        "plt.plot(day_new,scaler.inverse_transform(dataFrame[590:]))\n",
        "plt.plot(day_pred,scaler.inverse_transform(lst_output))"
      ],
      "metadata": {
        "colab": {
          "base_uri": "https://localhost:8080/",
          "height": 448
        },
        "id": "mNNiq7Ox1AyA",
        "outputId": "52af547e-f152-4a4f-b187-fe5abfc383c2"
      },
      "execution_count": 68,
      "outputs": [
        {
          "output_type": "execute_result",
          "data": {
            "text/plain": [
              "[<matplotlib.lines.Line2D at 0x7f4578f6cbe0>]"
            ]
          },
          "metadata": {},
          "execution_count": 68
        },
        {
          "output_type": "display_data",
          "data": {
            "text/plain": [
              "<Figure size 640x480 with 1 Axes>"
            ],
            "image/png": "[encoded data removed]"
          },
          "metadata": {}
        }
      ]
    },
    {
      "cell_type": "code",
      "source": [
        "df = dataFrame.tolist()\n",
        "df.extend(lst_output)\n",
        "plt.plot(df[550:])"
      ],
      "metadata": {
        "colab": {
          "base_uri": "https://localhost:8080/",
          "height": 448
        },
        "id": "DBB1AG3a1x3Q",
        "outputId": "a63921b8-a791-486d-c33b-348c40052392"
      },
      "execution_count": 69,
      "outputs": [
        {
          "output_type": "execute_result",
          "data": {
            "text/plain": [
              "[<matplotlib.lines.Line2D at 0x7f457a6eb5b0>]"
            ]
          },
          "metadata": {},
          "execution_count": 69
        },
        {
          "output_type": "display_data",
          "data": {
            "text/plain": [
              "<Figure size 640x480 with 1 Axes>"
            ],
            "image/png": "[encoded data removed]"
          },
          "metadata": {}
        }
      ]
    },
    {
      "cell_type": "code",
      "source": [
        "df = scaler.inverse_transform(df).tolist()\n",
        "plt.plot(df)"
      ],
      "metadata": {
        "colab": {
          "base_uri": "https://localhost:8080/",
          "height": 448
        },
        "id": "kEJZ8B9A17MW",
        "outputId": "f1e7bd0a-4ea9-4786-dcba-9063f5ff8c9c"
      },
      "execution_count": 70,
      "outputs": [
        {
          "output_type": "execute_result",
          "data": {
            "text/plain": [
              "[<matplotlib.lines.Line2D at 0x7f457a78be50>]"
            ]
          },
          "metadata": {},
          "execution_count": 70
        },
        {
          "output_type": "display_data",
          "data": {
            "text/plain": [
              "<Figure size 640x480 with 1 Axes>"
            ],
            "image/png": "[encoded data removed]"
          },
          "metadata": {}
        }
      ]
    }
  ]
}