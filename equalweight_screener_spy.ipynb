{
  "nbformat": 4,
  "nbformat_minor": 0,
  "metadata": {
    "colab": {
      "provenance": [],
      "authorship_tag": "ABX9TyONFy9Au9tkqTZC+NP4h6hB",
      "include_colab_link": true
    },
    "kernelspec": {
      "name": "python3",
      "display_name": "Python 3"
    },
    "language_info": {
      "name": "python"
    }
  },
  "cells": [
    {
      "cell_type": "markdown",
      "metadata": {
        "id": "view-in-github",
        "colab_type": "text"
      },
      "source": [
        "<a href=\"https://colab.research.google.com/github/arnavkhurma/Finance-Related-Projects/blob/main/equalweight_screener_spy.ipynb\" target=\"_parent\"><img src=\"https://colab.research.google.com/assets/colab-badge.svg\" alt=\"Open In Colab\"/></a>"
      ]
    },
    {
      "cell_type": "markdown",
      "source": [
        "# Equal Weight S&P500 Screener\n",
        "The S&P500 IS A capitalization-weighted index. This means that larger market caps are accorded higher index weights than companies with lower market caps. An un-weighted capitalization index, however, means that each member of the index fund is weighted equally, at 0.2% (0.2 * 500 = 100)"
      ],
      "metadata": {
        "id": "i6dAetvr9Na9"
      }
    },
    {
      "cell_type": "code",
      "execution_count": null,
      "metadata": {
        "id": "5bPb2Zbr8w0I"
      },
      "outputs": [],
      "source": []
    }
  ]
}